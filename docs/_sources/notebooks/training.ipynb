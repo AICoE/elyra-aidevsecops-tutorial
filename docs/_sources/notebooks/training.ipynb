{
 "cells": [
  {
   "cell_type": "markdown",
   "metadata": {
    "papermill": {
     "duration": 0.022136,
     "end_time": "2021-02-03T13:27:33.986566",
     "exception": false,
     "start_time": "2021-02-03T13:27:33.964430",
     "status": "completed"
    },
    "tags": []
   },
   "source": [
    "# Training model"
   ]
  },
  {
   "cell_type": "markdown",
   "metadata": {
    "papermill": {
     "duration": 0.018835,
     "end_time": "2021-02-03T13:27:34.025541",
     "exception": false,
     "start_time": "2021-02-03T13:27:34.006706",
     "status": "completed"
    },
    "tags": []
   },
   "source": [
    "## Import libraries"
   ]
  },
  {
   "cell_type": "code",
   "execution_count": 1,
   "metadata": {
    "papermill": {
     "duration": 2.822829,
     "end_time": "2021-02-03T13:27:36.868108",
     "exception": false,
     "start_time": "2021-02-03T13:27:34.045279",
     "status": "completed"
    },
    "tags": []
   },
   "outputs": [],
   "source": [
    "import boto3\n",
    "import os\n",
    "import tensorflow as tf\n",
    "import numpy as np\n",
    "\n",
    "# import pickle\n",
    "\n",
    "from pathlib import Path\n",
    "\n",
    "# Importing the required Keras modules containing model and layers\n",
    "from tensorflow.keras.models import Sequential\n",
    "from tensorflow.keras.layers import (\n",
    "    Dense,\n",
    "    Conv2D,\n",
    "    Dropout,\n",
    "    Flatten,\n",
    "    MaxPooling2D,\n",
    ")\n",
    "\n",
    "import matplotlib.pyplot as plt\n",
    "import random\n",
    "\n",
    "from datetime import datetime"
   ]
  },
  {
   "cell_type": "markdown",
   "metadata": {
    "papermill": {
     "duration": 0.020915,
     "end_time": "2021-02-03T13:27:36.912986",
     "exception": false,
     "start_time": "2021-02-03T13:27:36.892071",
     "status": "completed"
    },
    "tags": []
   },
   "source": [
    "## Load data"
   ]
  },
  {
   "cell_type": "code",
   "execution_count": 2,
   "metadata": {
    "papermill": {
     "duration": 0.0992,
     "end_time": "2021-02-03T13:27:37.033604",
     "exception": false,
     "start_time": "2021-02-03T13:27:36.934404",
     "status": "completed"
    },
    "tags": []
   },
   "outputs": [],
   "source": [
    "from tensorflow.keras.datasets import mnist as tf_dataset\n",
    "\n",
    "# Prepare MNIST data.\n",
    "(x_train, y_train), (x_test, y_test) = tf_dataset.load_data()\n",
    "\n",
    "use_ceph = os.getenv(\"USE_CEPH\", False)\n",
    "\n",
    "project_name = os.environ.get(\"PROJECT_NAME\", \"elyra-aidevsecops-tutorial\")\n",
    "\n",
    "# # Path to data\n",
    "# directory_path = Path.cwd().parents[0]\n",
    "# raw_dataset_path = directory_path.joinpath(\n",
    "#     str(os.environ.get(\"RAW_DATASET\", \"data/raw\"))\n",
    "# )\n",
    "\n",
    "# if use_ceph:\n",
    "#     # Download files from S3\n",
    "#     s3_endpoint_url = os.environ[\"OBJECT_STORAGE_ENDPOINT_URL\"]\n",
    "#     s3_access_key = os.environ[\"AWS_ACCESS_KEY_ID\"]\n",
    "#     s3_secret_key = os.environ[\"AWS_SECRET_ACCESS_KEY\"]\n",
    "#     s3_bucket = os.environ[\"OBJECT_STORAGE_BUCKET_NAME\"]\n",
    "\n",
    "\n",
    "#     # Create an S3 client\n",
    "#     s3 = boto3.client(\n",
    "#         service_name=\"s3\",\n",
    "#         aws_access_key_id=s3_access_key,\n",
    "#         aws_secret_access_key=s3_secret_key,\n",
    "#         endpoint_url=s3_endpoint_url,\n",
    "#     )\n",
    "\n",
    "#     key = f\"{project_name}/data/raw/xdata.pkl\"\n",
    "#     filename_path = str(f\"{raw_dataset_path}/xdata.pkl\")\n",
    "#     print(f\"Downloading {key} into {filename_path}\")\n",
    "#     s3.download_file(Bucket=s3_bucket, Key=key, Filename=filename_path)\n",
    "\n",
    "#     key = f\"{project_name}/data/raw/ydata.pkl\"\n",
    "#     filename_path = str(f\"{raw_dataset_path}/ydata.pkl\")\n",
    "#     print(f\"Downloading {key} into {filename_path}\")\n",
    "#     s3.download_file(Bucket=s3_bucket, Key=key, Filename=filename_path)\n",
    "\n",
    "#     key = f\"{project_name}/data/raw/xtestdata.pkl\"\n",
    "#     filename_path = str(f\"{raw_dataset_path}/xtestdata.pkl\")\n",
    "#     print(f\"Downloading {key} into {filename_path}\")\n",
    "#     s3.download_file(Bucket=s3_bucket, Key=key, Filename=filename_path)\n",
    "\n",
    "#     key = f\"{project_name}/data/raw/ytestdata.pkl\"\n",
    "#     filename_path = str(f\"{raw_dataset_path}/ytestdata.pkl\")\n",
    "#     print(f\"Downloading {key} into {filename_path}\")\n",
    "#     s3.download_file(Bucket=s3_bucket, Key=key, Filename=filename_path)\n",
    "\n",
    "\n",
    "# pkl_file = open(f\"{raw_dataset_path}/xdata.pkl\", \"rb\")\n",
    "# x_train = pickle.load(pkl_file)\n",
    "# pkl_file.close()\n",
    "\n",
    "# pkly_file = open(f\"{raw_dataset_path}/ydata.pkl\", \"rb\")\n",
    "# y_train = pickle.load(pkly_file)\n",
    "# pkly_file.close()\n",
    "\n",
    "# pklxtest_file = open(f\"{raw_dataset_path}/xtestdata.pkl\", \"rb\")\n",
    "# x_test = pickle.load(pklxtest_file)\n",
    "# pklxtest_file.close()\n",
    "\n",
    "# pklytest_file = open(f\"{raw_dataset_path}/ytestdata.pkl\", \"rb\")\n",
    "# y_test = pickle.load(pklytest_file)\n",
    "# pklytest_file.close()"
   ]
  },
  {
   "cell_type": "markdown",
   "metadata": {
    "papermill": {
     "duration": 0.021457,
     "end_time": "2021-02-03T13:27:37.078460",
     "exception": false,
     "start_time": "2021-02-03T13:27:37.057003",
     "status": "completed"
    },
    "tags": []
   },
   "source": [
    "## Set parameters"
   ]
  },
  {
   "cell_type": "code",
   "execution_count": 3,
   "metadata": {
    "papermill": {
     "duration": 0.031268,
     "end_time": "2021-02-03T13:27:37.130774",
     "exception": false,
     "start_time": "2021-02-03T13:27:37.099506",
     "status": "completed"
    },
    "tags": []
   },
   "outputs": [],
   "source": [
    "# MNIST dataset parameters.\n",
    "num_classes = 10  # total classes (0-9 digits).\n",
    "\n",
    "# Training parameters.\n",
    "batch_size = 128\n",
    "display_step = 10\n",
    "\n",
    "# Network parameters.\n",
    "conv1_filters = 32  # number of filters for 1st conv layer.\n",
    "conv2_filters = 64  # number of filters for 2nd conv layer.\n",
    "fc1_units = 1024  # number of neurons for 1st fully-connected layer."
   ]
  },
  {
   "cell_type": "markdown",
   "metadata": {
    "papermill": {
     "duration": 0.022993,
     "end_time": "2021-02-03T13:27:37.177673",
     "exception": false,
     "start_time": "2021-02-03T13:27:37.154680",
     "status": "completed"
    },
    "tags": []
   },
   "source": [
    "## Split Data into Train and Test sets"
   ]
  },
  {
   "cell_type": "code",
   "execution_count": 4,
   "metadata": {
    "papermill": {
     "duration": 0.20396,
     "end_time": "2021-02-03T13:27:37.405097",
     "exception": false,
     "start_time": "2021-02-03T13:27:37.201137",
     "status": "completed"
    },
    "tags": []
   },
   "outputs": [
    {
     "name": "stdout",
     "output_type": "stream",
     "text": [
      "x_train shape: (60000, 28, 28, 1)\n",
      "Number of images in x_train 60000\n",
      "Number of images in x_test 10000\n"
     ]
    }
   ],
   "source": [
    "# Prepare MNIST data.\n",
    "# from tensorflow.keras.datasets import mnist\n",
    "# (x_train, y_train), (x_test, y_test) = mnist.load_data()\n",
    "\n",
    "# Convert to float32.\n",
    "x_train, x_test = np.array(x_train, np.float32), np.array(x_test, np.float32)\n",
    "# Normalize images value from [0, 255] to [0, 1].\n",
    "x_train, x_test = x_train / 255.0, x_test / 255.0\n",
    "\n",
    "# Reshaping the array to 4-dims so that it can work with the Keras API\n",
    "x_train = x_train.reshape(x_train.shape[0], 28, 28, 1)\n",
    "x_test = x_test.reshape(x_test.shape[0], 28, 28, 1)\n",
    "\n",
    "print(\"x_train shape:\", x_train.shape)\n",
    "print(\"Number of images in x_train\", x_train.shape[0])\n",
    "print(\"Number of images in x_test\", x_test.shape[0])"
   ]
  },
  {
   "cell_type": "markdown",
   "metadata": {
    "papermill": {
     "duration": 0.022834,
     "end_time": "2021-02-03T13:27:37.477155",
     "exception": false,
     "start_time": "2021-02-03T13:27:37.454321",
     "status": "completed"
    },
    "tags": []
   },
   "source": [
    "## Create CNN Model"
   ]
  },
  {
   "cell_type": "code",
   "execution_count": 5,
   "metadata": {
    "papermill": {
     "duration": 0.167411,
     "end_time": "2021-02-03T13:27:37.667600",
     "exception": false,
     "start_time": "2021-02-03T13:27:37.500189",
     "status": "completed"
    },
    "tags": []
   },
   "outputs": [],
   "source": [
    "input_shape = (28, 28, 1)\n",
    "\n",
    "# Creating a Sequential Model and adding the layers\n",
    "conv_net = Sequential()\n",
    "conv_net.add(\n",
    "    Conv2D(\n",
    "        conv1_filters,\n",
    "        kernel_size=(5, 5),\n",
    "        padding=\"same\",\n",
    "        activation=\"relu\",\n",
    "        input_shape=input_shape,\n",
    "    )\n",
    ")\n",
    "conv_net.add(MaxPooling2D(pool_size=(2, 2)))\n",
    "conv_net.add(\n",
    "    Conv2D(\n",
    "        conv2_filters, kernel_size=(3, 3), padding=\"same\", activation=\"relu\"\n",
    "    )\n",
    ")\n",
    "conv_net.add(MaxPooling2D(pool_size=(2, 2)))\n",
    "conv_net.add(Flatten())  # Flattening the 2D arrays for fully connected layers\n",
    "conv_net.add(Dense(fc1_units, activation=tf.nn.relu))\n",
    "conv_net.add(Dropout(0.5))\n",
    "conv_net.add(Dense(num_classes, activation=tf.nn.softmax))"
   ]
  },
  {
   "cell_type": "markdown",
   "metadata": {
    "papermill": {
     "duration": 0.022718,
     "end_time": "2021-02-03T13:27:37.714706",
     "exception": false,
     "start_time": "2021-02-03T13:27:37.691988",
     "status": "completed"
    },
    "tags": []
   },
   "source": [
    "## Compiling and Fitting the Model"
   ]
  },
  {
   "cell_type": "code",
   "execution_count": 6,
   "metadata": {
    "papermill": {
     "duration": null,
     "end_time": null,
     "exception": false,
     "start_time": "2021-02-03T13:27:37.738194",
     "status": "running"
    },
    "tags": []
   },
   "outputs": [
    {
     "name": "stdout",
     "output_type": "stream",
     "text": [
      "Epoch 1/10\n",
      "1875/1875 [==============================] - 59s 31ms/step - loss: 0.2578 - accuracy: 0.9182\n",
      "Epoch 2/10\n",
      "1875/1875 [==============================] - 59s 31ms/step - loss: 0.0490 - accuracy: 0.9856\n",
      "Epoch 3/10\n",
      "1875/1875 [==============================] - 59s 31ms/step - loss: 0.0335 - accuracy: 0.9899\n",
      "Epoch 4/10\n",
      "1875/1875 [==============================] - 59s 32ms/step - loss: 0.0222 - accuracy: 0.9930\n",
      "Epoch 5/10\n",
      "1875/1875 [==============================] - 59s 32ms/step - loss: 0.0192 - accuracy: 0.9944\n",
      "Epoch 6/10\n",
      "1875/1875 [==============================] - 59s 32ms/step - loss: 0.0174 - accuracy: 0.9943\n",
      "Epoch 7/10\n",
      "1875/1875 [==============================] - 59s 32ms/step - loss: 0.0155 - accuracy: 0.9950\n",
      "Epoch 8/10\n",
      "1875/1875 [==============================] - 59s 32ms/step - loss: 0.0132 - accuracy: 0.9956\n",
      "Epoch 9/10\n",
      "1875/1875 [==============================] - 60s 32ms/step - loss: 0.0118 - accuracy: 0.9962\n",
      "Epoch 10/10\n",
      "1875/1875 [==============================] - 59s 32ms/step - loss: 0.0101 - accuracy: 0.9965\n"
     ]
    },
    {
     "data": {
      "text/plain": [
       "<tensorflow.python.keras.callbacks.History at 0x7fe60af142b0>"
      ]
     },
     "execution_count": 6,
     "metadata": {},
     "output_type": "execute_result"
    }
   ],
   "source": [
    "conv_net.compile(\n",
    "    optimizer=\"adam\",\n",
    "    loss=\"sparse_categorical_crossentropy\",\n",
    "    metrics=[\"accuracy\"],\n",
    ")\n",
    "conv_net.fit(x=x_train, y=y_train, epochs=10)"
   ]
  },
  {
   "cell_type": "code",
   "execution_count": 7,
   "metadata": {
    "papermill": {
     "duration": null,
     "end_time": null,
     "exception": null,
     "start_time": null,
     "status": "pending"
    },
    "tags": []
   },
   "outputs": [
    {
     "name": "stdout",
     "output_type": "stream",
     "text": [
      "313/313 [==============================] - 3s 8ms/step - loss: 0.0349 - accuracy: 0.9928\n"
     ]
    },
    {
     "data": {
      "text/plain": [
       "[0.03490927815437317, 0.9927999973297119]"
      ]
     },
     "execution_count": 7,
     "metadata": {},
     "output_type": "execute_result"
    }
   ],
   "source": [
    "conv_net.evaluate(x_test, y_test)"
   ]
  },
  {
   "cell_type": "markdown",
   "metadata": {
    "papermill": {
     "duration": null,
     "end_time": null,
     "exception": null,
     "start_time": null,
     "status": "pending"
    },
    "tags": []
   },
   "source": [
    "## Test the model"
   ]
  },
  {
   "cell_type": "code",
   "execution_count": 8,
   "metadata": {
    "papermill": {
     "duration": null,
     "end_time": null,
     "exception": null,
     "start_time": null,
     "status": "pending"
    },
    "tags": []
   },
   "outputs": [
    {
     "data": {
      "image/png": "[encoded data removed]",
      "text/plain": [
       "<Figure size 432x288 with 1 Axes>"
      ]
     },
     "metadata": {
      "needs_background": "light"
     },
     "output_type": "display_data"
    },
    {
     "name": "stdout",
     "output_type": "stream",
     "text": [
      "Model prediction: 7\n"
     ]
    },
    {
     "data": {
      "image/png": "[encoded data removed]",
      "text/plain": [
       "<Figure size 432x288 with 1 Axes>"
      ]
     },
     "metadata": {
      "needs_background": "light"
     },
     "output_type": "display_data"
    },
    {
     "name": "stdout",
     "output_type": "stream",
     "text": [
      "Model prediction: 2\n"
     ]
    },
    {
     "data": {
      "image/png": "[encoded data removed]",
      "text/plain": [
       "<Figure size 432x288 with 1 Axes>"
      ]
     },
     "metadata": {
      "needs_background": "light"
     },
     "output_type": "display_data"
    },
    {
     "name": "stdout",
     "output_type": "stream",
     "text": [
      "Model prediction: 1\n"
     ]
    },
    {
     "data": {
      "image/png": "[encoded data removed]",
      "text/plain": [
       "<Figure size 432x288 with 1 Axes>"
      ]
     },
     "metadata": {
      "needs_background": "light"
     },
     "output_type": "display_data"
    },
    {
     "name": "stdout",
     "output_type": "stream",
     "text": [
      "Model prediction: 0\n"
     ]
    },
    {
     "data": {
      "image/png": "[encoded data removed]",
      "text/plain": [
       "<Figure size 432x288 with 1 Axes>"
      ]
     },
     "metadata": {
      "needs_background": "light"
     },
     "output_type": "display_data"
    },
    {
     "name": "stdout",
     "output_type": "stream",
     "text": [
      "Model prediction: 4\n"
     ]
    }
   ],
   "source": [
    "# Visualize predictions.\n",
    "\n",
    "n_images = 5\n",
    "\n",
    "# Display image and model prediction.\n",
    "for i in range(n_images):\n",
    "    plt.imshow(x_test[i], cmap=\"gray\")\n",
    "    plt.show()\n",
    "\n",
    "    prediction = conv_net.predict(x_test[i].reshape(1, 28, 28, 1))\n",
    "    print(\"Model prediction: %i\" % prediction.argmax())"
   ]
  },
  {
   "cell_type": "markdown",
   "metadata": {
    "papermill": {
     "duration": null,
     "end_time": null,
     "exception": null,
     "start_time": null,
     "status": "pending"
    },
    "tags": []
   },
   "source": [
    "## Save model"
   ]
  },
  {
   "cell_type": "code",
   "execution_count": 9,
   "metadata": {
    "papermill": {
     "duration": null,
     "end_time": null,
     "exception": null,
     "start_time": null,
     "status": "pending"
    },
    "tags": []
   },
   "outputs": [
    {
     "name": "stdout",
     "output_type": "stream",
     "text": [
      "INFO:tensorflow:Assets written to: /opt/app-root/src/elyra-aidevsecops-tutorial/models/210520190042-bfcc86125b2d9fd7/assets\n"
     ]
    }
   ],
   "source": [
    "# Save the model to file\n",
    "# Fetch the Keras session and save the model\n",
    "\n",
    "time_version = f\"{datetime.now():%y%m%d%H%M%S}-{random.getrandbits(64):08x}\"\n",
    "\n",
    "# Path to data\n",
    "directory_path = Path.cwd().parents[0]\n",
    "trained_model_path = directory_path.joinpath(\n",
    "    str(os.environ.get(\"TRAINED_MODEL_PATH\", \"models\"))\n",
    ")\n",
    "\n",
    "tf.keras.models.save_model(\n",
    "    conv_net,\n",
    "    f\"{trained_model_path}/{time_version}/\",\n",
    "    overwrite=True,\n",
    "    include_optimizer=True,\n",
    "    save_format=None,\n",
    "    signatures=None,\n",
    "    options=None,\n",
    ")\n",
    "\n",
    "if use_ceph:\n",
    "    # Download files from S3\n",
    "    s3_endpoint_url = os.environ[\"OBJECT_STORAGE_ENDPOINT_URL\"]\n",
    "    s3_access_key = os.environ[\"AWS_ACCESS_KEY_ID\"]\n",
    "    s3_secret_key = os.environ[\"AWS_SECRET_ACCESS_KEY\"]\n",
    "    s3_bucket = os.environ[\"OBJECT_STORAGE_BUCKET_NAME\"]\n",
    "\n",
    "    # Create an S3 client\n",
    "    s3 = boto3.client(\n",
    "        service_name=\"s3\",\n",
    "        aws_access_key_id=s3_access_key,\n",
    "        aws_secret_access_key=s3_secret_key,\n",
    "        endpoint_url=s3_endpoint_url,\n",
    "    )\n",
    "\n",
    "    p = Path(f\"{trained_model_path}/{time_version}/\")\n",
    "    for child in p.rglob(\"*\"):\n",
    "        if not child.is_dir():\n",
    "            store_file_path = str(child).split(str(trained_model_path))[1]\n",
    "            key = f\"{project_name}/models{store_file_path}\"\n",
    "            print(key)\n",
    "            s3.upload_file(Bucket=s3_bucket, Key=key, Filename=str(child))"
   ]
  }
 ],
 "metadata": {
  "kernelspec": {
   "display_name": "Python (jupyterlab-requirements)",
   "language": "python",
   "name": "jupyterlab-requirements"
  },
  "language_info": {
   "codemirror_mode": {
    "name": "ipython",
    "version": 3
   },
   "file_extension": ".py",
   "mimetype": "text/x-python",
   "name": "python",
   "nbconvert_exporter": "python",
   "pygments_lexer": "ipython3",
   "version": "3.8.3"
  },
  "papermill": {
   "default_parameters": {},
   "duration": null,
   "end_time": null,
   "environment_variables": {},
   "exception": null,
   "input_path": "/opt/app-root/src/elyra-aidevsecops-tutorial/notebooks/training.ipynb",
   "output_path": "/opt/app-root/src/elyra-aidevsecops-tutorial/notebooks/training.ipynb",
   "parameters": {},
   "start_time": "2021-02-03T13:27:32.988886",
   "version": "2.2.0"
  },
  "requirements": "{\"packages\":{\"tensorflow\":\"*\",\"numpy\":\"*\",\"matplotlib\":\"*\",\"boto3\":\"*\"},\"requires\":{\"python_version\":\"3.8\"},\"sources\":[{\"name\":\"pypi\",\"url\":\"https://pypi.org/simple\",\"verify_ssl\":true}]}",
  "requirements_lock": "{\"_meta\":{\"sources\":[{\"url\":\"https://pypi.org/simple\",\"verify_ssl\":true,\"name\":\"pypi\"}],\"requires\":{\"python_version\":\"3.8\"},\"hash\":{\"sha256\":\"cf1a0305302ea4f64fa7028564bd61aa2596a71839b883bb797d1158bea9d7a4\"},\"pipfile-spec\":6},\"default\":{\"absl-py\":{\"version\":\"==0.11.0\",\"hashes\":[\"sha256:673cccb88d810e5627d0c1c818158485d106f65a583880e2f730c997399bcfa7\",\"sha256:b3d9eb5119ff6e0a0125f6dabf2f9fae02f8acae7be70576002fac27235611c5\"]},\"astunparse\":{\"version\":\"==1.6.3\",\"hashes\":[\"sha256:5ad93a8456f0d084c3456d059fd9a92cce667963232cbf763eac3bc5b7940872\",\"sha256:c2652417f2c8b5bb325c885ae329bdf3f86424075c4fd1a128674bc6fba4b8e8\"]},\"boto3\":{\"version\":\"==1.17.6\",\"hashes\":[\"sha256:bb2e16b0b8c13d47bc5d7b64a90bfa1310f4f2b524bdd3dcfe9237ddf243554d\",\"sha256:f9d940f40c0302493466a20e716a23fa942b8e865dda4ebbca5e4fa3f5ca9635\"],\"index\":\"pypi\"},\"botocore\":{\"version\":\"==1.20.6\",\"hashes\":[\"sha256:39832e4732fcdc897e1b1a50474251c7d3218029a902634a876364c223ca2432\",\"sha256:7d04cd042ac01e08463dcbe520835d02f414ba431a43e4b4035bd2d0531b66a0\"],\"markers\":\"python_version >= '2.7' and python_version not in '3.0, 3.1, 3.2, 3.3, 3.4, 3.5'\"},\"cachetools\":{\"version\":\"==4.2.1\",\"hashes\":[\"sha256:1d9d5f567be80f7c07d765e21b814326d78c61eb0c3a637dffc0e5d1796cb2e2\",\"sha256:f469e29e7aa4cff64d8de4aad95ce76de8ea1125a16c68e0d93f65c3c3dc92e9\"],\"markers\":\"python_version ~= '3.5'\"},\"certifi\":{\"version\":\"==2020.12.5\",\"hashes\":[\"sha256:1a4995114262bffbc2413b159f2a1a480c969de6e6eb13ee966d470af86af59c\",\"sha256:719a74fb9e33b9bd44cc7f3a8d94bc35e4049deebe19ba7d8e108280cfd59830\"]},\"chardet\":{\"version\":\"==4.0.0\",\"hashes\":[\"sha256:0d6f53a15db4120f2b08c94f11e7d93d2c911ee118b6b30a04ec3ee8310179fa\",\"sha256:f864054d66fd9118f2e67044ac8981a54775ec5b67aed0441892edb553d21da5\"],\"markers\":\"python_version >= '2.7' and python_version not in '3.0, 3.1, 3.2, 3.3, 3.4'\"},\"cycler\":{\"version\":\"==0.10.0\",\"hashes\":[\"sha256:1d8a5ae1ff6c5cf9b93e8811e581232ad8920aeec647c37316ceac982b08cb2d\",\"sha256:cd7b2d1018258d7247a71425e9f26463dfb444d411c39569972f4ce586b0c9d8\"]},\"flatbuffers\":{\"version\":\"==1.12\",\"hashes\":[\"sha256:63bb9a722d5e373701913e226135b28a6f6ac200d5cc7b4d919fa38d73b44610\",\"sha256:9e9ef47fa92625c4721036e7c4124182668dc6021d9e7c73704edd395648deb9\"]},\"gast\":{\"version\":\"==0.3.3\",\"hashes\":[\"sha256:8f46f5be57ae6889a4e16e2ca113b1703ef17f2b0abceb83793eaba9e1351a45\",\"sha256:b881ef288a49aa81440d2c5eb8aeefd4c2bb8993d5f50edae7413a85bfdb3b57\"],\"markers\":\"python_version >= '2.7' and python_version not in '3.0, 3.1, 3.2, 3.3'\"},\"google-auth\":{\"version\":\"==1.26.1\",\"hashes\":[\"sha256:1b461d079b5650efe492a7814e95c536ffa9e7a96e39a6d16189c1604f18554f\",\"sha256:8ce6862cf4e9252de10045f05fa80393fde831da9c2b45c39288edeee3cde7f2\"],\"markers\":\"python_version >= '2.7' and python_version not in '3.0, 3.1, 3.2, 3.3, 3.4, 3.5'\"},\"google-auth-oauthlib\":{\"version\":\"==0.4.2\",\"hashes\":[\"sha256:65b65bc39ad8cab15039b35e5898455d3d66296d0584d96fe0e79d67d04c51d9\",\"sha256:d4d98c831ea21d574699978827490a41b94f05d565c617fe1b420e88f1fc8d8d\"],\"markers\":\"python_version >= '3.6'\"},\"google-pasta\":{\"version\":\"==0.2.0\",\"hashes\":[\"sha256:4612951da876b1a10fe3960d7226f0c7682cf901e16ac06e473b267a5afa8954\",\"sha256:b32482794a366b5366a32c92a9a9201b107821889935a02b3e51f6b432ea84ed\",\"sha256:c9f2c8dfc8f96d0d5808299920721be30c9eec37f2389f28904f454565c8a16e\"]},\"grpcio\":{\"version\":\"==1.32.0\",\"hashes\":[\"sha256:01d3046fe980be25796d368f8fc5ff34b7cf5e1444f3789a017a7fe794465639\",\"sha256:07b430fa68e5eecd78e2ad529ab80f6a234b55fc1b675fe47335ccbf64c6c6c8\",\"sha256:0e3edd8cdb71809d2455b9dbff66b4dd3d36c321e64bfa047da5afdfb0db332b\",\"sha256:0f3f09269ffd3fded430cd89ba2397eabbf7e47be93983b25c187cdfebb302a7\",\"sha256:1376a60f9bfce781b39973f100b5f67e657b5be479f2fd8a7d2a408fc61c085c\",\"sha256:14c0f017bfebbc18139551111ac58ecbde11f4bc375b73a53af38927d60308b6\",\"sha256:182c64ade34c341398bf71ec0975613970feb175090760ab4f51d1e9a5424f05\",\"sha256:1ada89326a364a299527c7962e5c362dbae58c67b283fe8383c4d952b26565d5\",\"sha256:1ce6f5ff4f4a548c502d5237a071fa617115df58ea4b7bd41dac77c1ab126e9c\",\"sha256:1d384a61f96a1fc6d5d3e0b62b0a859abc8d4c3f6d16daba51ebf253a3e7df5d\",\"sha256:25959a651420dd4a6fd7d3e8dee53f4f5fd8c56336a64963428e78b276389a59\",\"sha256:28677f057e2ef11501860a7bc15de12091d40b95dd0fddab3c37ff1542e6b216\",\"sha256:378fe80ec5d9353548eb2a8a43ea03747a80f2e387c4f177f2b3ff6c7d898753\",\"sha256:3afb058b6929eba07dba9ae6c5b555aa1d88cb140187d78cc510bd72d0329f28\",\"sha256:4396b1d0f388ae875eaf6dc05cdcb612c950fd9355bc34d38b90aaa0665a0d4b\",\"sha256:4775bc35af9cd3b5033700388deac2e1d611fa45f4a8dcb93667d94cb25f0444\",\"sha256:5bddf9d53c8df70061916c3bfd2f468ccf26c348bb0fb6211531d895ed5e4c72\",\"sha256:6d869a3e8e62562b48214de95e9231c97c53caa7172802236cd5d60140d7cddd\",\"sha256:6f7947dad606c509d067e5b91a92b250aa0530162ab99e4737090f6b17eb12c4\",\"sha256:7cda998b7b551503beefc38db9be18c878cfb1596e1418647687575cdefa9273\",\"sha256:99bac0e2c820bf446662365df65841f0c2a55b0e2c419db86eaf5d162ddae73e\",\"sha256:9c0d8f2346c842088b8cbe3e14985b36e5191a34bf79279ba321a4bf69bd88b7\",\"sha256:a8004b34f600a8a51785e46859cd88f3386ef67cccd1cfc7598e3d317608c643\",\"sha256:ac7028d363d2395f3d755166d0161556a3f99500a5b44890421ccfaaf2aaeb08\",\"sha256:be98e3198ec765d0a1e27f69d760f69374ded8a33b953dcfe790127731f7e690\",\"sha256:c31e8a219650ddae1cd02f5a169e1bffe66a429a8255d3ab29e9363c73003b62\",\"sha256:c4966d746dccb639ef93f13560acbe9630681c07f2b320b7ec03fe2c8f0a1f15\",\"sha256:c58825a3d8634cd634d8f869afddd4d5742bdb59d594aea4cea17b8f39269a55\",\"sha256:ce617e1c4a39131f8527964ac9e700eb199484937d7a0b3e52655a3ba50d5fb9\",\"sha256:e28e4c0d4231beda5dee94808e3a224d85cbaba3cfad05f2192e6f4ec5318053\",\"sha256:e467af6bb8f5843f5a441e124b43474715cfb3981264e7cd227343e826dcc3ce\",\"sha256:e6786f6f7be0937614577edcab886ddce91b7c1ea972a07ef9972e9f9ecbbb78\",\"sha256:e811ce5c387256609d56559d944a974cc6934a8eea8c76e7c86ec388dc06192d\",\"sha256:ec10d5f680b8e95a06f1367d73c5ddcc0ed04a3f38d6e4c9346988fb0cea2ffa\",\"sha256:ef9bd7fdfc0a063b4ed0efcab7906df5cae9bbcf79d05c583daa2eba56752b00\",\"sha256:f03dfefa9075dd1c6c5cc27b1285c521434643b09338d8b29e1d6a27b386aa82\",\"sha256:f12900be4c3fd2145ba94ab0d80b7c3d71c9e6414cfee2f31b1c20188b5c281f\",\"sha256:f53f2dfc8ff9a58a993e414a016c8b21af333955ae83960454ad91798d467c7b\",\"sha256:f7d508691301027033215d3662dab7e178f54d5cca2329f26a71ae175d94b83f\"]},\"h5py\":{\"version\":\"==2.10.0\",\"hashes\":[\"sha256:063947eaed5f271679ed4ffa36bb96f57bc14f44dd4336a827d9a02702e6ce6b\",\"sha256:13c87efa24768a5e24e360a40e0bc4c49bcb7ce1bb13a3a7f9902cec302ccd36\",\"sha256:16ead3c57141101e3296ebeed79c9c143c32bdd0e82a61a2fc67e8e6d493e9d1\",\"sha256:3dad1730b6470fad853ef56d755d06bb916ee68a3d8272b3bab0c1ddf83bb99e\",\"sha256:51ae56894c6c93159086ffa2c94b5b3388c0400548ab26555c143e7cfa05b8e5\",\"sha256:54817b696e87eb9e403e42643305f142cd8b940fe9b3b490bbf98c3b8a894cf4\",\"sha256:549ad124df27c056b2e255ea1c44d30fb7a17d17676d03096ad5cd85edb32dc1\",\"sha256:64f74da4a1dd0d2042e7d04cf8294e04ddad686f8eba9bb79e517ae582f6668d\",\"sha256:6998be619c695910cb0effe5eb15d3a511d3d1a5d217d4bd0bebad1151ec2262\",\"sha256:6ef7ab1089e3ef53ca099038f3c0a94d03e3560e6aff0e9d6c64c55fb13fc681\",\"sha256:769e141512b54dee14ec76ed354fcacfc7d97fea5a7646b709f7400cf1838630\",\"sha256:79b23f47c6524d61f899254f5cd5e486e19868f1823298bc0c29d345c2447172\",\"sha256:7be5754a159236e95bd196419485343e2b5875e806fe68919e087b6351f40a70\",\"sha256:84412798925dc870ffd7107f045d7659e60f5d46d1c70c700375248bf6bf512d\",\"sha256:86868dc07b9cc8cb7627372a2e6636cdc7a53b7e2854ad020c9e9d8a4d3fd0f5\",\"sha256:8bb1d2de101f39743f91512a9750fb6c351c032e5cd3204b4487383e34da7f75\",\"sha256:a5f82cd4938ff8761d9760af3274acf55afc3c91c649c50ab18fcff5510a14a5\",\"sha256:aac4b57097ac29089f179bbc2a6e14102dd210618e94d77ee4831c65f82f17c0\",\"sha256:bffbc48331b4a801d2f4b7dac8a72609f0b10e6e516e5c480a3e3241e091c878\",\"sha256:c0d4b04bbf96c47b6d360cd06939e72def512b20a18a8547fa4af810258355d5\",\"sha256:c54a2c0dd4957776ace7f95879d81582298c5daf89e77fb8bee7378f132951de\",\"sha256:cbf28ae4b5af0f05aa6e7551cee304f1d317dbed1eb7ac1d827cee2f1ef97a99\",\"sha256:d35f7a3a6cefec82bfdad2785e78359a0e6a5fbb3f605dd5623ce88082ccd681\",\"sha256:d3c59549f90a891691991c17f8e58c8544060fdf3ccdea267100fa5f561ff62f\",\"sha256:d7ae7a0576b06cb8e8a1c265a8bc4b73d05fdee6429bffc9a26a6eb531e79d72\",\"sha256:ecf4d0b56ee394a0984de15bceeb97cbe1fe485f1ac205121293fc44dcf3f31f\",\"sha256:f0e25bb91e7a02efccb50aba6591d3fe2c725479e34769802fcdd4076abfa917\",\"sha256:f23951a53d18398ef1344c186fb04b26163ca6ce449ebd23404b153fd111ded9\",\"sha256:ff7d241f866b718e4584fa95f520cb19405220c501bd3a53ee11871ba5166ea2\"]},\"idna\":{\"version\":\"==2.10\",\"hashes\":[\"sha256:b307872f855b18632ce0c21c5e45be78c0ea7ae4c15c828c20788b26921eb3f6\",\"sha256:b97d804b1e9b523befed77c48dacec60e6dcb0b5391d57af6a65a312a90648c0\"],\"markers\":\"python_version >= '2.7' and python_version not in '3.0, 3.1, 3.2, 3.3'\"},\"jmespath\":{\"version\":\"==0.10.0\",\"hashes\":[\"sha256:b85d0567b8666149a93172712e68920734333c0ce7e89b78b3e987f71e5ed4f9\",\"sha256:cdf6525904cc597730141d61b36f2e4b8ecc257c420fa2f4549bac2c2d0cb72f\"],\"markers\":\"python_version >= '2.6' and python_version not in '3.0, 3.1, 3.2'\"},\"keras-preprocessing\":{\"version\":\"==1.1.2\",\"hashes\":[\"sha256:7b82029b130ff61cc99b55f3bd27427df4838576838c5b2f65940e4fcec99a7b\",\"sha256:add82567c50c8bc648c14195bf544a5ce7c1f76761536956c3d2978970179ef3\"]},\"kiwisolver\":{\"version\":\"==1.3.1\",\"hashes\":[\"sha256:0cd53f403202159b44528498de18f9285b04482bab2a6fc3f5dd8dbb9352e30d\",\"sha256:1e1bc12fb773a7b2ffdeb8380609f4f8064777877b2225dec3da711b421fda31\",\"sha256:225e2e18f271e0ed8157d7f4518ffbf99b9450fca398d561eb5c4a87d0986dd9\",\"sha256:232c9e11fd7ac3a470d65cd67e4359eee155ec57e822e5220322d7b2ac84fbf0\",\"sha256:31dfd2ac56edc0ff9ac295193eeaea1c0c923c0355bf948fbd99ed6018010b72\",\"sha256:33449715e0101e4d34f64990352bce4095c8bf13bed1b390773fc0a7295967b3\",\"sha256:401a2e9afa8588589775fe34fc22d918ae839aaaf0c0e96441c0fdbce6d8ebe6\",\"sha256:44a62e24d9b01ba94ae7a4a6c3fb215dc4af1dde817e7498d901e229aaf50e4e\",\"sha256:50af681a36b2a1dee1d3c169ade9fdc59207d3c31e522519181e12f1b3ba7000\",\"sha256:563c649cfdef27d081c84e72a03b48ea9408c16657500c312575ae9d9f7bc1c3\",\"sha256:5989db3b3b34b76c09253deeaf7fbc2707616f130e166996606c284395da3f18\",\"sha256:5a7a7dbff17e66fac9142ae2ecafb719393aaee6a3768c9de2fd425c63b53e21\",\"sha256:5c3e6455341008a054cccee8c5d24481bcfe1acdbc9add30aa95798e95c65621\",\"sha256:5f6ccd3dd0b9739edcf407514016108e2280769c73a85b9e59aa390046dbf08b\",\"sha256:72c99e39d005b793fb7d3d4e660aed6b6281b502e8c1eaf8ee8346023c8e03bc\",\"sha256:78751b33595f7f9511952e7e60ce858c6d64db2e062afb325985ddbd34b5c131\",\"sha256:834ee27348c4aefc20b479335fd422a2c69db55f7d9ab61721ac8cd83eb78882\",\"sha256:8be8d84b7d4f2ba4ffff3665bcd0211318aa632395a1a41553250484a871d454\",\"sha256:950a199911a8d94683a6b10321f9345d5a3a8433ec58b217ace979e18f16e248\",\"sha256:a357fd4f15ee49b4a98b44ec23a34a95f1e00292a139d6015c11f55774ef10de\",\"sha256:a53d27d0c2a0ebd07e395e56a1fbdf75ffedc4a05943daf472af163413ce9598\",\"sha256:acef3d59d47dd85ecf909c359d0fd2c81ed33bdff70216d3956b463e12c38a54\",\"sha256:b38694dcdac990a743aa654037ff1188c7a9801ac3ccc548d3341014bc5ca278\",\"sha256:b9edd0110a77fc321ab090aaa1cfcaba1d8499850a12848b81be2222eab648f6\",\"sha256:c08e95114951dc2090c4a630c2385bef681cacf12636fb0241accdc6b303fd81\",\"sha256:c5518d51a0735b1e6cee1fdce66359f8d2b59c3ca85dc2b0813a8aa86818a030\",\"sha256:c8fd0f1ae9d92b42854b2979024d7597685ce4ada367172ed7c09edf2cef9cb8\",\"sha256:ca3820eb7f7faf7f0aa88de0e54681bddcb46e485beb844fcecbcd1c8bd01689\",\"sha256:cf8b574c7b9aa060c62116d4181f3a1a4e821b2ec5cbfe3775809474113748d4\",\"sha256:d3155d828dec1d43283bd24d3d3e0d9c7c350cdfcc0bd06c0ad1209c1bbc36d0\",\"sha256:f8d6f8db88049a699817fd9178782867bf22283e3813064302ac59f61d95be05\",\"sha256:fd34fbbfbc40628200730bc1febe30631347103fc8d3d4fa012c21ab9c11eca9\"],\"markers\":\"python_version >= '3.6'\"},\"markdown\":{\"version\":\"==3.3.3\",\"hashes\":[\"sha256:5d9f2b5ca24bc4c7a390d22323ca4bad200368612b5aaa7796babf971d2b2f18\",\"sha256:c109c15b7dc20a9ac454c9e6025927d44460b85bd039da028d85e2b6d0bcc328\"],\"markers\":\"python_version >= '3.6'\"},\"matplotlib\":{\"version\":\"==3.3.4\",\"hashes\":[\"sha256:1de0bb6cbfe460725f0e97b88daa8643bcf9571c18ba90bb8e41432aaeca91d6\",\"sha256:1e850163579a8936eede29fad41e202b25923a0a8d5ffd08ce50fc0a97dcdc93\",\"sha256:215e2a30a2090221a9481db58b770ce56b8ef46f13224ae33afe221b14b24dc1\",\"sha256:348e6032f666ffd151b323342f9278b16b95d4a75dfacae84a11d2829a7816ae\",\"sha256:3d2eb9c1cc254d0ffa90bc96fde4b6005d09c2228f99dfd493a4219c1af99644\",\"sha256:3e477db76c22929e4c6876c44f88d790aacdf3c3f8f3a90cb1975c0bf37825b0\",\"sha256:451cc89cb33d6652c509fc6b588dc51c41d7246afdcc29b8624e256b7663ed1f\",\"sha256:46b1a60a04e6d884f0250d5cc8dc7bd21a9a96c584a7acdaab44698a44710bab\",\"sha256:5f571b92a536206f7958f7cb2d367ff6c9a1fa8229dc35020006e4cdd1ca0acd\",\"sha256:672960dd114e342b7c610bf32fb99d14227f29919894388b41553217457ba7ef\",\"sha256:7310e353a4a35477c7f032409966920197d7df3e757c7624fd842f3eeb307d3d\",\"sha256:746a1df55749629e26af7f977ea426817ca9370ad1569436608dc48d1069b87c\",\"sha256:7c155437ae4fd366e2700e2716564d1787700687443de46bcb895fe0f84b761d\",\"sha256:9265ae0fb35e29f9b8cc86c2ab0a2e3dcddc4dd9de4b85bf26c0f63fe5c1c2ca\",\"sha256:94bdd1d55c20e764d8aea9d471d2ae7a7b2c84445e0fa463f02e20f9730783e1\",\"sha256:9a79e5dd7bb797aa611048f5b70588b23c5be05b63eefd8a0d152ac77c4243db\",\"sha256:a17f0a10604fac7627ec82820439e7db611722e80c408a726cd00d8c974c2fb3\",\"sha256:a1acb72f095f1d58ecc2538ed1b8bca0b57df313b13db36ed34b8cdf1868e674\",\"sha256:aa49571d8030ad0b9ac39708ee77bd2a22f87815e12bdee52ecaffece9313ed8\",\"sha256:c24c05f645aef776e8b8931cb81e0f1632d229b42b6d216e30836e2e145a2b40\",\"sha256:cf3a7e54eff792f0815dbbe9b85df2f13d739289c93d346925554f71d484be78\",\"sha256:d738acfdfb65da34c91acbdb56abed46803db39af259b7f194dc96920360dbe4\",\"sha256:e15fa23d844d54e7b3b7243afd53b7567ee71c721f592deb0727ee85e668f96a\",\"sha256:ed4a9e6dcacba56b17a0a9ac22ae2c72a35b7f0ef0693aa68574f0b2df607a89\",\"sha256:f44149a0ef5b4991aaef12a93b8e8d66d6412e762745fea1faa61d98524e0ba9\"],\"index\":\"pypi\"},\"numpy\":{\"version\":\"==1.19.5\",\"hashes\":[\"sha256:012426a41bc9ab63bb158635aecccc7610e3eff5d31d1eb43bc099debc979d94\",\"sha256:06fab248a088e439402141ea04f0fffb203723148f6ee791e9c75b3e9e82f080\",\"sha256:0eef32ca3132a48e43f6a0f5a82cb508f22ce5a3d6f67a8329c81c8e226d3f6e\",\"sha256:1ded4fce9cfaaf24e7a0ab51b7a87be9038ea1ace7f34b841fe3b6894c721d1c\",\"sha256:2e55195bc1c6b705bfd8ad6f288b38b11b1af32f3c8289d6c50d47f950c12e76\",\"sha256:2ea52bd92ab9f768cc64a4c3ef8f4b2580a17af0a5436f6126b08efbd1838371\",\"sha256:36674959eed6957e61f11c912f71e78857a8d0604171dfd9ce9ad5cbf41c511c\",\"sha256:384ec0463d1c2671170901994aeb6dce126de0a95ccc3976c43b0038a37329c2\",\"sha256:39b70c19ec771805081578cc936bbe95336798b7edf4732ed102e7a43ec5c07a\",\"sha256:400580cbd3cff6ffa6293df2278c75aef2d58d8d93d3c5614cd67981dae68ceb\",\"sha256:43d4c81d5ffdff6bae58d66a3cd7f54a7acd9a0e7b18d97abb255defc09e3140\",\"sha256:50a4a0ad0111cc1b71fa32dedd05fa239f7fb5a43a40663269bb5dc7877cfd28\",\"sha256:603aa0706be710eea8884af807b1b3bc9fb2e49b9f4da439e76000f3b3c6ff0f\",\"sha256:6149a185cece5ee78d1d196938b2a8f9d09f5a5ebfbba66969302a778d5ddd1d\",\"sha256:759e4095edc3c1b3ac031f34d9459fa781777a93ccc633a472a5468587a190ff\",\"sha256:7fb43004bce0ca31d8f13a6eb5e943fa73371381e53f7074ed21a4cb786c32f8\",\"sha256:811daee36a58dc79cf3d8bdd4a490e4277d0e4b7d103a001a4e73ddb48e7e6aa\",\"sha256:8b5e972b43c8fc27d56550b4120fe6257fdc15f9301914380b27f74856299fea\",\"sha256:99abf4f353c3d1a0c7a5f27699482c987cf663b1eac20db59b8c7b061eabd7fc\",\"sha256:a0d53e51a6cb6f0d9082decb7a4cb6dfb33055308c4c44f53103c073f649af73\",\"sha256:a12ff4c8ddfee61f90a1633a4c4afd3f7bcb32b11c52026c92a12e1325922d0d\",\"sha256:a4646724fba402aa7504cd48b4b50e783296b5e10a524c7a6da62e4a8ac9698d\",\"sha256:a76f502430dd98d7546e1ea2250a7360c065a5fdea52b2dffe8ae7180909b6f4\",\"sha256:a9d17f2be3b427fbb2bce61e596cf555d6f8a56c222bd2ca148baeeb5e5c783c\",\"sha256:ab83f24d5c52d60dbc8cd0528759532736b56db58adaa7b5f1f76ad551416a1e\",\"sha256:aeb9ed923be74e659984e321f609b9ba54a48354bfd168d21a2b072ed1e833ea\",\"sha256:c843b3f50d1ab7361ca4f0b3639bf691569493a56808a0b0c54a051d260b7dbd\",\"sha256:cae865b1cae1ec2663d8ea56ef6ff185bad091a5e33ebbadd98de2cfa3fa668f\",\"sha256:cc6bd4fd593cb261332568485e20a0712883cf631f6f5e8e86a52caa8b2b50ff\",\"sha256:cf2402002d3d9f91c8b01e66fbb436a4ed01c6498fffed0e4c7566da1d40ee1e\",\"sha256:d051ec1c64b85ecc69531e1137bb9751c6830772ee5c1c426dbcfe98ef5788d7\",\"sha256:d6631f2e867676b13026e2846180e2c13c1e11289d67da08d71cacb2cd93d4aa\",\"sha256:dbd18bcf4889b720ba13a27ec2f2aac1981bd41203b3a3b27ba7a33f88ae4827\",\"sha256:df609c82f18c5b9f6cb97271f03315ff0dbe481a2a02e56aeb1b1a985ce38e60\"],\"index\":\"pypi\"},\"oauthlib\":{\"version\":\"==3.1.0\",\"hashes\":[\"sha256:bee41cc35fcca6e988463cacc3bcb8a96224f470ca547e697b604cc697b2f889\",\"sha256:df884cd6cbe20e32633f1db1072e9356f53638e4361bef4e8b03c9127c9328ea\"],\"markers\":\"python_version >= '2.7' and python_version not in '3.0, 3.1, 3.2, 3.3'\"},\"opt-einsum\":{\"version\":\"==3.3.0\",\"hashes\":[\"sha256:2455e59e3947d3c275477df7f5205b30635e266fe6dc300e3d9f9646bfcea147\",\"sha256:59f6475f77bbc37dcf7cd748519c0ec60722e91e63ca114e68821c0c54a46549\"],\"markers\":\"python_version >= '3.5'\"},\"pillow\":{\"version\":\"==8.1.0\",\"hashes\":[\"sha256:165c88bc9d8dba670110c689e3cc5c71dbe4bfb984ffa7cbebf1fac9554071d6\",\"sha256:1d208e670abfeb41b6143537a681299ef86e92d2a3dac299d3cd6830d5c7bded\",\"sha256:22d070ca2e60c99929ef274cfced04294d2368193e935c5d6febfd8b601bf865\",\"sha256:2353834b2c49b95e1313fb34edf18fca4d57446675d05298bb694bca4b194174\",\"sha256:39725acf2d2e9c17356e6835dccebe7a697db55f25a09207e38b835d5e1bc032\",\"sha256:3de6b2ee4f78c6b3d89d184ade5d8fa68af0848f9b6b6da2b9ab7943ec46971a\",\"sha256:47c0d93ee9c8b181f353dbead6530b26980fe4f5485aa18be8f1fd3c3cbc685e\",\"sha256:5e2fe3bb2363b862671eba632537cd3a823847db4d98be95690b7e382f3d6378\",\"sha256:604815c55fd92e735f9738f65dabf4edc3e79f88541c221d292faec1904a4b17\",\"sha256:6c5275bd82711cd3dcd0af8ce0bb99113ae8911fc2952805f1d012de7d600a4c\",\"sha256:731ca5aabe9085160cf68b2dbef95fc1991015bc0a3a6ea46a371ab88f3d0913\",\"sha256:7612520e5e1a371d77e1d1ca3a3ee6227eef00d0a9cddb4ef7ecb0b7396eddf7\",\"sha256:7916cbc94f1c6b1301ac04510d0881b9e9feb20ae34094d3615a8a7c3db0dcc0\",\"sha256:81c3fa9a75d9f1afafdb916d5995633f319db09bd773cb56b8e39f1e98d90820\",\"sha256:887668e792b7edbfb1d3c9d8b5d8c859269a0f0eba4dda562adb95500f60dbba\",\"sha256:93a473b53cc6e0b3ce6bf51b1b95b7b1e7e6084be3a07e40f79b42e83503fbf2\",\"sha256:96d4dc103d1a0fa6d47c6c55a47de5f5dafd5ef0114fa10c85a1fd8e0216284b\",\"sha256:a3d3e086474ef12ef13d42e5f9b7bbf09d39cf6bd4940f982263d6954b13f6a9\",\"sha256:b02a0b9f332086657852b1f7cb380f6a42403a6d9c42a4c34a561aa4530d5234\",\"sha256:b09e10ec453de97f9a23a5aa5e30b334195e8d2ddd1ce76cc32e52ba63c8b31d\",\"sha256:b6f00ad5ebe846cc91763b1d0c6d30a8042e02b2316e27b05de04fa6ec831ec5\",\"sha256:bba80df38cfc17f490ec651c73bb37cd896bc2400cfba27d078c2135223c1206\",\"sha256:c3d911614b008e8a576b8e5303e3db29224b455d3d66d1b2848ba6ca83f9ece9\",\"sha256:ca20739e303254287138234485579b28cb0d524401f83d5129b5ff9d606cb0a8\",\"sha256:cb192176b477d49b0a327b2a5a4979552b7a58cd42037034316b8018ac3ebb59\",\"sha256:cdbbe7dff4a677fb555a54f9bc0450f2a21a93c5ba2b44e09e54fcb72d2bd13d\",\"sha256:cf6e33d92b1526190a1de904df21663c46a456758c0424e4f947ae9aa6088bf7\",\"sha256:d355502dce85ade85a2511b40b4c61a128902f246504f7de29bbeec1ae27933a\",\"sha256:d673c4990acd016229a5c1c4ee8a9e6d8f481b27ade5fc3d95938697fa443ce0\",\"sha256:dc577f4cfdda354db3ae37a572428a90ffdbe4e51eda7849bf442fb803f09c9b\",\"sha256:dd9eef866c70d2cbbea1ae58134eaffda0d4bfea403025f4db6859724b18ab3d\",\"sha256:f50e7a98b0453f39000619d845be8b06e611e56ee6e8186f7f60c3b1e2f0feae\"],\"markers\":\"python_version >= '3.6'\"},\"protobuf\":{\"version\":\"==3.14.0\",\"hashes\":[\"sha256:0e247612fadda953047f53301a7b0407cb0c3cb4ae25a6fde661597a04039b3c\",\"sha256:0fc96785262042e4863b3f3b5c429d4636f10d90061e1840fce1baaf59b1a836\",\"sha256:1c51fda1bbc9634246e7be6016d860be01747354ed7015ebe38acf4452f470d2\",\"sha256:1d63eb389347293d8915fb47bee0951c7b5dab522a4a60118b9a18f33e21f8ce\",\"sha256:22bcd2e284b3b1d969c12e84dc9b9a71701ec82d8ce975fdda19712e1cfd4e00\",\"sha256:2a7e2fe101a7ace75e9327b9c946d247749e564a267b0515cf41dfe450b69bac\",\"sha256:43b554b9e73a07ba84ed6cf25db0ff88b1e06be610b37656e292e3cbb5437472\",\"sha256:4b74301b30513b1a7494d3055d95c714b560fbb630d8fb9956b6f27992c9f980\",\"sha256:4e75105c9dfe13719b7293f75bd53033108f4ba03d44e71db0ec2a0e8401eafd\",\"sha256:5b7a637212cc9b2bcf85dd828b1178d19efdf74dbfe1ddf8cd1b8e01fdaaa7f5\",\"sha256:5e9806a43232a1fa0c9cf5da8dc06f6910d53e4390be1fa06f06454d888a9142\",\"sha256:629b03fd3caae7f815b0c66b41273f6b1900a579e2ccb41ef4493a4f5fb84f3a\",\"sha256:72230ed56f026dd664c21d73c5db73ebba50d924d7ba6b7c0d81a121e390406e\",\"sha256:86a75477addde4918e9a1904e5c6af8d7b691f2a3f65587d73b16100fbe4c3b2\",\"sha256:8971c421dbd7aad930c9bd2694122f332350b6ccb5202a8b7b06f3f1a5c41ed5\",\"sha256:9616f0b65a30851e62f1713336c931fcd32c057202b7ff2cfbfca0fc7d5e3043\",\"sha256:b0d5d35faeb07e22a1ddf8dce620860c8fe145426c02d1a0ae2688c6e8ede36d\",\"sha256:ecc33531a213eee22ad60e0e2aaea6c8ba0021f0cce35dbf0ab03dee6e2a23a1\"]},\"pyasn1\":{\"version\":\"==0.4.8\",\"hashes\":[\"sha256:014c0e9976956a08139dc0712ae195324a75e142284d5f87f1a87ee1b068a359\",\"sha256:03840c999ba71680a131cfaee6fab142e1ed9bbd9c693e285cc6aca0d555e576\",\"sha256:0458773cfe65b153891ac249bcf1b5f8f320b7c2ce462151f8fa74de8934becf\",\"sha256:08c3c53b75eaa48d71cf8c710312316392ed40899cb34710d092e96745a358b7\",\"sha256:39c7e2ec30515947ff4e87fb6f456dfc6e84857d34be479c9d4a4ba4bf46aa5d\",\"sha256:5c9414dcfede6e441f7e8f81b43b34e834731003427e5b09e4e00e3172a10f00\",\"sha256:6e7545f1a61025a4e58bb336952c5061697da694db1cae97b116e9c46abcf7c8\",\"sha256:78fa6da68ed2727915c4767bb386ab32cdba863caa7dbe473eaae45f9959da86\",\"sha256:7ab8a544af125fb704feadb008c99a88805126fb525280b2270bb25cc1d78a12\",\"sha256:99fcc3c8d804d1bc6d9a099921e39d827026409a58f2a720dcdb89374ea0c776\",\"sha256:aef77c9fb94a3ac588e87841208bdec464471d9871bd5050a287cc9a475cd0ba\",\"sha256:e89bf84b5437b532b0803ba5c9a5e054d21fec423a89952a74f87fa2c9b7bce2\",\"sha256:fec3e9d8e36808a28efb59b489e4528c10ad0f480e57dcc32b4de5c9d8c9fdf3\"]},\"pyasn1-modules\":{\"version\":\"==0.2.8\",\"hashes\":[\"sha256:0845a5582f6a02bb3e1bde9ecfc4bfcae6ec3210dd270522fee602365430c3f8\",\"sha256:0fe1b68d1e486a1ed5473f1302bd991c1611d319bba158e98b106ff86e1d7199\",\"sha256:15b7c67fabc7fc240d87fb9aabf999cf82311a6d6fb2c70d00d3d0604878c811\",\"sha256:426edb7a5e8879f1ec54a1864f16b882c2837bfd06eee62f2c982315ee2473ed\",\"sha256:65cebbaffc913f4fe9e4808735c95ea22d7a7775646ab690518c056784bc21b4\",\"sha256:905f84c712230b2c592c19470d3ca8d552de726050d1d1716282a1f6146be65e\",\"sha256:a50b808ffeb97cb3601dd25981f6b016cbb3d31fbf57a8b8a87428e6158d0c74\",\"sha256:a99324196732f53093a84c4369c996713eb8c89d360a496b599fb1a9c47fc3eb\",\"sha256:b80486a6c77252ea3a3e9b1e360bc9cf28eaac41263d173c032581ad2f20fe45\",\"sha256:c29a5e5cc7a3f05926aff34e097e84f8589cd790ce0ed41b67aed6857b26aafd\",\"sha256:cbac4bc38d117f2a49aeedec4407d23e8866ea4ac27ff2cf7fb3e5b570df19e0\",\"sha256:f39edd8c4ecaa4556e989147ebf219227e2cd2e8a43c7e7fcb1f1c18c5fd6a3d\",\"sha256:fe0644d9ab041506b62782e92b06b8c68cca799e1a9636ec398675459e031405\"]},\"pyparsing\":{\"version\":\"==2.4.7\",\"hashes\":[\"sha256:c203ec8783bf771a155b207279b9bccb8dea02d8f0c9e5f8ead507bc3246ecc1\",\"sha256:ef9d7589ef3c200abe66653d3f1ab1033c3c419ae9b9bdb1240a85b024efc88b\"],\"markers\":\"python_version >= '2.6' and python_version not in '3.0, 3.1, 3.2'\"},\"python-dateutil\":{\"version\":\"==2.8.1\",\"hashes\":[\"sha256:73ebfe9dbf22e832286dafa60473e4cd239f8592f699aa5adaf10050e6e1823c\",\"sha256:75bb3f31ea686f1197762692a9ee6a7550b59fc6ca3a1f4b5d7e32fb98e2da2a\"],\"markers\":\"python_version >= '2.7' and python_version not in '3.0, 3.1, 3.2'\"},\"requests\":{\"version\":\"==2.25.1\",\"hashes\":[\"sha256:27973dd4a904a4f13b263a19c866c13b92a39ed1c964655f025f3f8d3d75b804\",\"sha256:c210084e36a42ae6b9219e00e48287def368a26d03a048ddad7bfee44f75871e\"],\"markers\":\"python_version >= '2.7' and python_version not in '3.0, 3.1, 3.2, 3.3, 3.4'\"},\"requests-oauthlib\":{\"version\":\"==1.3.0\",\"hashes\":[\"sha256:7f71572defaecd16372f9006f33c2ec8c077c3cfa6f5911a9a90202beb513f3d\",\"sha256:b4261601a71fd721a8bd6d7aa1cc1d6a8a93b4a9f5e96626f8e4d91e8beeaa6a\",\"sha256:fa6c47b933f01060936d87ae9327fead68768b69c6c9ea2109c48be30f2d4dbc\"]},\"rsa\":{\"version\":\"==4.7\",\"hashes\":[\"sha256:69805d6b69f56eb05b62daea3a7dbd7aa44324ad1306445e05da8060232d00f4\",\"sha256:a8774e55b59fd9fc893b0d05e9bfc6f47081f46ff5b46f39ccf24631b7be356b\"],\"markers\":\"python_version >= '3.6'\"},\"s3transfer\":{\"version\":\"==0.3.4\",\"hashes\":[\"sha256:1e28620e5b444652ed752cf87c7e0cb15b0e578972568c6609f0f18212f259ed\",\"sha256:7fdddb4f22275cf1d32129e21f056337fd2a80b6ccef1664528145b72c49e6d2\"]},\"six\":{\"version\":\"==1.15.0\",\"hashes\":[\"sha256:30639c035cdb23534cd4aa2dd52c3bf48f06e5f4a941509c8bafd8ce11080259\",\"sha256:8b74bedcbbbaca38ff6d7491d76f2b06b3592611af620f8426e82dddb04a5ced\"],\"markers\":\"python_version >= '2.7' and python_version not in '3.0, 3.1, 3.2'\"},\"tensorboard\":{\"version\":\"==2.4.1\",\"hashes\":[\"sha256:7b8c53c396069b618f6f276ec94fc45d17e3282d668979216e5d30be472115e4\"],\"markers\":\"python_version >= '2.7' and python_version not in '3.0, 3.1'\"},\"tensorboard-plugin-wit\":{\"version\":\"==1.8.0\",\"hashes\":[\"sha256:2a80d1c551d741e99b2f197bb915d8a133e24adb8da1732b840041860f91183a\"]},\"tensorflow\":{\"version\":\"==2.4.1\",\"hashes\":[\"sha256:0e427b1350be6dbe572f971947c5596fdbb152081f227808d8becd894bf40282\",\"sha256:22723b8e1fa83b34f56c349b16a57aaff913b404451fcf70981f2b1d6e0c64fc\",\"sha256:2357112319303da1b5459a621fd0503c2b2cd97b6c33c4903abd46b3c3e380e2\",\"sha256:36d5acd60aac48e34bd545d0ce1fb8b3fceebff6b8782436defd0f71c12203bd\",\"sha256:4a04081647b89a8fb602895b29ffc559e3c20aac8bde1d4c5ecd2a65adce5d35\",\"sha256:55368ba0bedb513ba0e36a2543a588b5276e9b2ca99fa3232a9a176601a7bab5\",\"sha256:e1f2799cc86861680d8515167f103e2207a8cab92a4afe5471e4839330591f08\",\"sha256:eedcf578afde5e6e69c75d796bed41093451cd1ab54afb438760e40fb74a09de\",\"sha256:efa9daa4b3701a4e439b24b74c1e4b66844aee8ae5263fb3cc12281ac9cc9f67\"],\"index\":\"pypi\"},\"tensorflow-estimator\":{\"version\":\"==2.4.0\",\"hashes\":[\"sha256:5b7b7bf2debe19a8794adacc43e8ba6459daa4efaf54d3302623994a359b17f0\"]},\"termcolor\":{\"version\":\"==1.1.0\",\"hashes\":[\"sha256:1d6d69ce66211143803fbc56652b41d73b4a400a2891d7bf7a1cdf4c02de613b\"]},\"typing-extensions\":{\"version\":\"==3.7.4.3\",\"hashes\":[\"sha256:7cb407020f00f7bfc3cb3e7881628838e69d8f3fcab2f64742a5e76b2f841918\",\"sha256:99d4073b617d30288f569d3f13d2bd7548c3a7e4c8de87db09a9d29bb3a4a60c\",\"sha256:dafc7639cde7f1b6e1acc0f457842a83e722ccca8eef5270af2d74792619a89f\"]},\"urllib3\":{\"version\":\"==1.26.3\",\"hashes\":[\"sha256:1b465e494e3e0d8939b50680403e3aedaa2bc434b7d5af64dfd3c958d7f5ae80\",\"sha256:de3eedaad74a2683334e282005cd8d7f22f4d55fa690a2a1020a416cb0a47e73\"],\"markers\":\"python_version >= '2.7' and python_version not in '3.0, 3.1, 3.2, 3.3, 3.4' and python_version < '4'\"},\"werkzeug\":{\"version\":\"==1.0.1\",\"hashes\":[\"sha256:2de2a5db0baeae7b2d2664949077c2ac63fbd16d98da0ff71837f7d1dea3fd43\",\"sha256:6c80b1e5ad3665290ea39320b91e1be1e0d5f60652b964a3070216de83d2e47c\"],\"markers\":\"python_version >= '2.7' and python_version not in '3.0, 3.1, 3.2, 3.3, 3.4'\"},\"wheel\":{\"version\":\"==0.36.2\",\"hashes\":[\"sha256:78b5b185f0e5763c26ca1e324373aadd49182ca90e825f7853f4b2509215dc0e\",\"sha256:e11eefd162658ea59a60a0f6c7d493a7190ea4b9a85e335b33489d9f17e0245e\"],\"markers\":\"python_version >= '3'\"},\"wrapt\":{\"version\":\"==1.12.1\",\"hashes\":[\"sha256:b62ffa81fb85f4332a4f609cab4ac40709470da05643a082ec1eb88e6d9b97d7\"]}},\"develop\":{}}",
  "toc-autonumbering": false,
  "toc-showcode": false,
  "toc-showmarkdowntxt": false,
  "toc-showtags": false
 },
 "nbformat": 4,
 "nbformat_minor": 4
}
