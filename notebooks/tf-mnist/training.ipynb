{
 "cells": [
  {
   "cell_type": "markdown",
   "metadata": {
    "papermill": {
     "duration": 0.022136,
     "end_time": "2021-02-03T13:27:33.986566",
     "exception": false,
     "start_time": "2021-02-03T13:27:33.964430",
     "status": "completed"
    },
    "tags": []
   },
   "source": [
    "# Training model"
   ]
  },
  {
   "cell_type": "markdown",
   "metadata": {
    "papermill": {
     "duration": 0.018835,
     "end_time": "2021-02-03T13:27:34.025541",
     "exception": false,
     "start_time": "2021-02-03T13:27:34.006706",
     "status": "completed"
    },
    "tags": []
   },
   "source": [
    "## Import libraries"
   ]
  },
  {
   "cell_type": "code",
   "execution_count": 1,
   "metadata": {
    "papermill": {
     "duration": 2.822829,
     "end_time": "2021-02-03T13:27:36.868108",
     "exception": false,
     "start_time": "2021-02-03T13:27:34.045279",
     "status": "completed"
    },
    "tags": []
   },
   "outputs": [
    {
     "name": "stderr",
     "output_type": "stream",
     "text": [
      "2021-09-21 14:59:00.962041: W tensorflow/stream_executor/platform/default/dso_loader.cc:64] Could not load dynamic library 'libcudart.so.11.0'; dlerror: libcudart.so.11.0: cannot open shared object file: No such file or directory\n",
      "2021-09-21 14:59:00.962069: I tensorflow/stream_executor/cuda/cudart_stub.cc:29] Ignore above cudart dlerror if you do not have a GPU set up on your machine.\n"
     ]
    }
   ],
   "source": [
    "import boto3\n",
    "import os\n",
    "import tensorflow as tf\n",
    "from datetime import datetime\n",
    "import numpy as np\n",
    "\n",
    "import pickle\n",
    "\n",
    "from pathlib import Path\n",
    "\n",
    "# Importing the required Keras modules containing model and layers\n",
    "from tensorflow.keras.models import Sequential\n",
    "from tensorflow.keras.layers import (\n",
    "    Dense,\n",
    "    Conv2D,\n",
    "    Dropout,\n",
    "    Flatten,\n",
    "    MaxPooling2D,\n",
    ")\n",
    "\n",
    "import matplotlib.pyplot as plt\n",
    "\n",
    "import random"
   ]
  },
  {
   "cell_type": "markdown",
   "metadata": {
    "papermill": {
     "duration": 0.020915,
     "end_time": "2021-02-03T13:27:36.912986",
     "exception": false,
     "start_time": "2021-02-03T13:27:36.892071",
     "status": "completed"
    },
    "tags": []
   },
   "source": [
    "## Load data"
   ]
  },
  {
   "cell_type": "code",
   "execution_count": 2,
   "metadata": {
    "papermill": {
     "duration": 0.0992,
     "end_time": "2021-02-03T13:27:37.033604",
     "exception": false,
     "start_time": "2021-02-03T13:27:36.934404",
     "status": "completed"
    },
    "tags": []
   },
   "outputs": [],
   "source": [
    "use_ceph = bool(int(os.getenv(\"USE_CEPH\", 0)))\n",
    "automation = bool(int(os.getenv(\"AUTOMATION\", 0)))\n",
    "project_name = os.environ.get(\"PROJECT_NAME\", \"elyra-aidevsecops-tutorial\")\n",
    "\n",
    "if automation:\n",
    "\n",
    "    # Get file path relative to notebook\n",
    "    raw_dataset_path = str(os.environ.get(\"DATASET\", \"../data/raw\"))\n",
    "\n",
    "else:\n",
    "\n",
    "    # Download and store in project's data directory\n",
    "    directory_path = Path.cwd().parents[0]\n",
    "    raw_dataset_path = directory_path.joinpath(\n",
    "        str(os.environ.get(\"DATASET\", \"../data/raw/mnist_datasets_tf/\"))\n",
    "    )\n",
    "\n",
    "if use_ceph:\n",
    "\n",
    "    # Download files from S3\n",
    "    s3_endpoint_url = os.environ[\"OBJECT_STORAGE_ENDPOINT_URL\"]\n",
    "    s3_access_key = os.environ[\"AWS_ACCESS_KEY_ID\"]\n",
    "    s3_secret_key = os.environ[\"AWS_SECRET_ACCESS_KEY\"]\n",
    "    s3_bucket = os.environ[\"OBJECT_STORAGE_BUCKET_NAME\"]\n",
    "\n",
    "    # Create an S3 client\n",
    "    s3 = boto3.client(\n",
    "        service_name=\"s3\",\n",
    "        aws_access_key_id=s3_access_key,\n",
    "        aws_secret_access_key=s3_secret_key,\n",
    "        endpoint_url=s3_endpoint_url,\n",
    "    )\n",
    "\n",
    "    key = f\"{project_name}/data/raw/mnist_datasets_tf/xdata.pkl\"\n",
    "    filename_path = str(f\"{raw_dataset_path}/xdata.pkl\")\n",
    "    print(f\"Downloading {key} into {filename_path}\")\n",
    "    s3.download_file(Bucket=s3_bucket, Key=key, Filename=filename_path)\n",
    "\n",
    "    key = f\"{project_name}/data/raw/mnist_datasets_tf/ydata.pkl\"\n",
    "    filename_path = str(f\"{raw_dataset_path}/ydata.pkl\")\n",
    "    print(f\"Downloading {key} into {filename_path}\")\n",
    "    s3.download_file(Bucket=s3_bucket, Key=key, Filename=filename_path)\n",
    "\n",
    "    key = f\"{project_name}/data/raw/mnist_datasets_tf/xtestdata.pkl\"\n",
    "    filename_path = str(f\"{raw_dataset_path}/xtestdata.pkl\")\n",
    "    print(f\"Downloading {key} into {filename_path}\")\n",
    "    s3.download_file(Bucket=s3_bucket, Key=key, Filename=filename_path)\n",
    "\n",
    "    key = f\"{project_name}/data/raw/mnist_datasets_tf/ytestdata.pkl\"\n",
    "    filename_path = str(f\"{raw_dataset_path}/ytestdata.pkl\")\n",
    "    print(f\"Downloading {key} into {filename_path}\")\n",
    "    s3.download_file(Bucket=s3_bucket, Key=key, Filename=filename_path)\n",
    "\n",
    "\n",
    "pkl_file = open(f\"{raw_dataset_path}/xdata.pkl\", \"rb\")\n",
    "x_train = pickle.load(pkl_file)\n",
    "pkl_file.close()\n",
    "\n",
    "pkly_file = open(f\"{raw_dataset_path}/ydata.pkl\", \"rb\")\n",
    "y_train = pickle.load(pkly_file)\n",
    "pkly_file.close()\n",
    "\n",
    "pklxtest_file = open(f\"{raw_dataset_path}/xtestdata.pkl\", \"rb\")\n",
    "x_test = pickle.load(pklxtest_file)\n",
    "pklxtest_file.close()\n",
    "\n",
    "pklytest_file = open(f\"{raw_dataset_path}/ytestdata.pkl\", \"rb\")\n",
    "y_test = pickle.load(pklytest_file)\n",
    "pklytest_file.close()"
   ]
  },
  {
   "cell_type": "markdown",
   "metadata": {
    "papermill": {
     "duration": 0.021457,
     "end_time": "2021-02-03T13:27:37.078460",
     "exception": false,
     "start_time": "2021-02-03T13:27:37.057003",
     "status": "completed"
    },
    "tags": []
   },
   "source": [
    "## Set parameters"
   ]
  },
  {
   "cell_type": "code",
   "execution_count": 3,
   "metadata": {
    "papermill": {
     "duration": 0.031268,
     "end_time": "2021-02-03T13:27:37.130774",
     "exception": false,
     "start_time": "2021-02-03T13:27:37.099506",
     "status": "completed"
    },
    "tags": []
   },
   "outputs": [],
   "source": [
    "# MNIST dataset parameters.\n",
    "num_classes = 10  # total classes (0-9 digits).\n",
    "\n",
    "# Training parameters.\n",
    "batch_size = 128\n",
    "display_step = 10\n",
    "\n",
    "# Network parameters.\n",
    "conv1_filters = 32  # number of filters for 1st conv layer.\n",
    "conv2_filters = 64  # number of filters for 2nd conv layer.\n",
    "fc1_units = 1024  # number of neurons for 1st fully-connected layer."
   ]
  },
  {
   "cell_type": "markdown",
   "metadata": {
    "papermill": {
     "duration": 0.022993,
     "end_time": "2021-02-03T13:27:37.177673",
     "exception": false,
     "start_time": "2021-02-03T13:27:37.154680",
     "status": "completed"
    },
    "tags": []
   },
   "source": [
    "## Split Data into Train and Test sets"
   ]
  },
  {
   "cell_type": "code",
   "execution_count": 4,
   "metadata": {
    "papermill": {
     "duration": 0.20396,
     "end_time": "2021-02-03T13:27:37.405097",
     "exception": false,
     "start_time": "2021-02-03T13:27:37.201137",
     "status": "completed"
    },
    "tags": []
   },
   "outputs": [
    {
     "name": "stdout",
     "output_type": "stream",
     "text": [
      "x_train shape: (60000, 28, 28, 1)\n",
      "Number of images in x_train 60000\n",
      "Number of images in x_test 10000\n"
     ]
    }
   ],
   "source": [
    "# Convert to float32.\n",
    "x_train, x_test = np.array(x_train, np.float32), np.array(x_test, np.float32)\n",
    "# Normalize images value from [0, 255] to [0, 1].\n",
    "x_train, x_test = x_train / 255.0, x_test / 255.0\n",
    "\n",
    "# Reshaping the array to 4-dims so that it can work with the Keras API\n",
    "x_train = x_train.reshape(x_train.shape[0], 28, 28, 1)\n",
    "x_test = x_test.reshape(x_test.shape[0], 28, 28, 1)\n",
    "\n",
    "print(\"x_train shape:\", x_train.shape)\n",
    "print(\"Number of images in x_train\", x_train.shape[0])\n",
    "print(\"Number of images in x_test\", x_test.shape[0])"
   ]
  },
  {
   "cell_type": "markdown",
   "metadata": {
    "papermill": {
     "duration": 0.022834,
     "end_time": "2021-02-03T13:27:37.477155",
     "exception": false,
     "start_time": "2021-02-03T13:27:37.454321",
     "status": "completed"
    },
    "tags": []
   },
   "source": [
    "## Create CNN Model"
   ]
  },
  {
   "cell_type": "code",
   "execution_count": 5,
   "metadata": {
    "papermill": {
     "duration": 0.167411,
     "end_time": "2021-02-03T13:27:37.667600",
     "exception": false,
     "start_time": "2021-02-03T13:27:37.500189",
     "status": "completed"
    },
    "tags": []
   },
   "outputs": [
    {
     "name": "stderr",
     "output_type": "stream",
     "text": [
      "2021-09-21 14:59:13.640057: W tensorflow/stream_executor/platform/default/dso_loader.cc:64] Could not load dynamic library 'libcuda.so.1'; dlerror: libcuda.so.1: cannot open shared object file: No such file or directory\n",
      "2021-09-21 14:59:13.640085: W tensorflow/stream_executor/cuda/cuda_driver.cc:269] failed call to cuInit: UNKNOWN ERROR (303)\n",
      "2021-09-21 14:59:13.640115: I tensorflow/stream_executor/cuda/cuda_diagnostics.cc:156] kernel driver does not appear to be running on this host (pc-7): /proc/driver/nvidia/version does not exist\n",
      "2021-09-21 14:59:13.640347: I tensorflow/core/platform/cpu_feature_guard.cc:142] This TensorFlow binary is optimized with oneAPI Deep Neural Network Library (oneDNN) to use the following CPU instructions in performance-critical operations:  AVX2 FMA\n",
      "To enable them in other operations, rebuild TensorFlow with the appropriate compiler flags.\n"
     ]
    }
   ],
   "source": [
    "input_shape = (28, 28, 1)\n",
    "\n",
    "# Creating a Sequential Model and adding the layers\n",
    "conv_net = Sequential()\n",
    "conv_net.add(\n",
    "    Conv2D(\n",
    "        conv1_filters,\n",
    "        kernel_size=(5, 5),\n",
    "        padding=\"same\",\n",
    "        activation=\"relu\",\n",
    "        input_shape=input_shape,\n",
    "    )\n",
    ")\n",
    "conv_net.add(MaxPooling2D(pool_size=(2, 2)))\n",
    "conv_net.add(\n",
    "    Conv2D(\n",
    "        conv2_filters, kernel_size=(3, 3), padding=\"same\", activation=\"relu\"\n",
    "    )\n",
    ")\n",
    "conv_net.add(MaxPooling2D(pool_size=(2, 2)))\n",
    "conv_net.add(Flatten())  # Flattening the 2D arrays for fully connected layers\n",
    "conv_net.add(Dense(fc1_units, activation=tf.nn.relu))\n",
    "conv_net.add(Dropout(0.5))\n",
    "conv_net.add(Dense(num_classes, activation=tf.nn.softmax))"
   ]
  },
  {
   "cell_type": "code",
   "execution_count": 6,
   "metadata": {},
   "outputs": [
    {
     "name": "stdout",
     "output_type": "stream",
     "text": [
      "Model: \"sequential\"\n",
      "_________________________________________________________________\n",
      "Layer (type)                 Output Shape              Param #   \n",
      "=================================================================\n",
      "conv2d (Conv2D)              (None, 28, 28, 32)        832       \n",
      "_________________________________________________________________\n",
      "max_pooling2d (MaxPooling2D) (None, 14, 14, 32)        0         \n",
      "_________________________________________________________________\n",
      "conv2d_1 (Conv2D)            (None, 14, 14, 64)        18496     \n",
      "_________________________________________________________________\n",
      "max_pooling2d_1 (MaxPooling2 (None, 7, 7, 64)          0         \n",
      "_________________________________________________________________\n",
      "flatten (Flatten)            (None, 3136)              0         \n",
      "_________________________________________________________________\n",
      "dense (Dense)                (None, 1024)              3212288   \n",
      "_________________________________________________________________\n",
      "dropout (Dropout)            (None, 1024)              0         \n",
      "_________________________________________________________________\n",
      "dense_1 (Dense)              (None, 10)                10250     \n",
      "=================================================================\n",
      "Total params: 3,241,866\n",
      "Trainable params: 3,241,866\n",
      "Non-trainable params: 0\n",
      "_________________________________________________________________\n"
     ]
    }
   ],
   "source": [
    "conv_net.summary()"
   ]
  },
  {
   "cell_type": "markdown",
   "metadata": {
    "papermill": {
     "duration": 0.022718,
     "end_time": "2021-02-03T13:27:37.714706",
     "exception": false,
     "start_time": "2021-02-03T13:27:37.691988",
     "status": "completed"
    },
    "tags": []
   },
   "source": [
    "## Compiling and Fitting the Model"
   ]
  },
  {
   "cell_type": "code",
   "execution_count": 12,
   "metadata": {
    "papermill": {
     "duration": null,
     "end_time": null,
     "exception": false,
     "start_time": "2021-02-03T13:27:37.738194",
     "status": "running"
    },
    "tags": []
   },
   "outputs": [],
   "source": [
    "conv_net.compile(\n",
    "    optimizer=\"adam\",\n",
    "    loss=\"sparse_categorical_crossentropy\",\n",
    "    metrics=[\"accuracy\"],\n",
    ")"
   ]
  },
  {
   "cell_type": "code",
   "execution_count": 13,
   "metadata": {},
   "outputs": [
    {
     "name": "stderr",
     "output_type": "stream",
     "text": [
      "2021-09-15 16:51:43.460140: W tensorflow/core/framework/cpu_allocator_impl.cc:80] Allocation of 188160000 exceeds 10% of free system memory.\n",
      "2021-09-15 16:51:43.611949: I tensorflow/compiler/mlir/mlir_graph_optimization_pass.cc:185] None of the MLIR Optimization Passes are enabled (registered 2)\n"
     ]
    },
    {
     "name": "stdout",
     "output_type": "stream",
     "text": [
      "1875/1875 [==============================] - 51s 27ms/step - loss: 0.1251 - accuracy: 0.9615\n"
     ]
    },
    {
     "data": {
      "text/plain": [
       "<keras.callbacks.History at 0x7fa97f87c1c0>"
      ]
     },
     "execution_count": 13,
     "metadata": {},
     "output_type": "execute_result"
    }
   ],
   "source": [
    "conv_net.fit(x=x_train, y=y_train, epochs=1)"
   ]
  },
  {
   "cell_type": "markdown",
   "metadata": {},
   "source": [
    "## Evaluating the model"
   ]
  },
  {
   "cell_type": "code",
   "execution_count": 14,
   "metadata": {
    "papermill": {
     "duration": null,
     "end_time": null,
     "exception": null,
     "start_time": null,
     "status": "pending"
    },
    "tags": []
   },
   "outputs": [
    {
     "name": "stdout",
     "output_type": "stream",
     "text": [
      "313/313 [==============================] - 2s 5ms/step - loss: 0.0346 - accuracy: 0.9879\n"
     ]
    },
    {
     "data": {
      "text/plain": [
       "[0.034580837935209274, 0.9879000186920166]"
      ]
     },
     "execution_count": 14,
     "metadata": {},
     "output_type": "execute_result"
    }
   ],
   "source": [
    "conv_net.evaluate(x_test, y_test)"
   ]
  },
  {
   "cell_type": "markdown",
   "metadata": {
    "papermill": {
     "duration": null,
     "end_time": null,
     "exception": null,
     "start_time": null,
     "status": "pending"
    },
    "tags": []
   },
   "source": [
    "## Test the model"
   ]
  },
  {
   "cell_type": "code",
   "execution_count": 15,
   "metadata": {
    "papermill": {
     "duration": null,
     "end_time": null,
     "exception": null,
     "start_time": null,
     "status": "pending"
    },
    "tags": []
   },
   "outputs": [
    {
     "data": {
      "image/png": "[encoded data removed]",
      "text/plain": [
       "<Figure size 432x288 with 1 Axes>"
      ]
     },
     "metadata": {
      "needs_background": "light"
     },
     "output_type": "display_data"
    },
    {
     "name": "stdout",
     "output_type": "stream",
     "text": [
      "Model prediction: 7\n"
     ]
    },
    {
     "data": {
      "image/png": "[encoded data removed]",
      "text/plain": [
       "<Figure size 432x288 with 1 Axes>"
      ]
     },
     "metadata": {
      "needs_background": "light"
     },
     "output_type": "display_data"
    },
    {
     "name": "stdout",
     "output_type": "stream",
     "text": [
      "Model prediction: 2\n"
     ]
    },
    {
     "data": {
      "image/png": "[encoded data removed]",
      "text/plain": [
       "<Figure size 432x288 with 1 Axes>"
      ]
     },
     "metadata": {
      "needs_background": "light"
     },
     "output_type": "display_data"
    },
    {
     "name": "stdout",
     "output_type": "stream",
     "text": [
      "Model prediction: 1\n"
     ]
    },
    {
     "data": {
      "image/png": "[encoded data removed]",
      "text/plain": [
       "<Figure size 432x288 with 1 Axes>"
      ]
     },
     "metadata": {
      "needs_background": "light"
     },
     "output_type": "display_data"
    },
    {
     "name": "stdout",
     "output_type": "stream",
     "text": [
      "Model prediction: 0\n"
     ]
    },
    {
     "data": {
      "image/png": "[encoded data removed]",
      "text/plain": [
       "<Figure size 432x288 with 1 Axes>"
      ]
     },
     "metadata": {
      "needs_background": "light"
     },
     "output_type": "display_data"
    },
    {
     "name": "stdout",
     "output_type": "stream",
     "text": [
      "Model prediction: 4\n"
     ]
    }
   ],
   "source": [
    "# Visualize predictions.\n",
    "\n",
    "n_images = 5\n",
    "\n",
    "# Display image and model prediction.\n",
    "for i in range(n_images):\n",
    "    plt.imshow(x_test[i], cmap=\"gray\")\n",
    "    plt.show()\n",
    "\n",
    "    prediction = conv_net.predict(x_test[i].reshape(1, 28, 28, 1))\n",
    "    print(\"Model prediction: %i\" % prediction.argmax())"
   ]
  },
  {
   "cell_type": "markdown",
   "metadata": {
    "papermill": {
     "duration": null,
     "end_time": null,
     "exception": null,
     "start_time": null,
     "status": "pending"
    },
    "tags": []
   },
   "source": [
    "## Save model"
   ]
  },
  {
   "cell_type": "code",
   "execution_count": 16,
   "metadata": {
    "papermill": {
     "duration": null,
     "end_time": null,
     "exception": null,
     "start_time": null,
     "status": "pending"
    },
    "tags": []
   },
   "outputs": [
    {
     "name": "stderr",
     "output_type": "stream",
     "text": [
      "2021-09-15 16:53:33.898646: W tensorflow/python/util/util.cc:348] Sets are not currently considered sequences, but this may change in the future, so consider avoiding using them.\n"
     ]
    },
    {
     "name": "stdout",
     "output_type": "stream",
     "text": [
      "INFO:tensorflow:Assets written to: /home/fmurdaca/work/aicoe/elyra-aidevsecops-tutorial/notebooks/../models/210915165333-7b04047d1220f5cd/assets\n"
     ]
    }
   ],
   "source": [
    "# Save the model to file\n",
    "# Fetch the Keras session and save the model\n",
    "\n",
    "time_version = f\"tf-{datetime.now():%y%m%d%H%M%S}-{random.getrandbits(64):08x}\"\n",
    "\n",
    "# Path to data\n",
    "directory_path = Path.cwd().parents[0]\n",
    "trained_model_path = directory_path.joinpath(\n",
    "    str(os.environ.get(\"TRAINED_MODEL_PATH\", \"../models\"))\n",
    ")\n",
    "\n",
    "tf.keras.models.save_model(\n",
    "    conv_net,\n",
    "    f\"{trained_model_path}/{time_version}/\",\n",
    "    overwrite=True,\n",
    "    include_optimizer=True,\n",
    "    save_format=None,\n",
    "    signatures=None,\n",
    "    options=None,\n",
    ")\n",
    "\n",
    "if automation or use_ceph:\n",
    "    # Download files from S3\n",
    "    s3_endpoint_url = os.environ[\"OBJECT_STORAGE_ENDPOINT_URL\"]\n",
    "    s3_access_key = os.environ[\"AWS_ACCESS_KEY_ID\"]\n",
    "    s3_secret_key = os.environ[\"AWS_SECRET_ACCESS_KEY\"]\n",
    "    s3_bucket = os.environ[\"OBJECT_STORAGE_BUCKET_NAME\"]\n",
    "\n",
    "    # Create an S3 client\n",
    "    s3 = boto3.client(\n",
    "        service_name=\"s3\",\n",
    "        aws_access_key_id=s3_access_key,\n",
    "        aws_secret_access_key=s3_secret_key,\n",
    "        endpoint_url=s3_endpoint_url,\n",
    "    )\n",
    "\n",
    "    p = Path(f\"{trained_model_path}/{time_version}/\")\n",
    "    for child in p.rglob(\"*\"):\n",
    "        if not child.is_dir():\n",
    "            store_file_path = str(child).split(str(trained_model_path))[1]\n",
    "            key = f\"{project_name}/models{store_file_path}\"\n",
    "            print(key)\n",
    "            s3.upload_file(Bucket=s3_bucket, Key=key, Filename=str(child))"
   ]
  }
 ],
 "metadata": {
  "dependency_resolution_engine": "pipenv",
  "kernelspec": {
   "display_name": "Python (tf-training)",
   "language": "python",
   "name": "tf-training"
  },
  "language_info": {
   "codemirror_mode": {
    "name": "ipython",
    "version": 3
   },
   "file_extension": ".py",
   "mimetype": "text/x-python",
   "name": "python",
   "nbconvert_exporter": "python",
   "pygments_lexer": "ipython3",
   "version": "3.9.7"
  },
  "papermill": {
   "default_parameters": {},
   "duration": null,
   "end_time": null,
   "environment_variables": {},
   "exception": null,
   "input_path": "/opt/app-root/src/elyra-aidevsecops-tutorial/notebooks/training.ipynb",
   "output_path": "/opt/app-root/src/elyra-aidevsecops-tutorial/notebooks/training.ipynb",
   "parameters": {},
   "start_time": "2021-02-03T13:27:32.988886",
   "version": "2.2.0"
  },
  "requirements": "{\"packages\": {\"tensorflow\": \"*\", \"numpy\": \"*\", \"matplotlib\": \"*\", \"boto3\": \"*\"}, \"dev-packages\": {}, \"source\": [{\"url\": \"https://pypi.org/simple\", \"verify_ssl\": true, \"name\": \"pypi\"}], \"requires\": {\"python_version\": \"3.8\"}}",
  "requirements_lock": "{\"_meta\": {\"sources\": [{\"url\": \"https://pypi.org/simple\", \"verify_ssl\": true, \"name\": \"pypi\"}], \"requires\": {\"python_version\": \"3.8\"}, \"hash\": {\"sha256\": \"cf1a0305302ea4f64fa7028564bd61aa2596a71839b883bb797d1158bea9d7a4\"}, \"pipfile-spec\": 6}, \"default\": {\"absl-py\": {\"version\": \"==0.13.0\", \"hashes\": [\"sha256:62bd4e248ddb19d81aec8f9446b407ff37c8175c2ba88266a7afa9b4ce4a333b\", \"sha256:6953272383486044699fd0e9f00aad167a27e08ce19aae66c6c4b10e7e767793\"]}, \"astunparse\": {\"version\": \"==1.6.3\", \"hashes\": [\"sha256:5ad93a8456f0d084c3456d059fd9a92cce667963232cbf763eac3bc5b7940872\", \"sha256:c2652417f2c8b5bb325c885ae329bdf3f86424075c4fd1a128674bc6fba4b8e8\"]}, \"boto3\": {\"version\": \"==1.18.42\", \"hashes\": [\"sha256:63b9846c26e0905f4e9e39d6b59f152330c53a926d693439161c43dcf9779365\", \"sha256:a9232185d8e7e2fd2b166c0ebee5d7b1f787fdb3093f33bbf5aa932c08f0ccac\"], \"index\": \"pypi\"}, \"botocore\": {\"version\": \"==1.21.42\", \"hashes\": [\"sha256:0952d1200968365b440045efe8e45bbae38cf603fee12bcfc3d7b5f963cbfa18\", \"sha256:6de4fec4ee10987e4dea96f289553c2f45109fcaafcb74a5baee1221926e1306\"], \"markers\": \"python_version >= '3.6'\"}, \"cachetools\": {\"version\": \"==4.2.2\", \"hashes\": [\"sha256:2cc0b89715337ab6dbba85b5b50effe2b0c74e035d83ee8ed637cf52f12ae001\", \"sha256:61b5ed1e22a0924aed1d23b478f37e8d52549ff8a961de2909c69bf950020cff\"], \"markers\": \"python_version ~= '3.5'\"}, \"certifi\": {\"version\": \"==2021.5.30\", \"hashes\": [\"sha256:2bbf76fd432960138b3ef6dda3dde0544f27cbf8546c458e60baf371917ba9ee\", \"sha256:50b1e4f8446b06f41be7dd6338db18e0990601dce795c2b1686458aa7e8fa7d8\"]}, \"charset-normalizer\": {\"version\": \"==2.0.5\", \"hashes\": [\"sha256:7098e7e862f6370a2a8d1a6398cd359815c45d12626267652c3f13dec58e2367\", \"sha256:fa471a601dfea0f492e4f4fca035cd82155e65dc45c9b83bf4322dfab63755dd\"], \"markers\": \"python_version >= '3'\"}, \"clang\": {\"version\": \"==5.0\", \"hashes\": [\"sha256:b9301dff507041b5019b30ae710b78b0552c1ca1d4441b8dfa93c2e85078a5f8\", \"sha256:ceccae97eda0225a5b44d42ffd61102e248325c2865ca53e4407746464a5333a\"]}, \"cycler\": {\"version\": \"==0.10.0\", \"hashes\": [\"sha256:1d8a5ae1ff6c5cf9b93e8811e581232ad8920aeec647c37316ceac982b08cb2d\", \"sha256:cd7b2d1018258d7247a71425e9f26463dfb444d411c39569972f4ce586b0c9d8\"]}, \"flatbuffers\": {\"version\": \"==1.12\", \"hashes\": [\"sha256:63bb9a722d5e373701913e226135b28a6f6ac200d5cc7b4d919fa38d73b44610\", \"sha256:9e9ef47fa92625c4721036e7c4124182668dc6021d9e7c73704edd395648deb9\"]}, \"gast\": {\"version\": \"==0.4.0\", \"hashes\": [\"sha256:40feb7b8b8434785585ab224d1568b857edb18297e5a3047f1ba012bc83b42c1\", \"sha256:b7adcdd5adbebf1adf17378da5ba3f543684dbec47b1cda1f3997e573cd542c4\"], \"markers\": \"python_version >= '2.7' and python_version not in '3.0, 3.1, 3.2, 3.3'\"}, \"google-auth\": {\"version\": \"==1.35.0\", \"hashes\": [\"sha256:997516b42ecb5b63e8d80f5632c1a61dddf41d2a4c2748057837e06e00014258\", \"sha256:b7033be9028c188ee30200b204ea00ed82ea1162e8ac1df4aa6ded19a191d88e\"], \"markers\": \"python_version >= '2.7' and python_version not in '3.0, 3.1, 3.2, 3.3, 3.4, 3.5'\"}, \"google-auth-oauthlib\": {\"version\": \"==0.4.6\", \"hashes\": [\"sha256:3f2a6e802eebbb6fb736a370fbf3b055edcb6b52878bf2f26330b5e041316c73\", \"sha256:a90a072f6993f2c327067bf65270046384cda5a8ecb20b94ea9a687f1f233a7a\"], \"markers\": \"python_version >= '3.6'\"}, \"google-pasta\": {\"version\": \"==0.2.0\", \"hashes\": [\"sha256:4612951da876b1a10fe3960d7226f0c7682cf901e16ac06e473b267a5afa8954\", \"sha256:b32482794a366b5366a32c92a9a9201b107821889935a02b3e51f6b432ea84ed\", \"sha256:c9f2c8dfc8f96d0d5808299920721be30c9eec37f2389f28904f454565c8a16e\"]}, \"grpcio\": {\"version\": \"==1.40.0\", \"hashes\": [\"sha256:005fe14e67291498989da67d454d805be31d57a988af28ed3a2a0a7cabb05c53\", \"sha256:1708a0ba90c798b4313f541ffbcc25ed47e790adaafb02111204362723dabef0\", \"sha256:17ed13d43450ef9d1f9b78cc932bcf42844ca302235b93026dfd07fb5208d146\", \"sha256:1d9eabe2eb2f78208f9ae67a591f73b024488449d4e0a5b27c7fca2d6901a2d4\", \"sha256:1f9ccc9f5c0d5084d1cd917a0b5ff0142a8d269d0755592d751f8ce9e7d3d7f1\", \"sha256:24277aab99c346ca36a1aa8589a0624e19a8e6f2b74c83f538f7bb1cc5ee8dbc\", \"sha256:27dee6dcd1c04c4e9ceea49f6143003569292209d2c24ca100166660805e2440\", \"sha256:33dc4259fecb96e6eac20f760656b911bcb1616aa3e58b3a1d2f125714a2f5d3\", \"sha256:3d172158fe886a2604db1b6e17c2de2ab465fe0fe36aba2ec810ca8441cefe3a\", \"sha256:41e250ec7cd7523bf49c815b5509d5821728c26fac33681d4b0d1f5f34f59f06\", \"sha256:45704b9b5b85f9bcb027f90f2563d11d995c1b870a9ee4b3766f6c7ff6fc3505\", \"sha256:49155dfdf725c0862c428039123066b25ce61bd38ce50a21ce325f1735aac1bd\", \"sha256:4967949071c9e435f9565ec2f49700cebeda54836a04710fe21f7be028c0125a\", \"sha256:4c2baa438f51152c9b7d0835ff711add0b4bc5056c0f5df581a6112153010696\", \"sha256:5729ca9540049f52c2e608ca110048cfabab3aeaa0d9f425361d9f8ba8506cac\", \"sha256:5f6d6b638698fa6decf7f040819aade677b583eaa21b43366232cb254a2bbac8\", \"sha256:5ff0dcf66315f3f00e1a8eb7244c6a49bdb0cc59bef4fb65b9db8adbd78e6acb\", \"sha256:6b9b432f5665dfc802187384693b6338f05c7fc3707ebf003a89bd5132074e27\", \"sha256:6f8f581787e739945e6cda101f312ea8a7e7082bdbb4993901eb828da6a49092\", \"sha256:72b7b8075ee822dad4b39c150d73674c1398503d389e38981e9e35a894c476de\", \"sha256:886d056f5101ac513f4aefe4d21a816d98ee3f9a8e77fc3bcb4ae1a3a24efe26\", \"sha256:8a35b5f87247c893b01abf2f4f7493a18c2c5bf8eb3923b8dd1654d8377aa1a7\", \"sha256:913916823efa2e487b2ee9735b7759801d97fd1974bacdb1900e3bbd17f7d508\", \"sha256:a4389e26a8f9338ca91effdc5436dfec67d6ecd296368dba115799ae8f8e5bdb\", \"sha256:a66a30513d2e080790244a7ac3d7a3f45001f936c5c2c9613e41e2a5d7a11794\", \"sha256:a812164ceb48cb62c3217bd6245274e693c624cc2ac0c1b11b4cea96dab054dd\", \"sha256:a93490e6eff5fce3748fb2757cb4273dc21eb1b56732b8c9640fd82c1997b215\", \"sha256:b1b34e5a6f1285d1576099c663dae28c07b474015ed21e35a243aff66a0c2aed\", \"sha256:ba9dd97ea1738be3e81d34e6bab8ff91a0b80668a4ec81454b283d3c828cebde\", \"sha256:bf114be0023b145f7101f392a344692c1efd6de38a610c54a65ed3cba035e669\", \"sha256:c26de909cfd54bacdb7e68532a1591a128486af47ee3a5f828df9aa2165ae457\", \"sha256:d271e52038dec0db7c39ad9303442d6087c55e09b900e2931b86e837cf0cbc2e\", \"sha256:d3b4b41eb0148fca3e6e6fc61d1332a7e8e7c4074fb0d1543f0b255d7f5f1588\", \"sha256:d487b4daf84a14741ca1dc1c061ffb11df49d13702cd169b5837fafb5e84d9c0\", \"sha256:d760a66c9773780837915be85a39d2cd4ab42ef32657c5f1d28475e23ab709fc\", \"sha256:e12d776a240fee3ebd002519c02d165d94ec636d3fe3d6185b361bfc9a2d3106\", \"sha256:e19de138199502d575fcec5cf68ae48815a6efe7e5c0d0b8c97eba8c77ae9f0e\", \"sha256:e2367f2b18dd4ba64cdcd9f626a920f9ec2e8228630839dc8f4a424d461137ea\", \"sha256:ecfd80e8ea03c46b3ea7ed37d2040fcbfe739004b9e4329b8b602d06ac6fb113\", \"sha256:edddc849bed3c5dfe215a9f9532a9bd9f670b57d7b8af603be80148b4c69e9a8\", \"sha256:eedc8c3514c10b6f11c6f406877e424ca29610883b97bb97e33b1dd2a9077f6c\", \"sha256:f06e07161c21391682bfcac93a181a037a8aa3d561546690e9d0501189729aac\", \"sha256:fb06708e3d173e387326abcd5182d52beb60e049db5c3d317bd85509e938afdc\", \"sha256:fbe3b66bfa2c2f94535f6063f6db62b5b150d55a120f2f9e1175d3087429c4d9\"]}, \"h5py\": {\"version\": \"==3.1.0\", \"hashes\": [\"sha256:02c391fdb980762a1cc03a4bcaecd03dc463994a9a63a02264830114a96e111f\", \"sha256:1cd367f89a5441236bdbb795e9fb9a9e3424929c00b4a54254ca760437f83d69\", \"sha256:1cdfd1c5449ca1329d152f0b66830e93226ebce4f5e07dd8dc16bfc2b1a49d7b\", \"sha256:1e2516f190652beedcb8c7acfa1c6fa92d99b42331cbef5e5c7ec2d65b0fc3c2\", \"sha256:236ac8d943be30b617ab615c3d4a4bf4a438add2be87e54af3687ab721a18fac\", \"sha256:2e37352ddfcf9d77a2a47f7c8f7e125c6d20cc06c2995edeb7be222d4e152636\", \"sha256:80c623be10479e81b64fa713b7ed4c0bbe9f02e8e7d2a2e5382336087b615ce4\", \"sha256:ba71f6229d2013fbb606476ecc29c6223fc16b244d35fcd8566ad9dbaf910857\", \"sha256:cb74df83709d6d03d11e60b9480812f58da34f194beafa8c8314dbbeeedfe0a6\", \"sha256:dccb89358bc84abcd711363c3e138f9f4eccfdf866f2139a8e72308328765b2c\", \"sha256:e33f61d3eb862614c0f273a1f993a64dc2f093e1a3094932c50ada9d2db2170f\", \"sha256:f89a3dae38843ffa49d17a31a3509a8129e9b46ece602a0138e1ed79e685c361\", \"sha256:fea05349f63625a8fb808e57e42bb4c76930cf5d50ac58b678c52f913a48a89b\"], \"markers\": \"python_version >= '3.6'\"}, \"idna\": {\"version\": \"==3.2\", \"hashes\": [\"sha256:14475042e284991034cb48e06f6851428fb14c4dc953acd9be9a5e95c7b6dd7a\", \"sha256:467fbad99067910785144ce333826c71fb0e63a425657295239737f7ecd125f3\"], \"markers\": \"python_version >= '3'\"}, \"jmespath\": {\"version\": \"==0.10.0\", \"hashes\": [\"sha256:b85d0567b8666149a93172712e68920734333c0ce7e89b78b3e987f71e5ed4f9\", \"sha256:cdf6525904cc597730141d61b36f2e4b8ecc257c420fa2f4549bac2c2d0cb72f\"], \"markers\": \"python_version >= '2.6' and python_version not in '3.0, 3.1, 3.2, 3.3'\"}, \"keras\": {\"version\": \"==2.6.0\", \"hashes\": [\"sha256:504af5656a9829fe803ce48a8580ef16916e89906aceddad9e098614269437e7\"]}, \"keras-preprocessing\": {\"version\": \"==1.1.2\", \"hashes\": [\"sha256:7b82029b130ff61cc99b55f3bd27427df4838576838c5b2f65940e4fcec99a7b\", \"sha256:add82567c50c8bc648c14195bf544a5ce7c1f76761536956c3d2978970179ef3\"]}, \"kiwisolver\": {\"version\": \"==1.3.2\", \"hashes\": [\"sha256:0007840186bacfaa0aba4466d5890334ea5938e0bb7e28078a0eb0e63b5b59d5\", \"sha256:19554bd8d54cf41139f376753af1a644b63c9ca93f8f72009d50a2080f870f77\", \"sha256:1d45d1c74f88b9f41062716c727f78f2a59a5476ecbe74956fafb423c5c87a76\", \"sha256:1d819553730d3c2724582124aee8a03c846ec4362ded1034c16fb3ef309264e6\", \"sha256:2210f28778c7d2ee13f3c2a20a3a22db889e75f4ec13a21072eabb5693801e84\", \"sha256:22521219ca739654a296eea6d4367703558fba16f98688bd8ce65abff36eaa84\", \"sha256:25405f88a37c5f5bcba01c6e350086d65e7465fd1caaf986333d2a045045a223\", \"sha256:2b65bd35f3e06a47b5c30ea99e0c2b88f72c6476eedaf8cfbc8e66adb5479dcf\", \"sha256:2ddb500a2808c100e72c075cbb00bf32e62763c82b6a882d403f01a119e3f402\", \"sha256:2f8f6c8f4f1cff93ca5058d6ec5f0efda922ecb3f4c5fb76181f327decff98b8\", \"sha256:30fa008c172355c7768159983a7270cb23838c4d7db73d6c0f6b60dde0d432c6\", \"sha256:3dbb3cea20b4af4f49f84cffaf45dd5f88e8594d18568e0225e6ad9dec0e7967\", \"sha256:4116ba9a58109ed5e4cb315bdcbff9838f3159d099ba5259c7c7fb77f8537492\", \"sha256:44e6adf67577dbdfa2d9f06db9fbc5639afefdb5bf2b4dfec25c3a7fbc619536\", \"sha256:5326ddfacbe51abf9469fe668944bc2e399181a2158cb5d45e1d40856b2a0589\", \"sha256:70adc3658138bc77a36ce769f5f183169bc0a2906a4f61f09673f7181255ac9b\", \"sha256:72be6ebb4e92520b9726d7146bc9c9b277513a57a38efcf66db0620aec0097e0\", \"sha256:7843b1624d6ccca403a610d1277f7c28ad184c5aa88a1750c1a999754e65b439\", \"sha256:7ba5a1041480c6e0a8b11a9544d53562abc2d19220bfa14133e0cdd9967e97af\", \"sha256:80efd202108c3a4150e042b269f7c78643420cc232a0a771743bb96b742f838f\", \"sha256:82f49c5a79d3839bc8f38cb5f4bfc87e15f04cbafa5fbd12fb32c941cb529cfb\", \"sha256:83d2c9db5dfc537d0171e32de160461230eb14663299b7e6d18ca6dca21e4977\", \"sha256:8d93a1095f83e908fc253f2fb569c2711414c0bfd451cab580466465b235b470\", \"sha256:8dc3d842fa41a33fe83d9f5c66c0cc1f28756530cd89944b63b072281e852031\", \"sha256:9661a04ca3c950a8ac8c47f53cbc0b530bce1b52f516a1e87b7736fec24bfff0\", \"sha256:a498bcd005e8a3fedd0022bb30ee0ad92728154a8798b703f394484452550507\", \"sha256:a7a4cf5bbdc861987a7745aed7a536c6405256853c94abc9f3287c3fa401b174\", \"sha256:b5074fb09429f2b7bc82b6fb4be8645dcbac14e592128beeff5461dcde0af09f\", \"sha256:b6a5431940f28b6de123de42f0eb47b84a073ee3c3345dc109ad550a3307dd28\", \"sha256:ba677bcaff9429fd1bf01648ad0901cea56c0d068df383d5f5856d88221fe75b\", \"sha256:bcadb05c3d4794eb9eee1dddf1c24215c92fb7b55a80beae7a60530a91060560\", \"sha256:bf7eb45d14fc036514c09554bf983f2a72323254912ed0c3c8e697b62c4c158f\", \"sha256:c358721aebd40c243894298f685a19eb0491a5c3e0b923b9f887ef1193ddf829\", \"sha256:c4550a359c5157aaf8507e6820d98682872b9100ce7607f8aa070b4b8af6c298\", \"sha256:c6572c2dab23c86a14e82c245473d45b4c515314f1f859e92608dcafbd2f19b8\", \"sha256:cba430db673c29376135e695c6e2501c44c256a81495da849e85d1793ee975ad\", \"sha256:dedc71c8eb9c5096037766390172c34fb86ef048b8e8958b4e484b9e505d66bc\", \"sha256:e6f5eb2f53fac7d408a45fbcdeda7224b1cfff64919d0f95473420a931347ae9\", \"sha256:ec2eba188c1906b05b9b49ae55aae4efd8150c61ba450e6721f64620c50b59eb\", \"sha256:ee040a7de8d295dbd261ef2d6d3192f13e2b08ec4a954de34a6fb8ff6422e24c\", \"sha256:eedd3b59190885d1ebdf6c5e0ca56828beb1949b4dfe6e5d0256a461429ac386\", \"sha256:f441422bb313ab25de7b3dbfd388e790eceb76ce01a18199ec4944b369017009\", \"sha256:f8eb7b6716f5b50e9c06207a14172cf2de201e41912ebe732846c02c830455b9\", \"sha256:fc4453705b81d03568d5b808ad8f09c77c47534f6ac2e72e733f9ca4714aa75c\"], \"markers\": \"python_version >= '3.7'\"}, \"markdown\": {\"version\": \"==3.3.4\", \"hashes\": [\"sha256:31b5b491868dcc87d6c24b7e3d19a0d730d59d3e46f4eea6430a321bed387a49\", \"sha256:96c3ba1261de2f7547b46a00ea8463832c921d3f9d6aba3f255a6f71386db20c\"], \"markers\": \"python_version >= '3.6'\"}, \"matplotlib\": {\"version\": \"==3.4.3\", \"hashes\": [\"sha256:01c9de93a2ca0d128c9064f23709362e7fefb34910c7c9e0b8ab0de8258d5eda\", \"sha256:41b6e307458988891fcdea2d8ecf84a8c92d53f84190aa32da65f9505546e684\", \"sha256:48e1e0859b54d5f2e29bb78ca179fd59b971c6ceb29977fb52735bfd280eb0f5\", \"sha256:54a026055d5f8614f184e588f6e29064019a0aa8448450214c0b60926d62d919\", \"sha256:556965514b259204637c360d213de28d43a1f4aed1eca15596ce83f768c5a56f\", \"sha256:5c988bb43414c7c2b0a31bd5187b4d27fd625c080371b463a6d422047df78913\", \"sha256:6a724e3a48a54b8b6e7c4ae38cd3d07084508fa47c410c8757e9db9791421838\", \"sha256:6be8df61b1626e1a142c57e065405e869e9429b4a6dab4a324757d0dc4d42235\", \"sha256:844a7b0233e4ff7fba57e90b8799edaa40b9e31e300b8d5efc350937fa8b1bea\", \"sha256:85f0c9cf724715e75243a7b3087cf4a3de056b55e05d4d76cc58d610d62894f3\", \"sha256:a78a3b51f29448c7f4d4575e561f6b0dbb8d01c13c2046ab6c5220eb25c06506\", \"sha256:b884715a59fec9ad3b6048ecf3860f3b2ce965e676ef52593d6fa29abcf7d330\", \"sha256:b8b53f336a4688cfce615887505d7e41fd79b3594bf21dd300531a4f5b4f746a\", \"sha256:c70b6311dda3e27672f1bf48851a0de816d1ca6aaf3d49365fbdd8e959b33d2b\", \"sha256:ebfb01a65c3f5d53a8c2a8133fec2b5221281c053d944ae81ff5822a68266617\", \"sha256:eeb1859efe7754b1460e1d4991bbd4a60a56f366bc422ef3a9c5ae05f0bc70b5\", \"sha256:f15edcb0629a0801738925fe27070480f446fcaa15de65946ff946ad99a59a40\", \"sha256:f1c5efc278d996af8a251b2ce0b07bbeccb821f25c8c9846bdcb00ffc7f158aa\", \"sha256:f72657f1596199dc1e4e7a10f52a4784ead8a711f4e5b59bea95bdb97cf0e4fd\", \"sha256:fc4f526dfdb31c9bd6b8ca06bf9fab663ca12f3ec9cdf4496fb44bc680140318\", \"sha256:fcd6f1954943c0c192bfbebbac263f839d7055409f1173f80d8b11a224d236da\"], \"index\": \"pypi\"}, \"numpy\": {\"version\": \"==1.19.5\", \"hashes\": [\"sha256:012426a41bc9ab63bb158635aecccc7610e3eff5d31d1eb43bc099debc979d94\", \"sha256:06fab248a088e439402141ea04f0fffb203723148f6ee791e9c75b3e9e82f080\", \"sha256:0eef32ca3132a48e43f6a0f5a82cb508f22ce5a3d6f67a8329c81c8e226d3f6e\", \"sha256:1ded4fce9cfaaf24e7a0ab51b7a87be9038ea1ace7f34b841fe3b6894c721d1c\", \"sha256:2e55195bc1c6b705bfd8ad6f288b38b11b1af32f3c8289d6c50d47f950c12e76\", \"sha256:2ea52bd92ab9f768cc64a4c3ef8f4b2580a17af0a5436f6126b08efbd1838371\", \"sha256:36674959eed6957e61f11c912f71e78857a8d0604171dfd9ce9ad5cbf41c511c\", \"sha256:384ec0463d1c2671170901994aeb6dce126de0a95ccc3976c43b0038a37329c2\", \"sha256:39b70c19ec771805081578cc936bbe95336798b7edf4732ed102e7a43ec5c07a\", \"sha256:400580cbd3cff6ffa6293df2278c75aef2d58d8d93d3c5614cd67981dae68ceb\", \"sha256:43d4c81d5ffdff6bae58d66a3cd7f54a7acd9a0e7b18d97abb255defc09e3140\", \"sha256:50a4a0ad0111cc1b71fa32dedd05fa239f7fb5a43a40663269bb5dc7877cfd28\", \"sha256:603aa0706be710eea8884af807b1b3bc9fb2e49b9f4da439e76000f3b3c6ff0f\", \"sha256:6149a185cece5ee78d1d196938b2a8f9d09f5a5ebfbba66969302a778d5ddd1d\", \"sha256:759e4095edc3c1b3ac031f34d9459fa781777a93ccc633a472a5468587a190ff\", \"sha256:7fb43004bce0ca31d8f13a6eb5e943fa73371381e53f7074ed21a4cb786c32f8\", \"sha256:811daee36a58dc79cf3d8bdd4a490e4277d0e4b7d103a001a4e73ddb48e7e6aa\", \"sha256:8b5e972b43c8fc27d56550b4120fe6257fdc15f9301914380b27f74856299fea\", \"sha256:99abf4f353c3d1a0c7a5f27699482c987cf663b1eac20db59b8c7b061eabd7fc\", \"sha256:a0d53e51a6cb6f0d9082decb7a4cb6dfb33055308c4c44f53103c073f649af73\", \"sha256:a12ff4c8ddfee61f90a1633a4c4afd3f7bcb32b11c52026c92a12e1325922d0d\", \"sha256:a4646724fba402aa7504cd48b4b50e783296b5e10a524c7a6da62e4a8ac9698d\", \"sha256:a76f502430dd98d7546e1ea2250a7360c065a5fdea52b2dffe8ae7180909b6f4\", \"sha256:a9d17f2be3b427fbb2bce61e596cf555d6f8a56c222bd2ca148baeeb5e5c783c\", \"sha256:ab83f24d5c52d60dbc8cd0528759532736b56db58adaa7b5f1f76ad551416a1e\", \"sha256:aeb9ed923be74e659984e321f609b9ba54a48354bfd168d21a2b072ed1e833ea\", \"sha256:c843b3f50d1ab7361ca4f0b3639bf691569493a56808a0b0c54a051d260b7dbd\", \"sha256:cae865b1cae1ec2663d8ea56ef6ff185bad091a5e33ebbadd98de2cfa3fa668f\", \"sha256:cc6bd4fd593cb261332568485e20a0712883cf631f6f5e8e86a52caa8b2b50ff\", \"sha256:cf2402002d3d9f91c8b01e66fbb436a4ed01c6498fffed0e4c7566da1d40ee1e\", \"sha256:d051ec1c64b85ecc69531e1137bb9751c6830772ee5c1c426dbcfe98ef5788d7\", \"sha256:d6631f2e867676b13026e2846180e2c13c1e11289d67da08d71cacb2cd93d4aa\", \"sha256:dbd18bcf4889b720ba13a27ec2f2aac1981bd41203b3a3b27ba7a33f88ae4827\", \"sha256:df609c82f18c5b9f6cb97271f03315ff0dbe481a2a02e56aeb1b1a985ce38e60\"], \"index\": \"pypi\"}, \"oauthlib\": {\"version\": \"==3.1.1\", \"hashes\": [\"sha256:42bf6354c2ed8c6acb54d971fce6f88193d97297e18602a3a886603f9d7730cc\", \"sha256:8f0215fcc533dd8dd1bee6f4c412d4f0cd7297307d43ac61666389e3bc3198a3\"], \"markers\": \"python_version >= '3.6'\"}, \"opt-einsum\": {\"version\": \"==3.3.0\", \"hashes\": [\"sha256:2455e59e3947d3c275477df7f5205b30635e266fe6dc300e3d9f9646bfcea147\", \"sha256:59f6475f77bbc37dcf7cd748519c0ec60722e91e63ca114e68821c0c54a46549\"], \"markers\": \"python_version >= '3.5'\"}, \"pillow\": {\"version\": \"==8.3.2\", \"hashes\": [\"sha256:0412516dcc9de9b0a1e0ae25a280015809de8270f134cc2c1e32c4eeb397cf30\", \"sha256:04835e68ef12904bc3e1fd002b33eea0779320d4346082bd5b24bec12ad9c3e9\", \"sha256:06d1adaa284696785375fa80a6a8eb309be722cf4ef8949518beb34487a3df71\", \"sha256:085a90a99404b859a4b6c3daa42afde17cb3ad3115e44a75f0d7b4a32f06a6c9\", \"sha256:0b9911ec70731711c3b6ebcde26caea620cbdd9dcb73c67b0730c8817f24711b\", \"sha256:10e00f7336780ca7d3653cf3ac26f068fa11b5a96894ea29a64d3dc4b810d630\", \"sha256:11c27e74bab423eb3c9232d97553111cc0be81b74b47165f07ebfdd29d825875\", \"sha256:11eb7f98165d56042545c9e6db3ce394ed8b45089a67124298f0473b29cb60b2\", \"sha256:13654b521fb98abdecec105ea3fb5ba863d1548c9b58831dd5105bb3873569f1\", \"sha256:15ccb81a6ffc57ea0137f9f3ac2737ffa1d11f786244d719639df17476d399a7\", \"sha256:18a07a683805d32826c09acfce44a90bf474e6a66ce482b1c7fcd3757d588df3\", \"sha256:19ec4cfe4b961edc249b0e04b5618666c23a83bc35842dea2bfd5dfa0157f81b\", \"sha256:1c3ff00110835bdda2b1e2b07f4a2548a39744bb7de5946dc8e95517c4fb2ca6\", \"sha256:27a330bf7014ee034046db43ccbb05c766aa9e70b8d6c5260bfc38d73103b0ba\", \"sha256:2b11c9d310a3522b0fd3c35667914271f570576a0e387701f370eb39d45f08a4\", \"sha256:2c661542c6f71dfd9dc82d9d29a8386287e82813b0375b3a02983feac69ef864\", \"sha256:2cde7a4d3687f21cffdf5bb171172070bb95e02af448c4c8b2f223d783214056\", \"sha256:2d5e9dc0bf1b5d9048a94c48d0813b6c96fccfa4ccf276d9c36308840f40c228\", \"sha256:2f23b2d3079522fdf3c09de6517f625f7a964f916c956527bed805ac043799b8\", \"sha256:35d27687f027ad25a8d0ef45dd5208ef044c588003cdcedf05afb00dbc5c2deb\", \"sha256:35d409030bf3bd05fa66fb5fdedc39c521b397f61ad04309c90444e893d05f7d\", \"sha256:4326ea1e2722f3dc00ed77c36d3b5354b8fb7399fb59230249ea6d59cbed90da\", \"sha256:4abc247b31a98f29e5224f2d31ef15f86a71f79c7f4d2ac345a5d551d6393073\", \"sha256:4d89a2e9219a526401015153c0e9dd48319ea6ab9fe3b066a20aa9aee23d9fd3\", \"sha256:4e59e99fd680e2b8b11bbd463f3c9450ab799305d5f2bafb74fefba6ac058616\", \"sha256:548794f99ff52a73a156771a0402f5e1c35285bd981046a502d7e4793e8facaa\", \"sha256:56fd98c8294f57636084f4b076b75f86c57b2a63a8410c0cd172bc93695ee979\", \"sha256:59697568a0455764a094585b2551fd76bfd6b959c9f92d4bdec9d0e14616303a\", \"sha256:6bff50ba9891be0a004ef48828e012babaaf7da204d81ab9be37480b9020a82b\", \"sha256:6cb3dd7f23b044b0737317f892d399f9e2f0b3a02b22b2c692851fb8120d82c6\", \"sha256:7dbfbc0020aa1d9bc1b0b8bcf255a7d73f4ad0336f8fd2533fcc54a4ccfb9441\", \"sha256:838eb85de6d9307c19c655c726f8d13b8b646f144ca6b3771fa62b711ebf7624\", \"sha256:8b68f565a4175e12e68ca900af8910e8fe48aaa48fd3ca853494f384e11c8bcd\", \"sha256:8f284dc1695caf71a74f24993b7c7473d77bc760be45f776a2c2f4e04c170550\", \"sha256:963ebdc5365d748185fdb06daf2ac758116deecb2277ec5ae98139f93844bc09\", \"sha256:a048dad5ed6ad1fad338c02c609b862dfaa921fcd065d747194a6805f91f2196\", \"sha256:a1bd983c565f92779be456ece2479840ec39d386007cd4ae83382646293d681b\", \"sha256:a66566f8a22561fc1a88dc87606c69b84fa9ce724f99522cf922c801ec68f5c1\", \"sha256:bcb04ff12e79b28be6c9988f275e7ab69f01cc2ba319fb3114f87817bb7c74b6\", \"sha256:bd24054aaf21e70a51e2a2a5ed1183560d3a69e6f9594a4bfe360a46f94eba83\", \"sha256:be25cb93442c6d2f8702c599b51184bd3ccd83adebd08886b682173e09ef0c3f\", \"sha256:c691b26283c3a31594683217d746f1dad59a7ae1d4cfc24626d7a064a11197d4\", \"sha256:cc9d0dec711c914ed500f1d0d3822868760954dce98dfb0b7382a854aee55d19\", \"sha256:ce2e5e04bb86da6187f96d7bab3f93a7877830981b37f0287dd6479e27a10341\", \"sha256:ce651ca46d0202c302a535d3047c55a0131a720cf554a578fc1b8a2aff0e7d96\", \"sha256:d0c8ebbfd439c37624db98f3877d9ed12c137cadd99dde2d2eae0dab0bbfc355\", \"sha256:d675a876b295afa114ca8bf42d7f86b5fb1298e1b6bb9a24405a3f6c8338811c\", \"sha256:dde3f3ed8d00c72631bc19cbfff8ad3b6215062a5eed402381ad365f82f0c18c\", \"sha256:e5a31c07cea5edbaeb4bdba6f2b87db7d3dc0f446f379d907e51cc70ea375629\", \"sha256:f514c2717012859ccb349c97862568fdc0479aad85b0270d6b5a6509dbc142e2\", \"sha256:fc0db32f7223b094964e71729c0361f93db43664dd1ec86d3df217853cedda87\", \"sha256:fd4fd83aa912d7b89b4b4a1580d30e2a4242f3936882a3f433586e5ab97ed0d5\", \"sha256:feb5db446e96bfecfec078b943cc07744cc759893cef045aa8b8b6d6aaa8274e\"], \"markers\": \"python_version >= '3.6'\"}, \"protobuf\": {\"version\": \"==3.17.3\", \"hashes\": [\"sha256:13ee7be3c2d9a5d2b42a1030976f760f28755fcf5863c55b1460fd205e6cd637\", \"sha256:145ce0af55c4259ca74993ddab3479c78af064002ec8227beb3d944405123c71\", \"sha256:14c1c9377a7ffbeaccd4722ab0aa900091f52b516ad89c4b0c3bb0a4af903ba5\", \"sha256:1556a1049ccec58c7855a78d27e5c6e70e95103b32de9142bae0576e9200a1b0\", \"sha256:26010f693b675ff5a1d0e1bdb17689b8b716a18709113288fead438703d45539\", \"sha256:2ae692bb6d1992afb6b74348e7bb648a75bb0d3565a3f5eea5bec8f62bd06d87\", \"sha256:2bfb815216a9cd9faec52b16fd2bfa68437a44b67c56bee59bc3926522ecb04e\", \"sha256:4ffbd23640bb7403574f7aff8368e2aeb2ec9a5c6306580be48ac59a6bac8bde\", \"sha256:59e5cf6b737c3a376932fbfb869043415f7c16a0cf176ab30a5bbc419cd709c1\", \"sha256:6902a1e4b7a319ec611a7345ff81b6b004b36b0d2196ce7a748b3493da3d226d\", \"sha256:6ce4d8bf0321e7b2d4395e253f8002a1a5ffbcfd7bcc0a6ba46712c07d47d0b4\", \"sha256:6d847c59963c03fd7a0cd7c488cadfa10cda4fff34d8bc8cba92935a91b7a037\", \"sha256:72804ea5eaa9c22a090d2803813e280fb273b62d5ae497aaf3553d141c4fdd7b\", \"sha256:7a4c97961e9e5b03a56f9a6c82742ed55375c4a25f2692b625d4087d02ed31b9\", \"sha256:85d6303e4adade2827e43c2b54114d9a6ea547b671cb63fafd5011dc47d0e13d\", \"sha256:8727ee027157516e2c311f218ebf2260a18088ffb2d29473e82add217d196b1c\", \"sha256:99938f2a2d7ca6563c0ade0c5ca8982264c484fdecf418bd68e880a7ab5730b1\", \"sha256:9b7a5c1022e0fa0dbde7fd03682d07d14624ad870ae52054849d8960f04bc764\", \"sha256:a22b3a0dbac6544dacbafd4c5f6a29e389a50e3b193e2c70dae6bbf7930f651d\", \"sha256:a38bac25f51c93e4be4092c88b2568b9f407c27217d3dd23c7a57fa522a17554\", \"sha256:a981222367fb4210a10a929ad5983ae93bd5a050a0824fc35d6371c07b78caf6\", \"sha256:ab6bb0e270c6c58e7ff4345b3a803cc59dbee19ddf77a4719c5b635f1d547aa8\", \"sha256:c56c050a947186ba51de4f94ab441d7f04fcd44c56df6e922369cc2e1a92d683\", \"sha256:e76d9686e088fece2450dbc7ee905f9be904e427341d289acbe9ad00b78ebd47\", \"sha256:ebcb546f10069b56dc2e3da35e003a02076aaa377caf8530fe9789570984a8d2\", \"sha256:f0e59430ee953184a703a324b8ec52f571c6c4259d496a19d1cabcdc19dabc62\", \"sha256:ffea251f5cd3c0b9b43c7a7a912777e0bc86263436a87c2555242a348817221b\"]}, \"pyasn1\": {\"version\": \"==0.4.8\", \"hashes\": [\"sha256:014c0e9976956a08139dc0712ae195324a75e142284d5f87f1a87ee1b068a359\", \"sha256:03840c999ba71680a131cfaee6fab142e1ed9bbd9c693e285cc6aca0d555e576\", \"sha256:0458773cfe65b153891ac249bcf1b5f8f320b7c2ce462151f8fa74de8934becf\", \"sha256:08c3c53b75eaa48d71cf8c710312316392ed40899cb34710d092e96745a358b7\", \"sha256:39c7e2ec30515947ff4e87fb6f456dfc6e84857d34be479c9d4a4ba4bf46aa5d\", \"sha256:5c9414dcfede6e441f7e8f81b43b34e834731003427e5b09e4e00e3172a10f00\", \"sha256:6e7545f1a61025a4e58bb336952c5061697da694db1cae97b116e9c46abcf7c8\", \"sha256:78fa6da68ed2727915c4767bb386ab32cdba863caa7dbe473eaae45f9959da86\", \"sha256:7ab8a544af125fb704feadb008c99a88805126fb525280b2270bb25cc1d78a12\", \"sha256:99fcc3c8d804d1bc6d9a099921e39d827026409a58f2a720dcdb89374ea0c776\", \"sha256:aef77c9fb94a3ac588e87841208bdec464471d9871bd5050a287cc9a475cd0ba\", \"sha256:e89bf84b5437b532b0803ba5c9a5e054d21fec423a89952a74f87fa2c9b7bce2\", \"sha256:fec3e9d8e36808a28efb59b489e4528c10ad0f480e57dcc32b4de5c9d8c9fdf3\"]}, \"pyasn1-modules\": {\"version\": \"==0.2.8\", \"hashes\": [\"sha256:0845a5582f6a02bb3e1bde9ecfc4bfcae6ec3210dd270522fee602365430c3f8\", \"sha256:0fe1b68d1e486a1ed5473f1302bd991c1611d319bba158e98b106ff86e1d7199\", \"sha256:15b7c67fabc7fc240d87fb9aabf999cf82311a6d6fb2c70d00d3d0604878c811\", \"sha256:426edb7a5e8879f1ec54a1864f16b882c2837bfd06eee62f2c982315ee2473ed\", \"sha256:65cebbaffc913f4fe9e4808735c95ea22d7a7775646ab690518c056784bc21b4\", \"sha256:905f84c712230b2c592c19470d3ca8d552de726050d1d1716282a1f6146be65e\", \"sha256:a50b808ffeb97cb3601dd25981f6b016cbb3d31fbf57a8b8a87428e6158d0c74\", \"sha256:a99324196732f53093a84c4369c996713eb8c89d360a496b599fb1a9c47fc3eb\", \"sha256:b80486a6c77252ea3a3e9b1e360bc9cf28eaac41263d173c032581ad2f20fe45\", \"sha256:c29a5e5cc7a3f05926aff34e097e84f8589cd790ce0ed41b67aed6857b26aafd\", \"sha256:cbac4bc38d117f2a49aeedec4407d23e8866ea4ac27ff2cf7fb3e5b570df19e0\", \"sha256:f39edd8c4ecaa4556e989147ebf219227e2cd2e8a43c7e7fcb1f1c18c5fd6a3d\", \"sha256:fe0644d9ab041506b62782e92b06b8c68cca799e1a9636ec398675459e031405\"]}, \"pyparsing\": {\"version\": \"==2.4.7\", \"hashes\": [\"sha256:c203ec8783bf771a155b207279b9bccb8dea02d8f0c9e5f8ead507bc3246ecc1\", \"sha256:ef9d7589ef3c200abe66653d3f1ab1033c3c419ae9b9bdb1240a85b024efc88b\"], \"markers\": \"python_version >= '2.6' and python_version not in '3.0, 3.1, 3.2, 3.3'\"}, \"python-dateutil\": {\"version\": \"==2.8.2\", \"hashes\": [\"sha256:0123cacc1627ae19ddf3c27a5de5bd67ee4586fbdd6440d9748f8abb483d3e86\", \"sha256:961d03dc3453ebbc59dbdea9e4e11c5651520a876d0f4db161e8674aae935da9\"], \"markers\": \"python_version >= '2.7' and python_version not in '3.0, 3.1, 3.2, 3.3'\"}, \"requests\": {\"version\": \"==2.26.0\", \"hashes\": [\"sha256:6c1246513ecd5ecd4528a0906f910e8f0f9c6b8ec72030dc9fd154dc1a6efd24\", \"sha256:b8aa58f8cf793ffd8782d3d8cb19e66ef36f7aba4353eec859e74678b01b07a7\"], \"markers\": \"python_version >= '2.7' and python_version not in '3.0, 3.1, 3.2, 3.3, 3.4, 3.5'\"}, \"requests-oauthlib\": {\"version\": \"==1.3.0\", \"hashes\": [\"sha256:7f71572defaecd16372f9006f33c2ec8c077c3cfa6f5911a9a90202beb513f3d\", \"sha256:b4261601a71fd721a8bd6d7aa1cc1d6a8a93b4a9f5e96626f8e4d91e8beeaa6a\", \"sha256:fa6c47b933f01060936d87ae9327fead68768b69c6c9ea2109c48be30f2d4dbc\"]}, \"rsa\": {\"version\": \"==4.7.2\", \"hashes\": [\"sha256:78f9a9bf4e7be0c5ded4583326e7461e3a3c5aae24073648b4bdfa797d78c9d2\", \"sha256:9d689e6ca1b3038bc82bf8d23e944b6b6037bc02301a574935b2dd946e0353b9\"], \"markers\": \"python_version >= '3.6'\"}, \"s3transfer\": {\"version\": \"==0.5.0\", \"hashes\": [\"sha256:50ed823e1dc5868ad40c8dc92072f757aa0e653a192845c94a3b676f4a62da4c\", \"sha256:9c1dc369814391a6bda20ebbf4b70a0f34630592c9aa520856bf384916af2803\"], \"markers\": \"python_version >= '3.6'\"}, \"six\": {\"version\": \"==1.15.0\", \"hashes\": [\"sha256:30639c035cdb23534cd4aa2dd52c3bf48f06e5f4a941509c8bafd8ce11080259\", \"sha256:8b74bedcbbbaca38ff6d7491d76f2b06b3592611af620f8426e82dddb04a5ced\"], \"markers\": \"python_version >= '2.7' and python_version not in '3.0, 3.1, 3.2, 3.3'\"}, \"tensorboard\": {\"version\": \"==2.6.0\", \"hashes\": [\"sha256:f7dac4cdfb52d14c9e3f74585ce2aaf8e6203620a864e51faf84988b09f7bbdb\"], \"markers\": \"python_version >= '3.6'\"}, \"tensorboard-data-server\": {\"version\": \"==0.6.1\", \"hashes\": [\"sha256:809fe9887682d35c1f7d1f54f0f40f98bb1f771b14265b453ca051e2ce58fca7\", \"sha256:d8237580755e58eff68d1f3abefb5b1e39ae5c8b127cc40920f9c4fb33f4b98a\", \"sha256:fa8cef9be4fcae2f2363c88176638baf2da19c5ec90addb49b1cde05c95c88ee\"], \"markers\": \"python_version >= '3.6'\"}, \"tensorboard-plugin-wit\": {\"version\": \"==1.8.0\", \"hashes\": [\"sha256:2a80d1c551d741e99b2f197bb915d8a133e24adb8da1732b840041860f91183a\"]}, \"tensorflow\": {\"version\": \"==2.6.0\", \"hashes\": [\"sha256:00b1af0a0c5c102db19caceffac4bd4e6c536e6d7512144c241a4ace4428e7c6\", \"sha256:2a067d22a356c2cd4753bdd16ee492c55a610f5ebc52713e2954c642f070321c\", \"sha256:2c9b8c6adc060acfcf805a2ea501db0124b679d95b522fd5983a4c110e8e0264\", \"sha256:4716c9b25a61a2c79b1f253d1e114f1f8679241559c13ad18c657c626a7d5924\", \"sha256:6e38b6969414d16afc560c58ca34e1328cc0a5dbd644b64e060f5be8a6653274\", \"sha256:8b5ce09ede0fe45ef100f4dc65cf3f46722194e75139f85d524058315e2ce9fa\", \"sha256:bc73ebdd30c48cfc27ba307271117e6dbb795b37396ed817b2fec9393380b115\", \"sha256:bfb255c2b0400bc5b4060dda098d46cd7ddeb53b7cbac1dfa29435612cba828c\", \"sha256:c67fad296a3a2133b7a14da5f06c9937e7911b02c5d7a3ff6ba52a1d79b6bc9e\", \"sha256:d6468e05552720100e8f94097feb770de320e4c8c244323a8746bd84e5ba4052\", \"sha256:dea97f664246e185d79cbe40a86309527affd4232f06afa8a6500c4fc4b64a03\", \"sha256:e45e026a9d08c89cecc1160d8248135e2fb79bdc3267328399e1fb25ce583bd6\"], \"index\": \"pypi\"}, \"tensorflow-estimator\": {\"version\": \"==2.6.0\", \"hashes\": [\"sha256:cf78528998efdb637ac0abaf525c929bf192767544eb24ae20d9266effcf5afd\"]}, \"termcolor\": {\"version\": \"==1.1.0\", \"hashes\": [\"sha256:1d6d69ce66211143803fbc56652b41d73b4a400a2891d7bf7a1cdf4c02de613b\"]}, \"typing-extensions\": {\"version\": \"==3.7.4.3\", \"hashes\": [\"sha256:7cb407020f00f7bfc3cb3e7881628838e69d8f3fcab2f64742a5e76b2f841918\", \"sha256:99d4073b617d30288f569d3f13d2bd7548c3a7e4c8de87db09a9d29bb3a4a60c\", \"sha256:dafc7639cde7f1b6e1acc0f457842a83e722ccca8eef5270af2d74792619a89f\"]}, \"urllib3\": {\"version\": \"==1.26.6\", \"hashes\": [\"sha256:39fb8672126159acb139a7718dd10806104dec1e2f0f6c88aab05d17df10c8d4\", \"sha256:f57b4c16c62fa2760b7e3d97c35b255512fb6b59a259730f36ba32ce9f8e342f\"], \"markers\": \"python_version >= '2.7' and python_version not in '3.0, 3.1, 3.2, 3.3, 3.4' and python_version < '4'\"}, \"werkzeug\": {\"version\": \"==2.0.1\", \"hashes\": [\"sha256:1de1db30d010ff1af14a009224ec49ab2329ad2cde454c8a708130642d579c42\", \"sha256:6c1ec500dcdba0baa27600f6a22f6333d8b662d22027ff9f6202e3367413caa8\"], \"markers\": \"python_version >= '3.6'\"}, \"wheel\": {\"version\": \"==0.37.0\", \"hashes\": [\"sha256:21014b2bd93c6d0034b6ba5d35e4eb284340e09d63c59aef6fc14b0f346146fd\", \"sha256:e2ef7239991699e3355d54f8e968a21bb940a1dbf34a4d226741e64462516fad\"], \"markers\": \"python_version >= '2.7' and python_version not in '3.0, 3.1, 3.2, 3.3, 3.4'\"}, \"wrapt\": {\"version\": \"==1.12.1\", \"hashes\": [\"sha256:b62ffa81fb85f4332a4f609cab4ac40709470da05643a082ec1eb88e6d9b97d7\"]}}, \"develop\": {}}",
  "toc-autonumbering": false,
  "toc-showcode": false,
  "toc-showmarkdowntxt": false,
  "toc-showtags": false
 },
 "nbformat": 4,
 "nbformat_minor": 4
}
