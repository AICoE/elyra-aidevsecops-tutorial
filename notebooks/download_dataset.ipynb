{
 "cells": [
  {
   "cell_type": "markdown",
   "metadata": {
    "tags": [
     "papermill-error-cell-tag"
    ]
   },
   "source": [
    "# Downalod Dataset"
   ]
  },
  {
   "cell_type": "markdown",
   "metadata": {},
   "source": [
    "## Import libraries"
   ]
  },
  {
   "cell_type": "code",
   "execution_count": 2,
   "metadata": {},
   "outputs": [],
   "source": [
    "import os\n",
    "import boto3\n",
    "import logging\n",
    "import pickle\n",
    "\n",
    "from pathlib import Path\n",
    "\n",
    "import matplotlib.pyplot as plt"
   ]
  },
  {
   "cell_type": "markdown",
   "metadata": {},
   "source": [
    "## Load data"
   ]
  },
  {
   "cell_type": "code",
   "execution_count": 3,
   "metadata": {
    "papermill": {
     "duration": 2.876671,
     "end_time": "2021-02-03T13:23:43.625282",
     "exception": false,
     "start_time": "2021-02-03T13:23:40.748611",
     "status": "completed"
    },
    "tags": []
   },
   "outputs": [
    {
     "name": "stderr",
     "output_type": "stream",
     "text": [
      "INFO:__main__:Selected MNIST Dataset: MNIST handwritten digits dataset.\n"
     ]
    },
    {
     "name": "stdout",
     "output_type": "stream",
     "text": [
      "Downloading data from https://storage.googleapis.com/tensorflow/tf-keras-datasets/mnist.npz\n",
      "11493376/11490434 [==============================] - 0s 0us/step\n"
     ]
    }
   ],
   "source": [
    "# set up logging\n",
    "DEBUG_LEVEL = bool(int(os.getenv(\"DEBUG_LEVEL\", 0)))\n",
    "\n",
    "if DEBUG_LEVEL:\n",
    "    logging.basicConfig(level=logging.DEBUG)\n",
    "else:\n",
    "    logging.basicConfig(level=logging.INFO)\n",
    "\n",
    "_LOGGER = logging.getLogger(__name__)\n",
    "\n",
    "IMPORT_DATASET = str(os.environ.get(\"TUTORIAL_TF_IMPORT_DATASET\", \"mnist\"))\n",
    "\n",
    "if IMPORT_DATASET == \"mnist\":\n",
    "    _LOGGER.info(\"Selected MNIST Dataset: MNIST handwritten digits dataset.\")\n",
    "    from tensorflow.keras.datasets import mnist as tf_dataset\n",
    "\n",
    "elif IMPORT_DATASET == \"cifar10\":\n",
    "    _LOGGER.info(\n",
    "        \"Selected cifar10 Dataset: CIFAR10 small images classification dataset.\"\n",
    "    )\n",
    "    from tensorflow.keras.datasets import cifar10 as tf_dataset\n",
    "\n",
    "elif IMPORT_DATASET == \"cifar100\":\n",
    "    _LOGGER.info(\n",
    "        \"Selected cifar100 Dataset: CIFAR100 small images classification dataset.\"\n",
    "    )\n",
    "    from tensorflow.keras.datasets import cifar100 as tf_dataset\n",
    "\n",
    "elif IMPORT_DATASET == \"fashion_mnist\":\n",
    "    _LOGGER.info(\"Selected fashion_mnist Dataset: Fashion-MNIST dataset.\")\n",
    "    from tensorflow.keras.datasets import fashion_mnist as tf_dataset\n",
    "\n",
    "\n",
    "def _is_file_downloaded(file_downloaded_path: Path) -> bool:\n",
    "    \"\"\"Check if file is already downloaded.\"\"\"\n",
    "    if os.path.exists(file_downloaded_path):\n",
    "        _LOGGER.info(\n",
    "            \"{} already exists, skipping ...\".format(file_downloaded_path)\n",
    "        )\n",
    "        return True\n",
    "\n",
    "    return False\n",
    "\n",
    "\n",
    "# Prepare MNIST data.\n",
    "(x_train, y_train), (x_test, y_test) = tf_dataset.load_data()"
   ]
  },
  {
   "cell_type": "code",
   "execution_count": 4,
   "metadata": {
    "papermill": {
     "duration": null,
     "end_time": null,
     "exception": null,
     "start_time": null,
     "status": "pending"
    },
    "tags": []
   },
   "outputs": [
    {
     "name": "stdout",
     "output_type": "stream",
     "text": [
      "8\n"
     ]
    },
    {
     "data": {
      "text/plain": [
       "<matplotlib.image.AxesImage at 0x7fc597a876a0>"
      ]
     },
     "execution_count": 4,
     "metadata": {},
     "output_type": "execute_result"
    },
    {
     "data": {
      "image/png": "[encoded data removed]",
      "text/plain": [
       "<Figure size 432x288 with 1 Axes>"
      ]
     },
     "metadata": {
      "needs_background": "light"
     },
     "output_type": "display_data"
    }
   ],
   "source": [
    "image_index = 7777  # You may select anything up to 60,000\n",
    "print(y_train[image_index])  # The label is 8\n",
    "plt.imshow(x_train[image_index], cmap=\"Greys\")"
   ]
  },
  {
   "cell_type": "code",
   "execution_count": 5,
   "metadata": {},
   "outputs": [],
   "source": [
    "# Set path where to store\n",
    "directory_path = Path.cwd().parents[0]\n",
    "destination_path = directory_path.joinpath(\n",
    "    str(os.environ.get(\"DESTINATION_DATASET\", \"data/raw\"))\n",
    ")\n",
    "\n",
    "project_name = os.environ.get(\"PROJECT_NAME\", \"elyra-aidevsecops-tutorial\")\n",
    "\n",
    "if not os.path.exists(destination_path):\n",
    "    destination_path.mkdir(parents=True, exist_ok=True)"
   ]
  },
  {
   "cell_type": "markdown",
   "metadata": {},
   "source": [
    "## Store files"
   ]
  },
  {
   "cell_type": "code",
   "execution_count": 6,
   "metadata": {
    "papermill": {
     "duration": null,
     "end_time": null,
     "exception": null,
     "start_time": null,
     "status": "pending"
    },
    "tags": []
   },
   "outputs": [
    {
     "name": "stderr",
     "output_type": "stream",
     "text": [
      "INFO:__main__:Stored /home/jovyan/work/elyra-aidevsecops-tutorial/data/raw/xdata.pkl\n",
      "INFO:__main__:Stored /home/jovyan/work/elyra-aidevsecops-tutorial/data/raw/ydata.pkl\n",
      "INFO:__main__:Stored /home/jovyan/work/elyra-aidevsecops-tutorial/data/raw/xtestdata.pkl\n",
      "INFO:__main__:Stored /home/jovyan/work/elyra-aidevsecops-tutorial/data/raw/ytestdata.pkl\n"
     ]
    }
   ],
   "source": [
    "use_ceph = bool(int(os.getenv(\"TUTORIAL_USE_CEPH\", 0)))\n",
    "\n",
    "dataset = {\n",
    "    \"xdata.pkl\": x_train,\n",
    "    \"ydata.pkl\": y_train,\n",
    "    \"xtestdata.pkl\": x_test,\n",
    "    \"ytestdata.pkl\": y_test,\n",
    "}\n",
    "\n",
    "if use_ceph:\n",
    "    s3_endpoint_url = os.getenv(\n",
    "        \"ENDPOINT_URL\",\n",
    "        \"https://rgw-openshift-storage.apps.cnv.massopen.cloud/\",\n",
    "    )\n",
    "    s3_access_key = os.environ[\"AWS_ACCESS_KEY_ID\"]\n",
    "    s3_secret_key = os.environ[\"AWS_SECRET_ACCESS_KEY\"]\n",
    "    s3_bucket = os.getenv(\n",
    "        \"BUCKET_NAME\",\n",
    "        \"test-new-elyra-kfp-79f9251e-19c3-4d80-8b68-969e8495dd34\",\n",
    "    )\n",
    "\n",
    "    # Create an S3 client\n",
    "    s3 = boto3.client(\n",
    "        service_name=\"s3\",\n",
    "        aws_access_key_id=s3_access_key,\n",
    "        aws_secret_access_key=s3_secret_key,\n",
    "        endpoint_url=s3_endpoint_url,\n",
    "    )\n",
    "\n",
    "# Store MNIST data for next step.\n",
    "for data_name, data_file in dataset.items():\n",
    "\n",
    "    file_downloaded_path = destination_path.joinpath(data_name)\n",
    "\n",
    "    if not _is_file_downloaded(file_downloaded_path):\n",
    "        output = open(file_downloaded_path, \"wb\")\n",
    "        pickle.dump(data_file, output)\n",
    "        output.close()\n",
    "        _LOGGER.info(\"Stored {}\".format(file_downloaded_path))\n",
    "\n",
    "    if use_ceph:\n",
    "        key = f\"{project_name}/data/raw/{data_name}\"\n",
    "        print(key)\n",
    "        s3.upload_file(\n",
    "            Bucket=s3_bucket, Key=key, Filename=str(file_downloaded_path)\n",
    "        )"
   ]
  },
  {
   "cell_type": "code",
   "execution_count": null,
   "metadata": {},
   "outputs": [],
   "source": []
  }
 ],
 "metadata": {
  "kernelspec": {
   "display_name": "Python 3",
   "language": "python",
   "name": "python3"
  },
  "language_info": {
   "codemirror_mode": {
    "name": "ipython",
    "version": 3
   },
   "file_extension": ".py",
   "mimetype": "text/x-python",
   "name": "python",
   "nbconvert_exporter": "python",
   "pygments_lexer": "ipython3",
   "version": "3.8.6"
  },
  "papermill": {
   "default_parameters": {},
   "duration": 6.137971,
   "end_time": "2021-02-03T13:23:45.929678",
   "environment_variables": {},
   "exception": true,
   "input_path": "/opt/app-root/src/elyra-aidevsecops-tutorial/notebooks/download_dataset.ipynb",
   "output_path": "/opt/app-root/src/elyra-aidevsecops-tutorial/notebooks/download_dataset.ipynb",
   "parameters": {},
   "start_time": "2021-02-03T13:23:39.791707",
   "version": "2.2.0"
  },
  "requirements": "{\"packages\":{\"boto3\":\"*\",\"matplotlib\":\"*\"},\"requires\":{\"python_version\":\"3.8\"}}",
  "requirements_lock": "{\"_meta\":{\"sources\":[],\"requires\":{\"python_version\":\"3.8\"},\"hash\":{\"sha256\":\"4f595778f0fddf18e1b11dec71b724eec6710ed82041fe84916ef97c441c3a5e\"},\"pipfile-spec\":6},\"default\":{\"boto3\":{\"version\":\"==1.17.8\",\"hashes\":[\"sha256:819890e92268d730bdef1d8bac08fb069b148bec21f2172a1a99380798224e1b\",\"sha256:c294eb103db0ab6c55a53f68cc87761ff7e564733e7b23e51dac475a18c0a12b\"]},\"botocore\":{\"version\":\"==1.20.8\",\"hashes\":[\"sha256:65e2fb81f941dfefa8cc3ef72d46a62d4b6219b8eb6550062b644b36935f6e4f\",\"sha256:cd621cdd14a81d2c3c5276516066d9e6ea20a515cf3113a80ad74f3f8b04a093\"],\"markers\":\"python_version >= '2.7' and python_version not in '3.0, 3.1, 3.2, 3.3, 3.4, 3.5'\"},\"cycler\":{\"version\":\"==0.10.0\",\"hashes\":[\"sha256:1d8a5ae1ff6c5cf9b93e8811e581232ad8920aeec647c37316ceac982b08cb2d\",\"sha256:cd7b2d1018258d7247a71425e9f26463dfb444d411c39569972f4ce586b0c9d8\"]},\"jmespath\":{\"version\":\"==0.10.0\",\"hashes\":[\"sha256:b85d0567b8666149a93172712e68920734333c0ce7e89b78b3e987f71e5ed4f9\",\"sha256:cdf6525904cc597730141d61b36f2e4b8ecc257c420fa2f4549bac2c2d0cb72f\"],\"markers\":\"python_version >= '2.6' and python_version not in '3.0, 3.1, 3.2'\"},\"kiwisolver\":{\"version\":\"==1.3.1\",\"hashes\":[\"sha256:0cd53f403202159b44528498de18f9285b04482bab2a6fc3f5dd8dbb9352e30d\",\"sha256:1e1bc12fb773a7b2ffdeb8380609f4f8064777877b2225dec3da711b421fda31\",\"sha256:225e2e18f271e0ed8157d7f4518ffbf99b9450fca398d561eb5c4a87d0986dd9\",\"sha256:232c9e11fd7ac3a470d65cd67e4359eee155ec57e822e5220322d7b2ac84fbf0\",\"sha256:31dfd2ac56edc0ff9ac295193eeaea1c0c923c0355bf948fbd99ed6018010b72\",\"sha256:33449715e0101e4d34f64990352bce4095c8bf13bed1b390773fc0a7295967b3\",\"sha256:401a2e9afa8588589775fe34fc22d918ae839aaaf0c0e96441c0fdbce6d8ebe6\",\"sha256:44a62e24d9b01ba94ae7a4a6c3fb215dc4af1dde817e7498d901e229aaf50e4e\",\"sha256:50af681a36b2a1dee1d3c169ade9fdc59207d3c31e522519181e12f1b3ba7000\",\"sha256:563c649cfdef27d081c84e72a03b48ea9408c16657500c312575ae9d9f7bc1c3\",\"sha256:5989db3b3b34b76c09253deeaf7fbc2707616f130e166996606c284395da3f18\",\"sha256:5a7a7dbff17e66fac9142ae2ecafb719393aaee6a3768c9de2fd425c63b53e21\",\"sha256:5c3e6455341008a054cccee8c5d24481bcfe1acdbc9add30aa95798e95c65621\",\"sha256:5f6ccd3dd0b9739edcf407514016108e2280769c73a85b9e59aa390046dbf08b\",\"sha256:72c99e39d005b793fb7d3d4e660aed6b6281b502e8c1eaf8ee8346023c8e03bc\",\"sha256:78751b33595f7f9511952e7e60ce858c6d64db2e062afb325985ddbd34b5c131\",\"sha256:834ee27348c4aefc20b479335fd422a2c69db55f7d9ab61721ac8cd83eb78882\",\"sha256:8be8d84b7d4f2ba4ffff3665bcd0211318aa632395a1a41553250484a871d454\",\"sha256:950a199911a8d94683a6b10321f9345d5a3a8433ec58b217ace979e18f16e248\",\"sha256:a357fd4f15ee49b4a98b44ec23a34a95f1e00292a139d6015c11f55774ef10de\",\"sha256:a53d27d0c2a0ebd07e395e56a1fbdf75ffedc4a05943daf472af163413ce9598\",\"sha256:acef3d59d47dd85ecf909c359d0fd2c81ed33bdff70216d3956b463e12c38a54\",\"sha256:b38694dcdac990a743aa654037ff1188c7a9801ac3ccc548d3341014bc5ca278\",\"sha256:b9edd0110a77fc321ab090aaa1cfcaba1d8499850a12848b81be2222eab648f6\",\"sha256:c08e95114951dc2090c4a630c2385bef681cacf12636fb0241accdc6b303fd81\",\"sha256:c5518d51a0735b1e6cee1fdce66359f8d2b59c3ca85dc2b0813a8aa86818a030\",\"sha256:c8fd0f1ae9d92b42854b2979024d7597685ce4ada367172ed7c09edf2cef9cb8\",\"sha256:ca3820eb7f7faf7f0aa88de0e54681bddcb46e485beb844fcecbcd1c8bd01689\",\"sha256:cf8b574c7b9aa060c62116d4181f3a1a4e821b2ec5cbfe3775809474113748d4\",\"sha256:d3155d828dec1d43283bd24d3d3e0d9c7c350cdfcc0bd06c0ad1209c1bbc36d0\",\"sha256:f8d6f8db88049a699817fd9178782867bf22283e3813064302ac59f61d95be05\",\"sha256:fd34fbbfbc40628200730bc1febe30631347103fc8d3d4fa012c21ab9c11eca9\"],\"markers\":\"python_version >= '3.6'\"},\"matplotlib\":{\"version\":\"==3.3.4\",\"hashes\":[\"sha256:1de0bb6cbfe460725f0e97b88daa8643bcf9571c18ba90bb8e41432aaeca91d6\",\"sha256:1e850163579a8936eede29fad41e202b25923a0a8d5ffd08ce50fc0a97dcdc93\",\"sha256:215e2a30a2090221a9481db58b770ce56b8ef46f13224ae33afe221b14b24dc1\",\"sha256:348e6032f666ffd151b323342f9278b16b95d4a75dfacae84a11d2829a7816ae\",\"sha256:3d2eb9c1cc254d0ffa90bc96fde4b6005d09c2228f99dfd493a4219c1af99644\",\"sha256:3e477db76c22929e4c6876c44f88d790aacdf3c3f8f3a90cb1975c0bf37825b0\",\"sha256:451cc89cb33d6652c509fc6b588dc51c41d7246afdcc29b8624e256b7663ed1f\",\"sha256:46b1a60a04e6d884f0250d5cc8dc7bd21a9a96c584a7acdaab44698a44710bab\",\"sha256:5f571b92a536206f7958f7cb2d367ff6c9a1fa8229dc35020006e4cdd1ca0acd\",\"sha256:672960dd114e342b7c610bf32fb99d14227f29919894388b41553217457ba7ef\",\"sha256:7310e353a4a35477c7f032409966920197d7df3e757c7624fd842f3eeb307d3d\",\"sha256:746a1df55749629e26af7f977ea426817ca9370ad1569436608dc48d1069b87c\",\"sha256:7c155437ae4fd366e2700e2716564d1787700687443de46bcb895fe0f84b761d\",\"sha256:9265ae0fb35e29f9b8cc86c2ab0a2e3dcddc4dd9de4b85bf26c0f63fe5c1c2ca\",\"sha256:94bdd1d55c20e764d8aea9d471d2ae7a7b2c84445e0fa463f02e20f9730783e1\",\"sha256:9a79e5dd7bb797aa611048f5b70588b23c5be05b63eefd8a0d152ac77c4243db\",\"sha256:a17f0a10604fac7627ec82820439e7db611722e80c408a726cd00d8c974c2fb3\",\"sha256:a1acb72f095f1d58ecc2538ed1b8bca0b57df313b13db36ed34b8cdf1868e674\",\"sha256:aa49571d8030ad0b9ac39708ee77bd2a22f87815e12bdee52ecaffece9313ed8\",\"sha256:c24c05f645aef776e8b8931cb81e0f1632d229b42b6d216e30836e2e145a2b40\",\"sha256:cf3a7e54eff792f0815dbbe9b85df2f13d739289c93d346925554f71d484be78\",\"sha256:d738acfdfb65da34c91acbdb56abed46803db39af259b7f194dc96920360dbe4\",\"sha256:e15fa23d844d54e7b3b7243afd53b7567ee71c721f592deb0727ee85e668f96a\",\"sha256:ed4a9e6dcacba56b17a0a9ac22ae2c72a35b7f0ef0693aa68574f0b2df607a89\",\"sha256:f44149a0ef5b4991aaef12a93b8e8d66d6412e762745fea1faa61d98524e0ba9\"]},\"numpy\":{\"version\":\"==1.20.1\",\"hashes\":[\"sha256:032be656d89bbf786d743fee11d01ef318b0781281241997558fa7950028dd29\",\"sha256:104f5e90b143dbf298361a99ac1af4cf59131218a045ebf4ee5990b83cff5fab\",\"sha256:125a0e10ddd99a874fd357bfa1b636cd58deb78ba4a30b5ddb09f645c3512e04\",\"sha256:12e4ba5c6420917571f1a5becc9338abbde71dd811ce40b37ba62dec7b39af6d\",\"sha256:13adf545732bb23a796914fe5f891a12bd74cf3d2986eed7b7eba2941eea1590\",\"sha256:2d7e27442599104ee08f4faed56bb87c55f8b10a5494ac2ead5c98a4b289e61f\",\"sha256:3bc63486a870294683980d76ec1e3efc786295ae00128f9ea38e2c6e74d5a60a\",\"sha256:3d3087e24e354c18fb35c454026af3ed8997cfd4997765266897c68d724e4845\",\"sha256:4ed8e96dc146e12c1c5cdd6fb9fd0757f2ba66048bf94c5126b7efebd12d0090\",\"sha256:60759ab15c94dd0e1ed88241fd4fa3312db4e91d2c8f5a2d4cf3863fad83d65b\",\"sha256:65410c7f4398a0047eea5cca9b74009ea61178efd78d1be9847fac1d6716ec1e\",\"sha256:66b467adfcf628f66ea4ac6430ded0614f5cc06ba530d09571ea404789064adc\",\"sha256:7199109fa46277be503393be9250b983f325880766f847885607d9b13848f257\",\"sha256:72251e43ac426ff98ea802a931922c79b8d7596480300eb9f1b1e45e0543571e\",\"sha256:89e5336f2bec0c726ac7e7cdae181b325a9c0ee24e604704ed830d241c5e47ff\",\"sha256:89f937b13b8dd17b0099c7c2e22066883c86ca1575a975f754babc8fbf8d69a9\",\"sha256:9c94cab5054bad82a70b2e77741271790304651d584e2cdfe2041488e753863b\",\"sha256:9eb551d122fadca7774b97db8a112b77231dcccda8e91a5bc99e79890797175e\",\"sha256:a1d7995d1023335e67fb070b2fae6f5968f5be3802b15ad6d79d81ecaa014fe0\",\"sha256:ae61f02b84a0211abb56462a3b6cd1e7ec39d466d3160eb4e1da8bf6717cdbeb\",\"sha256:b9410c0b6fed4a22554f072a86c361e417f0258838957b78bd063bde2c7f841f\",\"sha256:c26287dfc888cf1e65181f39ea75e11f42ffc4f4529e5bd19add57ad458996e2\",\"sha256:c91ec9569facd4757ade0888371eced2ecf49e7982ce5634cc2cf4e7331a4b14\",\"sha256:ecb5b74c702358cdc21268ff4c37f7466357871f53a30e6f84c686952bef16a9\"],\"markers\":\"python_version >= '3.7'\"},\"pillow\":{\"version\":\"==8.1.0\",\"hashes\":[\"sha256:165c88bc9d8dba670110c689e3cc5c71dbe4bfb984ffa7cbebf1fac9554071d6\",\"sha256:1d208e670abfeb41b6143537a681299ef86e92d2a3dac299d3cd6830d5c7bded\",\"sha256:22d070ca2e60c99929ef274cfced04294d2368193e935c5d6febfd8b601bf865\",\"sha256:2353834b2c49b95e1313fb34edf18fca4d57446675d05298bb694bca4b194174\",\"sha256:39725acf2d2e9c17356e6835dccebe7a697db55f25a09207e38b835d5e1bc032\",\"sha256:3de6b2ee4f78c6b3d89d184ade5d8fa68af0848f9b6b6da2b9ab7943ec46971a\",\"sha256:47c0d93ee9c8b181f353dbead6530b26980fe4f5485aa18be8f1fd3c3cbc685e\",\"sha256:5e2fe3bb2363b862671eba632537cd3a823847db4d98be95690b7e382f3d6378\",\"sha256:604815c55fd92e735f9738f65dabf4edc3e79f88541c221d292faec1904a4b17\",\"sha256:6c5275bd82711cd3dcd0af8ce0bb99113ae8911fc2952805f1d012de7d600a4c\",\"sha256:731ca5aabe9085160cf68b2dbef95fc1991015bc0a3a6ea46a371ab88f3d0913\",\"sha256:7612520e5e1a371d77e1d1ca3a3ee6227eef00d0a9cddb4ef7ecb0b7396eddf7\",\"sha256:7916cbc94f1c6b1301ac04510d0881b9e9feb20ae34094d3615a8a7c3db0dcc0\",\"sha256:81c3fa9a75d9f1afafdb916d5995633f319db09bd773cb56b8e39f1e98d90820\",\"sha256:887668e792b7edbfb1d3c9d8b5d8c859269a0f0eba4dda562adb95500f60dbba\",\"sha256:93a473b53cc6e0b3ce6bf51b1b95b7b1e7e6084be3a07e40f79b42e83503fbf2\",\"sha256:96d4dc103d1a0fa6d47c6c55a47de5f5dafd5ef0114fa10c85a1fd8e0216284b\",\"sha256:a3d3e086474ef12ef13d42e5f9b7bbf09d39cf6bd4940f982263d6954b13f6a9\",\"sha256:b02a0b9f332086657852b1f7cb380f6a42403a6d9c42a4c34a561aa4530d5234\",\"sha256:b09e10ec453de97f9a23a5aa5e30b334195e8d2ddd1ce76cc32e52ba63c8b31d\",\"sha256:b6f00ad5ebe846cc91763b1d0c6d30a8042e02b2316e27b05de04fa6ec831ec5\",\"sha256:bba80df38cfc17f490ec651c73bb37cd896bc2400cfba27d078c2135223c1206\",\"sha256:c3d911614b008e8a576b8e5303e3db29224b455d3d66d1b2848ba6ca83f9ece9\",\"sha256:ca20739e303254287138234485579b28cb0d524401f83d5129b5ff9d606cb0a8\",\"sha256:cb192176b477d49b0a327b2a5a4979552b7a58cd42037034316b8018ac3ebb59\",\"sha256:cdbbe7dff4a677fb555a54f9bc0450f2a21a93c5ba2b44e09e54fcb72d2bd13d\",\"sha256:cf6e33d92b1526190a1de904df21663c46a456758c0424e4f947ae9aa6088bf7\",\"sha256:d355502dce85ade85a2511b40b4c61a128902f246504f7de29bbeec1ae27933a\",\"sha256:d673c4990acd016229a5c1c4ee8a9e6d8f481b27ade5fc3d95938697fa443ce0\",\"sha256:dc577f4cfdda354db3ae37a572428a90ffdbe4e51eda7849bf442fb803f09c9b\",\"sha256:dd9eef866c70d2cbbea1ae58134eaffda0d4bfea403025f4db6859724b18ab3d\",\"sha256:f50e7a98b0453f39000619d845be8b06e611e56ee6e8186f7f60c3b1e2f0feae\"],\"markers\":\"python_version >= '3.6'\"},\"pyparsing\":{\"version\":\"==2.4.7\",\"hashes\":[\"sha256:c203ec8783bf771a155b207279b9bccb8dea02d8f0c9e5f8ead507bc3246ecc1\",\"sha256:ef9d7589ef3c200abe66653d3f1ab1033c3c419ae9b9bdb1240a85b024efc88b\"],\"markers\":\"python_version >= '2.6' and python_version not in '3.0, 3.1, 3.2'\"},\"python-dateutil\":{\"version\":\"==2.8.1\",\"hashes\":[\"sha256:73ebfe9dbf22e832286dafa60473e4cd239f8592f699aa5adaf10050e6e1823c\",\"sha256:75bb3f31ea686f1197762692a9ee6a7550b59fc6ca3a1f4b5d7e32fb98e2da2a\"],\"markers\":\"python_version >= '2.7' and python_version not in '3.0, 3.1, 3.2'\"},\"s3transfer\":{\"version\":\"==0.3.4\",\"hashes\":[\"sha256:1e28620e5b444652ed752cf87c7e0cb15b0e578972568c6609f0f18212f259ed\",\"sha256:7fdddb4f22275cf1d32129e21f056337fd2a80b6ccef1664528145b72c49e6d2\"]},\"six\":{\"version\":\"==1.15.0\",\"hashes\":[\"sha256:30639c035cdb23534cd4aa2dd52c3bf48f06e5f4a941509c8bafd8ce11080259\",\"sha256:8b74bedcbbbaca38ff6d7491d76f2b06b3592611af620f8426e82dddb04a5ced\"],\"markers\":\"python_version >= '2.7' and python_version not in '3.0, 3.1, 3.2'\"},\"urllib3\":{\"version\":\"==1.26.3\",\"hashes\":[\"sha256:1b465e494e3e0d8939b50680403e3aedaa2bc434b7d5af64dfd3c958d7f5ae80\",\"sha256:de3eedaad74a2683334e282005cd8d7f22f4d55fa690a2a1020a416cb0a47e73\"],\"markers\":\"python_version >= '2.7' and python_version not in '3.0, 3.1, 3.2, 3.3, 3.4' and python_version < '4'\"}},\"develop\":{}}",
  "thoth_config": "{\"host\":\"khemenu.thoth-station.ninja\",\"tls_verify\":true,\"requirements_format\":\"pipenv\",\"overlays_dir\":null,\"runtime_environments\":[{\"name\":\"fedora:32\",\"operating_system\":{\"name\":\"fedora\",\"version\":\"32\"},\"hardware\":{\"cpu_family\":6,\"cpu_model\":142},\"python_version\":\"3.8\",\"cuda_version\":null,\"recommendation_type\":\"latest\",\"platform\":\"linux-x86_64\"}],\"managers\":[{\"name\":\"pipfile-requirements\"},{\"name\":\"info\"},{\"name\":\"version\",\"configuration\":{\"maintainers\":[],\"assignees\":[],\"labels\":[\"bot\"],\"changelog_file\":true,\"changelog_smart\":true}},{\"name\":\"update\",\"configuration\":{\"labels\":[\"bot\"]}}]}"
 },
 "nbformat": 4,
 "nbformat_minor": 4
}
