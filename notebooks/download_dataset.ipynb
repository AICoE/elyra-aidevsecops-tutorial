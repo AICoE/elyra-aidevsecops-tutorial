{
 "cells": [
  {
   "cell_type": "code",
   "execution_count": 8,
   "metadata": {},
   "outputs": [
    {
     "ename": "ModuleNotFoundError",
     "evalue": "No module named '__main__.elyra_aidevsecops_tutorial'; '__main__' is not a package",
     "output_type": "error",
     "traceback": [
      "\u001b[0;31m---------------------------------------------------------------------------\u001b[0m",
      "\u001b[0;31mModuleNotFoundError\u001b[0m                       Traceback (most recent call last)",
      "\u001b[0;32m<ipython-input-8-908bd963cdd8>\u001b[0m in \u001b[0;36m<module>\u001b[0;34m\u001b[0m\n\u001b[0;32m----> 1\u001b[0;31m \u001b[0;32mfrom\u001b[0m \u001b[0;34m.\u001b[0m\u001b[0melyra_aidevsecops_tutorial\u001b[0m\u001b[0;34m.\u001b[0m\u001b[0msrc\u001b[0m\u001b[0;34m.\u001b[0m\u001b[0mdata\u001b[0m \u001b[0;32mimport\u001b[0m \u001b[0mdownload_dataset_from_tf\u001b[0m\u001b[0;34m\u001b[0m\u001b[0;34m\u001b[0m\u001b[0m\n\u001b[0m",
      "\u001b[0;31mModuleNotFoundError\u001b[0m: No module named '__main__.elyra_aidevsecops_tutorial'; '__main__' is not a package"
     ]
    }
   ],
   "source": [
    "import os\n",
    "import logging\n",
    "import pickle\n",
    "\n",
    "from pathlib import Path\n",
    "\n",
    "# set up logging\n",
    "DEBUG_LEVEL = bool(int(os.getenv(\"DEBUG_LEVEL\", 0)))\n",
    "\n",
    "if DEBUG_LEVEL:\n",
    "    logging.basicConfig(level=logging.DEBUG)\n",
    "else:\n",
    "    logging.basicConfig(level=logging.INFO)\n",
    "\n",
    "_LOGGER = logging.getLogger(__name__)\n",
    "\n",
    "IMPORT_DATASET = str(os.environ.get(\"TUTORIAL_TF_IMPORT_DATASET\", \"mnist\"))\n",
    "\n",
    "if IMPORT_DATASET == \"mnist\":\n",
    "    _LOGGER.info(\"Selected MNIST Dataset: MNIST handwritten digits dataset.\")\n",
    "    from tensorflow.keras.datasets import mnist as tf_dataset\n",
    "\n",
    "elif IMPORT_DATASET == \"cifar10\":\n",
    "    _LOGGER.info(\n",
    "        \"Selected cifar10 Dataset: CIFAR10 small images classification dataset.\"\n",
    "    )\n",
    "    from tensorflow.keras.datasets import cifar10 as tf_dataset\n",
    "\n",
    "elif IMPORT_DATASET == \"cifar100\":\n",
    "    _LOGGER.info(\n",
    "        \"Selected cifar100 Dataset: CIFAR100 small images classification dataset.\"\n",
    "    )\n",
    "    from tensorflow.keras.datasets import cifar100 as tf_dataset\n",
    "\n",
    "elif IMPORT_DATASET == \"fashion_mnist\":\n",
    "    _LOGGER.info(\"Selected fashion_mnist Dataset: Fashion-MNIST dataset.\")\n",
    "    from tensorflow.keras.datasets import fashion_mnist as tf_dataset\n",
    "\n",
    "\n",
    "def _is_file_downloaded(file_downloaded_path: Path) -> bool:\n",
    "    \"\"\"Check if file is already downloaded.\"\"\"\n",
    "    if os.path.exists(file_downloaded_path):\n",
    "        _LOGGER.info(\"{} already exists, skipping ...\".format(file_downloaded_path))\n",
    "        return True\n",
    "\n",
    "    return False"
   ]
  },
  {
   "cell_type": "code",
   "execution_count": null,
   "metadata": {},
   "outputs": [],
   "source": [
    "# Set path where to store\n",
    "directory_path = Path.cwd().parents[1]\n",
    "destination_path = directory_path.joinpath(\n",
    "    str(os.environ.get(\"DESTINATION_DATASET\", \"data/raw\"))\n",
    ")\n",
    "\n",
    "if not os.path.exists(destination_path):\n",
    "    destination_path.mkdir(parents=True, exist_ok=True)\n",
    "\n",
    "# Prepare MNIST data.\n",
    "(x_train, y_train), (x_test, y_test) = mnist.load_data()\n",
    "\n",
    "dataset = {\n",
    "    \"xdata.pkl\": x_train,\n",
    "    \"ydata.pkl\": y_train,\n",
    "    \"xtestdata.pkl\": x_test,\n",
    "    \"ytestdata.pkl\": y_test,\n",
    "}\n",
    "\n",
    "# Store MNIST data for next step.\n",
    "for data_name, data_file in dataset.items():\n",
    "\n",
    "    file_downloaded_path = destination_path.joinpath(data_name)\n",
    "\n",
    "    if not _is_file_downloaded(file_downloaded_path):\n",
    "        output = open(file_downloaded_path, \"wb\")\n",
    "        pickle.dump(data_file, output)\n",
    "        output.close()\n",
    "        _LOGGER.info(\"Stored {}\".format(file_downloaded_path))"
   ]
  }
 ],
 "metadata": {
  "kernelspec": {
   "display_name": "Python 3",
   "language": "python",
   "name": "python3"
  },
  "language_info": {
   "codemirror_mode": {
    "name": "ipython",
    "version": 3
   },
   "file_extension": ".py",
   "mimetype": "text/x-python",
   "name": "python",
   "nbconvert_exporter": "python",
   "pygments_lexer": "ipython3",
   "version": "3.6.8"
  }
 },
 "nbformat": 4,
 "nbformat_minor": 4
}
