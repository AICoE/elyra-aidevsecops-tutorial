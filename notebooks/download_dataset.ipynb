{
 "cells": [
  {
   "cell_type": "markdown",
   "metadata": {
    "tags": [
     "papermill-error-cell-tag"
    ]
   },
   "source": [
    "# Downalod Dataset"
   ]
  },
  {
   "cell_type": "markdown",
   "metadata": {},
   "source": [
    "## Import libraries"
   ]
  },
  {
   "cell_type": "code",
   "execution_count": 2,
   "metadata": {},
   "outputs": [],
   "source": [
    "import os\n",
    "import boto3\n",
    "import logging\n",
    "import pickle\n",
    "\n",
    "from pathlib import Path\n",
    "\n",
    "import matplotlib.pyplot as plt"
   ]
  },
  {
   "cell_type": "markdown",
   "metadata": {},
   "source": [
    "## Load data"
   ]
  },
  {
   "cell_type": "code",
   "execution_count": 4,
   "metadata": {
    "papermill": {
     "duration": 2.876671,
     "end_time": "2021-02-03T13:23:43.625282",
     "exception": false,
     "start_time": "2021-02-03T13:23:40.748611",
     "status": "completed"
    },
    "tags": []
   },
   "outputs": [
    {
     "name": "stderr",
     "output_type": "stream",
     "text": [
      "INFO:__main__:Selected MNIST Dataset: MNIST handwritten digits dataset.\n"
     ]
    }
   ],
   "source": [
    "# set up logging\n",
    "DEBUG_LEVEL = bool(int(os.getenv(\"DEBUG_LEVEL\", 0)))\n",
    "\n",
    "if DEBUG_LEVEL:\n",
    "    logging.basicConfig(level=logging.DEBUG)\n",
    "else:\n",
    "    logging.basicConfig(level=logging.INFO)\n",
    "\n",
    "_LOGGER = logging.getLogger(__name__)\n",
    "\n",
    "IMPORT_DATASET = str(os.environ.get(\"TUTORIAL_TF_IMPORT_DATASET\", \"mnist\"))\n",
    "\n",
    "if IMPORT_DATASET == \"mnist\":\n",
    "    _LOGGER.info(\"Selected MNIST Dataset: MNIST handwritten digits dataset.\")\n",
    "    from tensorflow.keras.datasets import mnist as tf_dataset\n",
    "\n",
    "elif IMPORT_DATASET == \"cifar10\":\n",
    "    _LOGGER.info(\n",
    "        \"Selected cifar10 Dataset: CIFAR10 small images classification dataset.\"\n",
    "    )\n",
    "    from tensorflow.keras.datasets import cifar10 as tf_dataset\n",
    "\n",
    "elif IMPORT_DATASET == \"cifar100\":\n",
    "    _LOGGER.info(\n",
    "        \"Selected cifar100 Dataset: CIFAR100 small images classification dataset.\"\n",
    "    )\n",
    "    from tensorflow.keras.datasets import cifar100 as tf_dataset\n",
    "\n",
    "elif IMPORT_DATASET == \"fashion_mnist\":\n",
    "    _LOGGER.info(\"Selected fashion_mnist Dataset: Fashion-MNIST dataset.\")\n",
    "    from tensorflow.keras.datasets import fashion_mnist as tf_dataset\n",
    "\n",
    "\n",
    "def _is_file_downloaded(file_downloaded_path: Path) -> bool:\n",
    "    \"\"\"Check if file is already downloaded.\"\"\"\n",
    "    if os.path.exists(file_downloaded_path):\n",
    "        _LOGGER.info(\n",
    "            \"{} already exists, skipping ...\".format(file_downloaded_path)\n",
    "        )\n",
    "        return True\n",
    "\n",
    "    return False\n",
    "\n",
    "# Prepare MNIST data.\n",
    "(x_train, y_train), (x_test, y_test) = tf_dataset.load_data()"
   ]
  },
  {
   "cell_type": "code",
   "execution_count": 5,
   "metadata": {
    "papermill": {
     "duration": null,
     "end_time": null,
     "exception": null,
     "start_time": null,
     "status": "pending"
    },
    "tags": []
   },
   "outputs": [
    {
     "name": "stdout",
     "output_type": "stream",
     "text": [
      "8\n"
     ]
    },
    {
     "data": {
      "text/plain": [
       "<matplotlib.image.AxesImage at 0x7f10c066ffd0>"
      ]
     },
     "execution_count": 5,
     "metadata": {},
     "output_type": "execute_result"
    },
    {
     "data": {
      "image/png": "[encoded data removed]",
      "text/plain": [
       "<Figure size 432x288 with 1 Axes>"
      ]
     },
     "metadata": {
      "needs_background": "light"
     },
     "output_type": "display_data"
    }
   ],
   "source": [
    "image_index = 7777  # You may select anything up to 60,000\n",
    "print(y_train[image_index])  # The label is 8\n",
    "plt.imshow(x_train[image_index], cmap=\"Greys\")"
   ]
  },
  {
   "cell_type": "code",
   "execution_count": 8,
   "metadata": {},
   "outputs": [],
   "source": [
    "# Set path where to store\n",
    "directory_path = Path.cwd().parents[0]\n",
    "destination_path = directory_path.joinpath(\n",
    "    str(os.environ.get(\"DESTINATION_DATASET\", \"data/raw\"))\n",
    ")\n",
    "\n",
    "project_name = \"elyra-aidevsecops-tutorial\"\n",
    "\n",
    "if not os.path.exists(destination_path):\n",
    "    destination_path.mkdir(parents=True, exist_ok=True)\n"
   ]
  },
  {
   "cell_type": "markdown",
   "metadata": {},
   "source": [
    "## Store files"
   ]
  },
  {
   "cell_type": "code",
   "execution_count": 22,
   "metadata": {
    "papermill": {
     "duration": null,
     "end_time": null,
     "exception": null,
     "start_time": null,
     "status": "pending"
    },
    "tags": []
   },
   "outputs": [
    {
     "name": "stdout",
     "output_type": "stream",
     "text": [
      "elyra-aidevsecops-tutorial/data/raw/xdata.pkl\n",
      "elyra-aidevsecops-tutorial/data/raw/ydata.pkl\n",
      "elyra-aidevsecops-tutorial/data/raw/xtestdata.pkl\n",
      "elyra-aidevsecops-tutorial/data/raw/ytestdata.pkl\n"
     ]
    }
   ],
   "source": [
    "use_ceph = bool(int(os.getenv(\"TUTORIAL_USE_CEPH\", 1)))\n",
    "\n",
    "dataset = {\n",
    "    \"xdata.pkl\": x_train,\n",
    "    \"ydata.pkl\": y_train,\n",
    "    \"xtestdata.pkl\": x_test,\n",
    "    \"ytestdata.pkl\": y_test,\n",
    "}\n",
    "\n",
    "# Store MNIST data for next step.\n",
    "for data_name, data_file in dataset.items():\n",
    "\n",
    "    file_downloaded_path = destination_path.joinpath(data_name)\n",
    "\n",
    "    if not use_ceph:\n",
    "\n",
    "        if not _is_file_downloaded(file_downloaded_path):\n",
    "            output = open(file_downloaded_path, \"wb\")\n",
    "            pickle.dump(data_file, output)\n",
    "            output.close()\n",
    "            _LOGGER.info(\"Stored {}\".format(file_downloaded_path))\n",
    "            \n",
    "    else:\n",
    "        s3_endpoint_url = os.getenv('ENDPOINT_URL', \"https://rgw-openshift-storage.apps.cnv.massopen.cloud/\")\n",
    "        s3_access_key = os.environ['AWS_ACCESS_KEY_ID']\n",
    "        s3_secret_key = os.environ['AWS_SECRET_ACCESS_KEY']\n",
    "        s3_bucket = os.getenv('BUCKET_NAME', \"test-new-elyra-kfp-79f9251e-19c3-4d80-8b68-969e8495dd34\")\n",
    "\n",
    "        # Create an S3 client\n",
    "        s3 = boto3.client(service_name='s3',aws_access_key_id = s3_access_key,aws_secret_access_key = s3_secret_key, endpoint_url=s3_endpoint_url)\n",
    "\n",
    "        key = f\"{project_name}/data/raw/{data_name}\"\n",
    "        print(key)\n",
    "        s3.upload_file(Bucket=s3_bucket, Key=key, Filename=str(file_downloaded_path))"
   ]
  }
 ],
 "metadata": {
  "kernelspec": {
   "display_name": "Python 3",
   "language": "python",
   "name": "python3"
  },
  "language_info": {
   "codemirror_mode": {
    "name": "ipython",
    "version": 3
   },
   "file_extension": ".py",
   "mimetype": "text/x-python",
   "name": "python",
   "nbconvert_exporter": "python",
   "pygments_lexer": "ipython3",
   "version": "3.6.8"
  },
  "papermill": {
   "default_parameters": {},
   "duration": 6.137971,
   "end_time": "2021-02-03T13:23:45.929678",
   "environment_variables": {},
   "exception": true,
   "input_path": "/opt/app-root/src/elyra-aidevsecops-tutorial/notebooks/download_dataset.ipynb",
   "output_path": "/opt/app-root/src/elyra-aidevsecops-tutorial/notebooks/download_dataset.ipynb",
   "parameters": {},
   "start_time": "2021-02-03T13:23:39.791707",
   "version": "2.2.0"
  }
 },
 "nbformat": 4,
 "nbformat_minor": 4
}
