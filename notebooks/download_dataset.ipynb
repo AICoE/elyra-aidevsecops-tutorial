{
 "cells": [
  {
   "cell_type": "code",
   "execution_count": 1,
   "metadata": {
    "execution": {
     "iopub.execute_input": "2021-01-09T15:16:15.747014Z",
     "iopub.status.busy": "2021-01-09T15:16:15.746026Z",
     "iopub.status.idle": "2021-01-09T15:16:18.710342Z",
     "shell.execute_reply": "2021-01-09T15:16:18.711009Z"
    },
    "papermill": {
     "duration": 2.990115,
     "end_time": "2021-01-09T15:16:18.711267",
     "exception": false,
     "start_time": "2021-01-09T15:16:15.721152",
     "status": "completed"
    },
    "tags": []
   },
   "outputs": [
    {
     "name": "stderr",
     "output_type": "stream",
     "text": [
      "INFO:__main__:Selected MNIST Dataset: MNIST handwritten digits dataset.\n"
     ]
    }
   ],
   "source": [
    "import os\n",
    "import logging\n",
    "import pickle\n",
    "\n",
    "from pathlib import Path\n",
    "\n",
    "# set up logging\n",
    "DEBUG_LEVEL = bool(int(os.getenv(\"DEBUG_LEVEL\", 0)))\n",
    "\n",
    "if DEBUG_LEVEL:\n",
    "    logging.basicConfig(level=logging.DEBUG)\n",
    "else:\n",
    "    logging.basicConfig(level=logging.INFO)\n",
    "\n",
    "_LOGGER = logging.getLogger(__name__)\n",
    "\n",
    "IMPORT_DATASET = str(os.environ.get(\"TUTORIAL_TF_IMPORT_DATASET\", \"mnist\"))\n",
    "\n",
    "if IMPORT_DATASET == \"mnist\":\n",
    "    _LOGGER.info(\"Selected MNIST Dataset: MNIST handwritten digits dataset.\")\n",
    "    from tensorflow.keras.datasets import mnist as tf_dataset\n",
    "\n",
    "elif IMPORT_DATASET == \"cifar10\":\n",
    "    _LOGGER.info(\n",
    "        \"Selected cifar10 Dataset: CIFAR10 small images classification dataset.\"\n",
    "    )\n",
    "    from tensorflow.keras.datasets import cifar10 as tf_dataset\n",
    "\n",
    "elif IMPORT_DATASET == \"cifar100\":\n",
    "    _LOGGER.info(\n",
    "        \"Selected cifar100 Dataset: CIFAR100 small images classification dataset.\"\n",
    "    )\n",
    "    from tensorflow.keras.datasets import cifar100 as tf_dataset\n",
    "\n",
    "elif IMPORT_DATASET == \"fashion_mnist\":\n",
    "    _LOGGER.info(\"Selected fashion_mnist Dataset: Fashion-MNIST dataset.\")\n",
    "    from tensorflow.keras.datasets import fashion_mnist as tf_dataset\n",
    "\n",
    "\n",
    "def _is_file_downloaded(file_downloaded_path: Path) -> bool:\n",
    "    \"\"\"Check if file is already downloaded.\"\"\"\n",
    "    if os.path.exists(file_downloaded_path):\n",
    "        _LOGGER.info(\"{} already exists, skipping ...\".format(file_downloaded_path))\n",
    "        return True\n",
    "\n",
    "    return False"
   ]
  },
  {
   "cell_type": "code",
   "execution_count": 2,
   "metadata": {
    "execution": {
     "iopub.execute_input": "2021-01-09T15:16:18.745835Z",
     "iopub.status.busy": "2021-01-09T15:16:18.744959Z",
     "iopub.status.idle": "2021-01-09T15:16:19.190961Z",
     "shell.execute_reply": "2021-01-09T15:16:19.191640Z"
    },
    "papermill": {
     "duration": 0.467825,
     "end_time": "2021-01-09T15:16:19.191854",
     "exception": false,
     "start_time": "2021-01-09T15:16:18.724029",
     "status": "completed"
    },
    "tags": []
   },
   "outputs": [
    {
     "name": "stderr",
     "output_type": "stream",
     "text": [
      "INFO:__main__:Stored /opt/app-root/src/elyra-aidevsecops-tutorial/data/raw/xdata.pkl\n"
     ]
    },
    {
     "name": "stderr",
     "output_type": "stream",
     "text": [
      "INFO:__main__:Stored /opt/app-root/src/elyra-aidevsecops-tutorial/data/raw/ydata.pkl\n"
     ]
    },
    {
     "name": "stderr",
     "output_type": "stream",
     "text": [
      "INFO:__main__:Stored /opt/app-root/src/elyra-aidevsecops-tutorial/data/raw/xtestdata.pkl\n"
     ]
    },
    {
     "name": "stderr",
     "output_type": "stream",
     "text": [
      "INFO:__main__:Stored /opt/app-root/src/elyra-aidevsecops-tutorial/data/raw/ytestdata.pkl\n"
     ]
    }
   ],
   "source": [
    "# Set path where to store\n",
    "directory_path = Path.cwd().parents[1]\n",
    "destination_path = directory_path.joinpath(\n",
    "    str(os.environ.get(\"DESTINATION_DATASET\", \"data/raw\"))\n",
    ")\n",
    "\n",
    "if not os.path.exists(destination_path):\n",
    "    destination_path.mkdir(parents=True, exist_ok=True)\n",
    "\n",
    "# Prepare MNIST data.\n",
    "(x_train, y_train), (x_test, y_test) = tf_dataset.load_data()\n",
    "\n",
    "dataset = {\n",
    "    \"xdata.pkl\": x_train,\n",
    "    \"ydata.pkl\": y_train,\n",
    "    \"xtestdata.pkl\": x_test,\n",
    "    \"ytestdata.pkl\": y_test,\n",
    "}\n",
    "\n",
    "# Store MNIST data for next step.\n",
    "for data_name, data_file in dataset.items():\n",
    "\n",
    "    file_downloaded_path = destination_path.joinpath(data_name)\n",
    "\n",
    "    if not _is_file_downloaded(file_downloaded_path):\n",
    "        output = open(file_downloaded_path, \"wb\")\n",
    "        pickle.dump(data_file, output)\n",
    "        output.close()\n",
    "        _LOGGER.info(\"Stored {}\".format(file_downloaded_path))"
   ]
  },
  {
   "cell_type": "code",
   "execution_count": null,
   "metadata": {
    "papermill": {
     "duration": 0.011409,
     "end_time": "2021-01-09T15:16:19.215866",
     "exception": false,
     "start_time": "2021-01-09T15:16:19.204457",
     "status": "completed"
    },
    "tags": []
   },
   "outputs": [],
   "source": []
  }
 ],
 "metadata": {
  "kernelspec": {
   "display_name": "Python 3",
   "language": "python",
   "name": "python3"
  },
  "language_info": {
   "codemirror_mode": {
    "name": "ipython",
    "version": 3
   },
   "file_extension": ".py",
   "mimetype": "text/x-python",
   "name": "python",
   "nbconvert_exporter": "python",
   "pygments_lexer": "ipython3",
   "version": "3.6.8"
  },
  "papermill": {
   "default_parameters": {},
   "duration": 6.05346,
   "end_time": "2021-01-09T15:16:20.859452",
   "environment_variables": {},
   "exception": null,
   "input_path": "/opt/app-root/src/elyra-aidevsecops-tutorial/notebooks/download_dataset.ipynb",
   "output_path": "/opt/app-root/src/elyra-aidevsecops-tutorial/notebooks/download_dataset.ipynb",
   "parameters": {},
   "start_time": "2021-01-09T15:16:14.805992",
   "version": "2.2.0"
  }
 },
 "nbformat": 4,
 "nbformat_minor": 4
}