{
 "cells": [
  {
   "cell_type": "markdown",
   "id": "94c2750c-43fe-4da9-935e-16e708f4c4fe",
   "metadata": {},
   "source": [
    "# Download MNIST Dataset (Pytorch)"
   ]
  },
  {
   "cell_type": "markdown",
   "id": "9df9615f-9391-4ee5-ad00-5e159b580a1b",
   "metadata": {},
   "source": [
    "## import libraries"
   ]
  },
  {
   "cell_type": "code",
   "execution_count": 7,
   "id": "cbaad0f2-70e1-46ac-86f0-5d726184ff3b",
   "metadata": {},
   "outputs": [],
   "source": [
    "import os\n",
    "import boto3\n",
    "import logging\n",
    "import pickle\n",
    "\n",
    "from pathlib import Path\n",
    "\n",
    "import matplotlib.pyplot as plt\n",
    "\n",
    "from torchvision import datasets\n",
    "from torchvision.transforms import ToTensor"
   ]
  },
  {
   "cell_type": "code",
   "execution_count": 8,
   "id": "ccfe0eae-f426-4f95-b217-9a82822ab609",
   "metadata": {},
   "outputs": [],
   "source": [
    "# set up logging\n",
    "DEBUG_LEVEL = bool(int(os.getenv(\"DEBUG_LEVEL\", 0)))\n",
    "\n",
    "if DEBUG_LEVEL:\n",
    "    logging.basicConfig(level=logging.DEBUG)\n",
    "else:\n",
    "    logging.basicConfig(level=logging.INFO)\n",
    "\n",
    "_LOGGER = logging.getLogger(__name__)\n",
    "\n",
    "\n",
    "def _is_file_downloaded(file_downloaded_path: Path) -> bool:\n",
    "    \"\"\"Check if file is already downloaded.\"\"\"\n",
    "    if os.path.exists(file_downloaded_path):\n",
    "        _LOGGER.info(\"{} already exists, skipping ...\".format(file_downloaded_path))\n",
    "        return True\n",
    "\n",
    "    return False"
   ]
  },
  {
   "cell_type": "markdown",
   "id": "163c89c0-51f9-438a-9deb-40b91c60cd09",
   "metadata": {},
   "source": [
    "## download data"
   ]
  },
  {
   "cell_type": "code",
   "execution_count": 19,
   "id": "e3ff5139-9235-4aba-86b9-457a16316d88",
   "metadata": {},
   "outputs": [],
   "source": [
    "use_ceph = bool(int(os.getenv(\"USE_CEPH\", 0)))\n",
    "project_name = os.environ.get(\"PROJECT_NAME\", \"elyra-aidevsecops-tutorial\")\n",
    "\n",
    "# Prepare MNIST data.\n",
    "train_data = datasets.MNIST(\n",
    "    root=\"../../data/raw/pytorch-mnist-dataset\",\n",
    "    train=True,\n",
    "    transform=ToTensor(),\n",
    "    download=True,\n",
    ")\n",
    "test_data = datasets.MNIST(\n",
    "    root=\"../../data/raw/pytorch-mnist-dataset\",\n",
    "    train=False,\n",
    "    transform=ToTensor(),\n",
    "    download=True,\n",
    ")\n",
    "\n",
    "# Set path where to store\n",
    "directory_path = Path.cwd().parents[0]\n",
    "destination_path = directory_path.joinpath(\n",
    "    str(os.environ.get(\"DATASET\", \"../data/raw/pytorch-mnist-dataset/MNIST/raw\"))\n",
    ")\n",
    "\n",
    "if use_ceph:\n",
    "\n",
    "    s3_endpoint_url = os.environ[\"OBJECT_STORAGE_ENDPOINT_URL\"]\n",
    "    s3_access_key = os.environ[\"AWS_ACCESS_KEY_ID\"]\n",
    "    s3_secret_key = os.environ[\"AWS_SECRET_ACCESS_KEY\"]\n",
    "    s3_bucket = os.environ[\"OBJECT_STORAGE_BUCKET_NAME\"]\n",
    "\n",
    "    # Create an S3 client\n",
    "    s3 = boto3.client(\n",
    "        service_name=\"s3\",\n",
    "        aws_access_key_id=s3_access_key,\n",
    "        aws_secret_access_key=s3_secret_key,\n",
    "        endpoint_url=s3_endpoint_url,\n",
    "    )\n",
    "\n",
    "    # Store MNIST data for next step.\n",
    "    for path in destination_path.iterdir():\n",
    "\n",
    "        file_downloaded_path = destination_path.joinpath(path.name)\n",
    "\n",
    "        key = f\"{project_name}/data/raw/{data_name}\"\n",
    "        print(key)\n",
    "        s3.upload_file(Bucket=s3_bucket, Key=key, Filename=str(file_downloaded_path))"
   ]
  },
  {
   "cell_type": "code",
   "execution_count": 10,
   "id": "8d7d9a05-e6f2-4ef8-ac8e-54061b2d96bd",
   "metadata": {},
   "outputs": [
    {
     "name": "stdout",
     "output_type": "stream",
     "text": [
      "Dataset MNIST\n",
      "    Number of datapoints: 60000\n",
      "    Root location: ../../data/raw/pytorch-mnist-dataset\n",
      "    Split: Train\n",
      "    StandardTransform\n",
      "Transform: ToTensor()\n",
      "Data size torch.Size([60000, 28, 28])\n",
      "Target size torch.Size([60000])\n"
     ]
    }
   ],
   "source": [
    "print(train_data)\n",
    "print(\"Data size\", train_data.data.size())\n",
    "print(\"Target size\", train_data.targets.size())"
   ]
  },
  {
   "cell_type": "code",
   "execution_count": 12,
   "id": "654bbba7-85c8-4aaf-bc2c-66f75d0bc88c",
   "metadata": {},
   "outputs": [
    {
     "name": "stdout",
     "output_type": "stream",
     "text": [
      "Dataset MNIST\n",
      "    Number of datapoints: 10000\n",
      "    Root location: ../../data/raw/pytorch-mnist-dataset\n",
      "    Split: Test\n",
      "    StandardTransform\n",
      "Transform: ToTensor()\n"
     ]
    }
   ],
   "source": [
    "print(test_data)"
   ]
  },
  {
   "cell_type": "markdown",
   "id": "aed9cc94-df9f-4190-9380-cd06f9f7a263",
   "metadata": {},
   "source": [
    "## Visualize dataset"
   ]
  },
  {
   "cell_type": "code",
   "execution_count": 13,
   "id": "6b125e6d-a874-4a8b-b964-baeef153b758",
   "metadata": {},
   "outputs": [
    {
     "data": {
      "image/png": "[encoded data removed]",
      "text/plain": [
       "<Figure size 432x288 with 1 Axes>"
      ]
     },
     "metadata": {
      "needs_background": "light"
     },
     "output_type": "display_data"
    }
   ],
   "source": [
    "plt.imshow(train_data.data[0], cmap=\"Greys\")\n",
    "plt.title(\"%i\" % train_data.targets[0])\n",
    "plt.show()"
   ]
  }
 ],
 "metadata": {
  "dependency_resolution_engine": "pipenv",
  "kernelspec": {
   "display_name": "Python (nm-download)",
   "language": "python",
   "name": "jupyterlab-requirements"
  },
  "language_info": {
   "codemirror_mode": {
    "name": "ipython",
    "version": 3
   },
   "file_extension": ".py",
   "mimetype": "text/x-python",
   "name": "python",
   "nbconvert_exporter": "python",
   "pygments_lexer": "ipython3",
   "version": "3.9.7"
  },
  "requirements": "{\"packages\": {\"boto3\": \"*\", \"matplotlib\": \"*\", \"torchvision\": \"*\"}, \"dev-packages\": {}, \"source\": [{\"url\": \"https://pypi.org/simple\", \"verify_ssl\": true, \"name\": \"pypi\"}], \"requires\": {\"python_version\": \"3.8\"}}",
  "requirements_lock": "{\"_meta\": {\"sources\": [{\"url\": \"https://pypi.org/simple\", \"verify_ssl\": true, \"name\": \"pypi\"}], \"requires\": {\"python_version\": \"3.8\"}, \"hash\": {\"sha256\": \"2437b53d4dfce40f6d0c43d51d16a57a124e027de15b4972a18a35f8175a6f4d\"}, \"pipfile-spec\": 6}, \"default\": {\"boto3\": {\"version\": \"==1.18.43\", \"hashes\": [\"sha256:9b6679e3c54f8c32c09872948450ece87473cbc830cfd6c84dad58eb014329ba\", \"sha256:caa96b7c2be2168b6efc25ab1fb61c996174bcfbcab21b5f642608185daa6403\"], \"index\": \"pypi\"}, \"botocore\": {\"version\": \"==1.21.43\", \"hashes\": [\"sha256:b74d0a5fe0f7b73fa4b5670eaa9ff456b0bce70966d478dcd631c91458916eb6\", \"sha256:de7bf9c9098578d386b785b5b6eab954acccd3f79fe3e2eb971da608c967082b\"], \"markers\": \"python_version >= '3.6'\"}, \"cycler\": {\"version\": \"==0.10.0\", \"hashes\": [\"sha256:1d8a5ae1ff6c5cf9b93e8811e581232ad8920aeec647c37316ceac982b08cb2d\", \"sha256:cd7b2d1018258d7247a71425e9f26463dfb444d411c39569972f4ce586b0c9d8\"]}, \"jmespath\": {\"version\": \"==0.10.0\", \"hashes\": [\"sha256:b85d0567b8666149a93172712e68920734333c0ce7e89b78b3e987f71e5ed4f9\", \"sha256:cdf6525904cc597730141d61b36f2e4b8ecc257c420fa2f4549bac2c2d0cb72f\"], \"markers\": \"python_version >= '2.6' and python_version not in '3.0, 3.1, 3.2, 3.3'\"}, \"kiwisolver\": {\"version\": \"==1.3.2\", \"hashes\": [\"sha256:0007840186bacfaa0aba4466d5890334ea5938e0bb7e28078a0eb0e63b5b59d5\", \"sha256:19554bd8d54cf41139f376753af1a644b63c9ca93f8f72009d50a2080f870f77\", \"sha256:1d45d1c74f88b9f41062716c727f78f2a59a5476ecbe74956fafb423c5c87a76\", \"sha256:1d819553730d3c2724582124aee8a03c846ec4362ded1034c16fb3ef309264e6\", \"sha256:2210f28778c7d2ee13f3c2a20a3a22db889e75f4ec13a21072eabb5693801e84\", \"sha256:22521219ca739654a296eea6d4367703558fba16f98688bd8ce65abff36eaa84\", \"sha256:25405f88a37c5f5bcba01c6e350086d65e7465fd1caaf986333d2a045045a223\", \"sha256:2b65bd35f3e06a47b5c30ea99e0c2b88f72c6476eedaf8cfbc8e66adb5479dcf\", \"sha256:2ddb500a2808c100e72c075cbb00bf32e62763c82b6a882d403f01a119e3f402\", \"sha256:2f8f6c8f4f1cff93ca5058d6ec5f0efda922ecb3f4c5fb76181f327decff98b8\", \"sha256:30fa008c172355c7768159983a7270cb23838c4d7db73d6c0f6b60dde0d432c6\", \"sha256:3dbb3cea20b4af4f49f84cffaf45dd5f88e8594d18568e0225e6ad9dec0e7967\", \"sha256:4116ba9a58109ed5e4cb315bdcbff9838f3159d099ba5259c7c7fb77f8537492\", \"sha256:44e6adf67577dbdfa2d9f06db9fbc5639afefdb5bf2b4dfec25c3a7fbc619536\", \"sha256:5326ddfacbe51abf9469fe668944bc2e399181a2158cb5d45e1d40856b2a0589\", \"sha256:70adc3658138bc77a36ce769f5f183169bc0a2906a4f61f09673f7181255ac9b\", \"sha256:72be6ebb4e92520b9726d7146bc9c9b277513a57a38efcf66db0620aec0097e0\", \"sha256:7843b1624d6ccca403a610d1277f7c28ad184c5aa88a1750c1a999754e65b439\", \"sha256:7ba5a1041480c6e0a8b11a9544d53562abc2d19220bfa14133e0cdd9967e97af\", \"sha256:80efd202108c3a4150e042b269f7c78643420cc232a0a771743bb96b742f838f\", \"sha256:82f49c5a79d3839bc8f38cb5f4bfc87e15f04cbafa5fbd12fb32c941cb529cfb\", \"sha256:83d2c9db5dfc537d0171e32de160461230eb14663299b7e6d18ca6dca21e4977\", \"sha256:8d93a1095f83e908fc253f2fb569c2711414c0bfd451cab580466465b235b470\", \"sha256:8dc3d842fa41a33fe83d9f5c66c0cc1f28756530cd89944b63b072281e852031\", \"sha256:9661a04ca3c950a8ac8c47f53cbc0b530bce1b52f516a1e87b7736fec24bfff0\", \"sha256:a498bcd005e8a3fedd0022bb30ee0ad92728154a8798b703f394484452550507\", \"sha256:a7a4cf5bbdc861987a7745aed7a536c6405256853c94abc9f3287c3fa401b174\", \"sha256:b5074fb09429f2b7bc82b6fb4be8645dcbac14e592128beeff5461dcde0af09f\", \"sha256:b6a5431940f28b6de123de42f0eb47b84a073ee3c3345dc109ad550a3307dd28\", \"sha256:ba677bcaff9429fd1bf01648ad0901cea56c0d068df383d5f5856d88221fe75b\", \"sha256:bcadb05c3d4794eb9eee1dddf1c24215c92fb7b55a80beae7a60530a91060560\", \"sha256:bf7eb45d14fc036514c09554bf983f2a72323254912ed0c3c8e697b62c4c158f\", \"sha256:c358721aebd40c243894298f685a19eb0491a5c3e0b923b9f887ef1193ddf829\", \"sha256:c4550a359c5157aaf8507e6820d98682872b9100ce7607f8aa070b4b8af6c298\", \"sha256:c6572c2dab23c86a14e82c245473d45b4c515314f1f859e92608dcafbd2f19b8\", \"sha256:cba430db673c29376135e695c6e2501c44c256a81495da849e85d1793ee975ad\", \"sha256:dedc71c8eb9c5096037766390172c34fb86ef048b8e8958b4e484b9e505d66bc\", \"sha256:e6f5eb2f53fac7d408a45fbcdeda7224b1cfff64919d0f95473420a931347ae9\", \"sha256:ec2eba188c1906b05b9b49ae55aae4efd8150c61ba450e6721f64620c50b59eb\", \"sha256:ee040a7de8d295dbd261ef2d6d3192f13e2b08ec4a954de34a6fb8ff6422e24c\", \"sha256:eedd3b59190885d1ebdf6c5e0ca56828beb1949b4dfe6e5d0256a461429ac386\", \"sha256:f441422bb313ab25de7b3dbfd388e790eceb76ce01a18199ec4944b369017009\", \"sha256:f8eb7b6716f5b50e9c06207a14172cf2de201e41912ebe732846c02c830455b9\", \"sha256:fc4453705b81d03568d5b808ad8f09c77c47534f6ac2e72e733f9ca4714aa75c\"], \"markers\": \"python_version >= '3.7'\"}, \"matplotlib\": {\"version\": \"==3.4.3\", \"hashes\": [\"sha256:01c9de93a2ca0d128c9064f23709362e7fefb34910c7c9e0b8ab0de8258d5eda\", \"sha256:41b6e307458988891fcdea2d8ecf84a8c92d53f84190aa32da65f9505546e684\", \"sha256:48e1e0859b54d5f2e29bb78ca179fd59b971c6ceb29977fb52735bfd280eb0f5\", \"sha256:54a026055d5f8614f184e588f6e29064019a0aa8448450214c0b60926d62d919\", \"sha256:556965514b259204637c360d213de28d43a1f4aed1eca15596ce83f768c5a56f\", \"sha256:5c988bb43414c7c2b0a31bd5187b4d27fd625c080371b463a6d422047df78913\", \"sha256:6a724e3a48a54b8b6e7c4ae38cd3d07084508fa47c410c8757e9db9791421838\", \"sha256:6be8df61b1626e1a142c57e065405e869e9429b4a6dab4a324757d0dc4d42235\", \"sha256:844a7b0233e4ff7fba57e90b8799edaa40b9e31e300b8d5efc350937fa8b1bea\", \"sha256:85f0c9cf724715e75243a7b3087cf4a3de056b55e05d4d76cc58d610d62894f3\", \"sha256:a78a3b51f29448c7f4d4575e561f6b0dbb8d01c13c2046ab6c5220eb25c06506\", \"sha256:b884715a59fec9ad3b6048ecf3860f3b2ce965e676ef52593d6fa29abcf7d330\", \"sha256:b8b53f336a4688cfce615887505d7e41fd79b3594bf21dd300531a4f5b4f746a\", \"sha256:c70b6311dda3e27672f1bf48851a0de816d1ca6aaf3d49365fbdd8e959b33d2b\", \"sha256:ebfb01a65c3f5d53a8c2a8133fec2b5221281c053d944ae81ff5822a68266617\", \"sha256:eeb1859efe7754b1460e1d4991bbd4a60a56f366bc422ef3a9c5ae05f0bc70b5\", \"sha256:f15edcb0629a0801738925fe27070480f446fcaa15de65946ff946ad99a59a40\", \"sha256:f1c5efc278d996af8a251b2ce0b07bbeccb821f25c8c9846bdcb00ffc7f158aa\", \"sha256:f72657f1596199dc1e4e7a10f52a4784ead8a711f4e5b59bea95bdb97cf0e4fd\", \"sha256:fc4f526dfdb31c9bd6b8ca06bf9fab663ca12f3ec9cdf4496fb44bc680140318\", \"sha256:fcd6f1954943c0c192bfbebbac263f839d7055409f1173f80d8b11a224d236da\"], \"index\": \"pypi\"}, \"numpy\": {\"version\": \"==1.21.2\", \"hashes\": [\"sha256:09858463db6dd9f78b2a1a05c93f3b33d4f65975771e90d2cf7aadb7c2f66edf\", \"sha256:209666ce9d4a817e8a4597cd475b71b4878a85fa4b8db41d79fdb4fdee01dde2\", \"sha256:298156f4d3d46815eaf0fcf0a03f9625fc7631692bd1ad851517ab93c3168fc6\", \"sha256:30fc68307c0155d2a75ad19844224be0f2c6f06572d958db4e2053f816b859ad\", \"sha256:423216d8afc5923b15df86037c6053bf030d15cc9e3224206ef868c2d63dd6dc\", \"sha256:426a00b68b0d21f2deb2ace3c6d677e611ad5a612d2c76494e24a562a930c254\", \"sha256:466e682264b14982012887e90346d33435c984b7fead7b85e634903795c8fdb0\", \"sha256:51a7b9db0a2941434cd930dacaafe0fc9da8f3d6157f9d12f761bbde93f46218\", \"sha256:52a664323273c08f3b473548bf87c8145b7513afd63e4ebba8496ecd3853df13\", \"sha256:550564024dc5ceee9421a86fc0fb378aa9d222d4d0f858f6669eff7410c89bef\", \"sha256:5de64950137f3a50b76ce93556db392e8f1f954c2d8207f78a92d1f79aa9f737\", \"sha256:640c1ccfd56724f2955c237b6ccce2e5b8607c3bc1cc51d3933b8c48d1da3723\", \"sha256:7fdc7689daf3b845934d67cb221ba8d250fdca20ac0334fea32f7091b93f00d3\", \"sha256:805459ad8baaf815883d0d6f86e45b3b0b67d823a8f3fa39b1ed9c45eaf5edf1\", \"sha256:92a0ab128b07799dd5b9077a9af075a63467d03ebac6f8a93e6440abfea4120d\", \"sha256:9f2dc79c093f6c5113718d3d90c283f11463d77daa4e83aeeac088ec6a0bda52\", \"sha256:a5109345f5ce7ddb3840f5970de71c34a0ff7fceb133c9441283bb8250f532a3\", \"sha256:a55e4d81c4260386f71d22294795c87609164e22b28ba0d435850fbdf82fc0c5\", \"sha256:a9da45b748caad72ea4a4ed57e9cd382089f33c5ec330a804eb420a496fa760f\", \"sha256:b160b9a99ecc6559d9e6d461b95c8eec21461b332f80267ad2c10394b9503496\", \"sha256:b342064e647d099ca765f19672696ad50c953cac95b566af1492fd142283580f\", \"sha256:b5e8590b9245803c849e09bae070a8e1ff444f45e3f0bed558dd722119eea724\", \"sha256:bf75d5825ef47aa51d669b03ce635ecb84d69311e05eccea083f31c7570c9931\", \"sha256:c01b59b33c7c3ba90744f2c695be571a3bd40ab2ba7f3d169ffa6db3cfba614f\", \"sha256:d96a6a7d74af56feb11e9a443150216578ea07b7450f7c05df40eec90af7f4a7\", \"sha256:dd0e3651d210068d13e18503d75aaa45656eef51ef0b261f891788589db2cc38\", \"sha256:e167b9805de54367dcb2043519382be541117503ce99e3291cc9b41ca0a83557\", \"sha256:e42029e184008a5fd3d819323345e25e2337b0ac7f5c135b7623308530209d57\", \"sha256:f545c082eeb09ae678dd451a1b1dbf17babd8a0d7adea02897a76e639afca310\", \"sha256:fde50062d67d805bc96f1a9ecc0d37bfc2a8f02b937d2c50824d186aa91f2419\"], \"markers\": \"python_version < '3.11' and python_version >= '3.7'\"}, \"pillow\": {\"version\": \"==8.3.2\", \"hashes\": [\"sha256:0412516dcc9de9b0a1e0ae25a280015809de8270f134cc2c1e32c4eeb397cf30\", \"sha256:04835e68ef12904bc3e1fd002b33eea0779320d4346082bd5b24bec12ad9c3e9\", \"sha256:06d1adaa284696785375fa80a6a8eb309be722cf4ef8949518beb34487a3df71\", \"sha256:085a90a99404b859a4b6c3daa42afde17cb3ad3115e44a75f0d7b4a32f06a6c9\", \"sha256:0b9911ec70731711c3b6ebcde26caea620cbdd9dcb73c67b0730c8817f24711b\", \"sha256:10e00f7336780ca7d3653cf3ac26f068fa11b5a96894ea29a64d3dc4b810d630\", \"sha256:11c27e74bab423eb3c9232d97553111cc0be81b74b47165f07ebfdd29d825875\", \"sha256:11eb7f98165d56042545c9e6db3ce394ed8b45089a67124298f0473b29cb60b2\", \"sha256:13654b521fb98abdecec105ea3fb5ba863d1548c9b58831dd5105bb3873569f1\", \"sha256:15ccb81a6ffc57ea0137f9f3ac2737ffa1d11f786244d719639df17476d399a7\", \"sha256:18a07a683805d32826c09acfce44a90bf474e6a66ce482b1c7fcd3757d588df3\", \"sha256:19ec4cfe4b961edc249b0e04b5618666c23a83bc35842dea2bfd5dfa0157f81b\", \"sha256:1c3ff00110835bdda2b1e2b07f4a2548a39744bb7de5946dc8e95517c4fb2ca6\", \"sha256:27a330bf7014ee034046db43ccbb05c766aa9e70b8d6c5260bfc38d73103b0ba\", \"sha256:2b11c9d310a3522b0fd3c35667914271f570576a0e387701f370eb39d45f08a4\", \"sha256:2c661542c6f71dfd9dc82d9d29a8386287e82813b0375b3a02983feac69ef864\", \"sha256:2cde7a4d3687f21cffdf5bb171172070bb95e02af448c4c8b2f223d783214056\", \"sha256:2d5e9dc0bf1b5d9048a94c48d0813b6c96fccfa4ccf276d9c36308840f40c228\", \"sha256:2f23b2d3079522fdf3c09de6517f625f7a964f916c956527bed805ac043799b8\", \"sha256:35d27687f027ad25a8d0ef45dd5208ef044c588003cdcedf05afb00dbc5c2deb\", \"sha256:35d409030bf3bd05fa66fb5fdedc39c521b397f61ad04309c90444e893d05f7d\", \"sha256:4326ea1e2722f3dc00ed77c36d3b5354b8fb7399fb59230249ea6d59cbed90da\", \"sha256:4abc247b31a98f29e5224f2d31ef15f86a71f79c7f4d2ac345a5d551d6393073\", \"sha256:4d89a2e9219a526401015153c0e9dd48319ea6ab9fe3b066a20aa9aee23d9fd3\", \"sha256:4e59e99fd680e2b8b11bbd463f3c9450ab799305d5f2bafb74fefba6ac058616\", \"sha256:548794f99ff52a73a156771a0402f5e1c35285bd981046a502d7e4793e8facaa\", \"sha256:56fd98c8294f57636084f4b076b75f86c57b2a63a8410c0cd172bc93695ee979\", \"sha256:59697568a0455764a094585b2551fd76bfd6b959c9f92d4bdec9d0e14616303a\", \"sha256:6bff50ba9891be0a004ef48828e012babaaf7da204d81ab9be37480b9020a82b\", \"sha256:6cb3dd7f23b044b0737317f892d399f9e2f0b3a02b22b2c692851fb8120d82c6\", \"sha256:7dbfbc0020aa1d9bc1b0b8bcf255a7d73f4ad0336f8fd2533fcc54a4ccfb9441\", \"sha256:838eb85de6d9307c19c655c726f8d13b8b646f144ca6b3771fa62b711ebf7624\", \"sha256:8b68f565a4175e12e68ca900af8910e8fe48aaa48fd3ca853494f384e11c8bcd\", \"sha256:8f284dc1695caf71a74f24993b7c7473d77bc760be45f776a2c2f4e04c170550\", \"sha256:963ebdc5365d748185fdb06daf2ac758116deecb2277ec5ae98139f93844bc09\", \"sha256:a048dad5ed6ad1fad338c02c609b862dfaa921fcd065d747194a6805f91f2196\", \"sha256:a1bd983c565f92779be456ece2479840ec39d386007cd4ae83382646293d681b\", \"sha256:a66566f8a22561fc1a88dc87606c69b84fa9ce724f99522cf922c801ec68f5c1\", \"sha256:bcb04ff12e79b28be6c9988f275e7ab69f01cc2ba319fb3114f87817bb7c74b6\", \"sha256:bd24054aaf21e70a51e2a2a5ed1183560d3a69e6f9594a4bfe360a46f94eba83\", \"sha256:be25cb93442c6d2f8702c599b51184bd3ccd83adebd08886b682173e09ef0c3f\", \"sha256:c691b26283c3a31594683217d746f1dad59a7ae1d4cfc24626d7a064a11197d4\", \"sha256:cc9d0dec711c914ed500f1d0d3822868760954dce98dfb0b7382a854aee55d19\", \"sha256:ce2e5e04bb86da6187f96d7bab3f93a7877830981b37f0287dd6479e27a10341\", \"sha256:ce651ca46d0202c302a535d3047c55a0131a720cf554a578fc1b8a2aff0e7d96\", \"sha256:d0c8ebbfd439c37624db98f3877d9ed12c137cadd99dde2d2eae0dab0bbfc355\", \"sha256:d675a876b295afa114ca8bf42d7f86b5fb1298e1b6bb9a24405a3f6c8338811c\", \"sha256:dde3f3ed8d00c72631bc19cbfff8ad3b6215062a5eed402381ad365f82f0c18c\", \"sha256:e5a31c07cea5edbaeb4bdba6f2b87db7d3dc0f446f379d907e51cc70ea375629\", \"sha256:f514c2717012859ccb349c97862568fdc0479aad85b0270d6b5a6509dbc142e2\", \"sha256:fc0db32f7223b094964e71729c0361f93db43664dd1ec86d3df217853cedda87\", \"sha256:fd4fd83aa912d7b89b4b4a1580d30e2a4242f3936882a3f433586e5ab97ed0d5\", \"sha256:feb5db446e96bfecfec078b943cc07744cc759893cef045aa8b8b6d6aaa8274e\"], \"markers\": \"python_version >= '3.6'\"}, \"pyparsing\": {\"version\": \"==2.4.7\", \"hashes\": [\"sha256:c203ec8783bf771a155b207279b9bccb8dea02d8f0c9e5f8ead507bc3246ecc1\", \"sha256:ef9d7589ef3c200abe66653d3f1ab1033c3c419ae9b9bdb1240a85b024efc88b\"], \"markers\": \"python_version >= '2.6' and python_version not in '3.0, 3.1, 3.2, 3.3'\"}, \"python-dateutil\": {\"version\": \"==2.8.2\", \"hashes\": [\"sha256:0123cacc1627ae19ddf3c27a5de5bd67ee4586fbdd6440d9748f8abb483d3e86\", \"sha256:961d03dc3453ebbc59dbdea9e4e11c5651520a876d0f4db161e8674aae935da9\"], \"markers\": \"python_version >= '2.7' and python_version not in '3.0, 3.1, 3.2, 3.3'\"}, \"s3transfer\": {\"version\": \"==0.5.0\", \"hashes\": [\"sha256:50ed823e1dc5868ad40c8dc92072f757aa0e653a192845c94a3b676f4a62da4c\", \"sha256:9c1dc369814391a6bda20ebbf4b70a0f34630592c9aa520856bf384916af2803\"], \"markers\": \"python_version >= '3.6'\"}, \"six\": {\"version\": \"==1.16.0\", \"hashes\": [\"sha256:1e61c37477a1626458e36f7b1d82aa5c9b094fa4802892072e49de9c60c4c926\", \"sha256:8abb2f1d86890a2dfb989f9a77cfcfd3e47c2a354b01111771326f8aa26e0254\"], \"markers\": \"python_version >= '2.7' and python_version not in '3.0, 3.1, 3.2, 3.3'\"}, \"torch\": {\"version\": \"==1.9.0\", \"hashes\": [\"sha256:0164673908e6b291ace592d382eba3e258b3bad009b8078cad8f3b9e00d8f23e\", \"sha256:0a9e74b5057463ce4e55d9332a5670993fc9e1299c52e1740e505eda106fb355\", \"sha256:0aa4cca3f16fab40cb8dae6a49d0eccdc8f4ead9d1a6428cd9ba12befe082b2a\", \"sha256:117098d4924b260a24a47c6b3fe37f2ae41f04a2ea2eff9f553ae9210b12fa54\", \"sha256:1d8139dcc864f48dc316376384f50e47a459284ad1cb84449242f4964e25aaec\", \"sha256:3a2d070cf28860d285d4ab156f3954c0c1d12f4c037aa312a7c029227c0d106b\", \"sha256:52548b45efff772fe3810fe91daf34f981ac0ca1a7227f6226fd5693f53b5b88\", \"sha256:569ead6ae6bb0e636df0fc8af660ef03260e630dc5f2f4cf3198027e7b6bb481\", \"sha256:62c0a7e433681d0861494d1ede96d2485e4dbb3ea8fd867e8419addebf5de1af\", \"sha256:646de1bef85d6c7590e98f8ea52e47acdcf58330982e4f5d73f5ca28dea2d552\", \"sha256:7e2b14fe5b3a8266cbe2f6740c0195497507974ced7bc21e99971561913a0c28\", \"sha256:8a2b2012b3c7d6019e189496688fa77de7029a220840b406d8302d1c8021a11c\", \"sha256:95eeec3a6c42fd35aca552777b7d9979ed489760423de97c0118a45e849a61f4\", \"sha256:b296e65e25081af147af936f1e3a1f17f583a9afacfa5309742678ffef728ace\", \"sha256:d6103b9a634993bd967337a1149f9d8b23922f42a3660676239399e15c1b4515\", \"sha256:d88333091fd1627894bbf0d6dcef58a90e36bdf0d90a5d4675b5e07e72075511\", \"sha256:e596f0105f748cf09d4763152d8157aaf58d5231232eaf2c5673d4562ba86ad3\", \"sha256:ecc7193fff7741ced3db1f760666c8454d6664956288c54d1b49613b987a42f4\"], \"markers\": \"python_full_version >= '3.6.2'\"}, \"torchvision\": {\"version\": \"==0.10.0\", \"hashes\": [\"sha256:20a57ce42fa20c26d800c65d5b88dbaaa115a01f4f5623d41abfb182b854f199\", \"sha256:4796e1fb2995c6e495c5ea4e2b0fe0e4be44bd9416ef4a1349c1a406675cbdee\", \"sha256:487bbfd89575a52cd18bca8a33e24c373570e060f801265051c3a0aafc769720\", \"sha256:576d7b070f25cbfc78a710960fd8fa6d3961d640db05f7ace69d9a3e5bbf754a\", \"sha256:6b917d4762deaaa4c0cdd106403ea8384a1fdf93de424097bd71f3ebfdc76b41\", \"sha256:6d69bf15a6e885e3b8c674a524bc6b53016879cb8b0fd8537327edd2d243cab1\", \"sha256:9597da592f76d22d9e80a4a072294e093f8c3a06c404f3ff237f359b9225e097\", \"sha256:a30466893a5b97073c992859f3645e3e1f41daf2c1b4db6cb2ac8ec7d0e1f6bc\", \"sha256:a405d968e7e94c0744870eef31c977635e2123b0b46becc1461a28b7c27d3c0c\", \"sha256:aa709fa63896f93e03a03976230a51050fcd5f1b45cf663f62d91b7eaaf8ac09\", \"sha256:ad24107b2ed0ccc372af92822f1f8f5530907b6fb7520a08195cf0bb07446923\", \"sha256:ae9606cc248de9b3a077710529b11c57315d2914c8ee3099fbd93a62f56a1661\", \"sha256:bb04708354fb6d639f6e47d8066b0d546fbe0a3a68685cf8d413a6370c8f63ad\", \"sha256:ce2aae5567522f2a877c6334796721af07c164e94ff75876821fadb3310cfe7e\", \"sha256:d5c80cf058c0ecb010a97dc71225f5274e45c596bfad7505e0d000abcccb7063\", \"sha256:da65af25b51caf43327ecb3ccf550eedfd62d1f73511db44370b4b9522569b8d\", \"sha256:f26c5ba220445ee8e892033234485c9276304874e87ec9d5146779167be3148d\", \"sha256:f68291559a4cf1245c95efc5e47ebe158819aceec4e1f585d2fe133cd2c9d8e8\"], \"index\": \"pypi\"}, \"typing-extensions\": {\"version\": \"==3.10.0.2\", \"hashes\": [\"sha256:49f75d16ff11f1cd258e1b988ccff82a3ca5570217d7ad8c5f48205dd99a677e\", \"sha256:d8226d10bc02a29bcc81df19a26e56a9647f8b0a6d4a83924139f4a8b01f17b7\", \"sha256:f1d25edafde516b146ecd0613dabcc61409817af4766fbbcfb8d1ad4ec441a34\"]}, \"urllib3\": {\"version\": \"==1.26.6\", \"hashes\": [\"sha256:39fb8672126159acb139a7718dd10806104dec1e2f0f6c88aab05d17df10c8d4\", \"sha256:f57b4c16c62fa2760b7e3d97c35b255512fb6b59a259730f36ba32ce9f8e342f\"], \"markers\": \"python_version >= '2.7' and python_version not in '3.0, 3.1, 3.2, 3.3, 3.4' and python_version < '4'\"}}, \"develop\": {}}"
 },
 "nbformat": 4,
 "nbformat_minor": 5
}
