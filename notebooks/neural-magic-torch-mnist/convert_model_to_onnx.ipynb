{
 "cells": [
  {
   "cell_type": "markdown",
   "id": "f1d7dec4-4f3a-403b-9e6b-4450a6171d04",
   "metadata": {},
   "source": [
    "## Convert model to ONNX"
   ]
  },
  {
   "cell_type": "markdown",
   "id": "c7690be3-fdce-4933-8b39-637f0f28d435",
   "metadata": {},
   "source": [
    "## Import libraries"
   ]
  },
  {
   "cell_type": "code",
   "execution_count": 3,
   "id": "08038659-4029-4047-a341-739e648702bd",
   "metadata": {},
   "outputs": [],
   "source": [
    "import os\n",
    "import boto3\n",
    "import random\n",
    "from pathlib import Path\n",
    "from datetime import datetime\n",
    "\n",
    "import torch\n",
    "import torch.nn as nn\n",
    "from torch.autograd import Variable"
   ]
  },
  {
   "cell_type": "markdown",
   "id": "79acffba-8d51-4dbd-ae72-02402e82939c",
   "metadata": {},
   "source": [
    "# Load trained model"
   ]
  },
  {
   "cell_type": "code",
   "execution_count": 4,
   "id": "4d1de77e-1c54-4b97-8d5f-c9dae709da06",
   "metadata": {},
   "outputs": [],
   "source": [
    "# MNIST dataset parameters.\n",
    "num_classes = 10  # total classes (0-9 digits).\n",
    "\n",
    "\n",
    "class CNN(nn.Module):\n",
    "    def __init__(self):\n",
    "        super(CNN, self).__init__()\n",
    "        self.conv1 = nn.Sequential(\n",
    "            nn.Conv2d(\n",
    "                in_channels=1,\n",
    "                out_channels=32,\n",
    "                kernel_size=5,\n",
    "                stride=1,\n",
    "                padding=2,\n",
    "            ),\n",
    "            nn.ReLU(),\n",
    "            nn.MaxPool2d(kernel_size=2),\n",
    "        )\n",
    "        self.conv2 = nn.Sequential(\n",
    "            nn.Conv2d(\n",
    "                in_channels=32, out_channels=64, kernel_size=5, stride=1, padding=2\n",
    "            ),\n",
    "            nn.ReLU(),\n",
    "            nn.MaxPool2d(kernel_size=2),\n",
    "        )\n",
    "\n",
    "        # fully connected layer, output 10 classes\n",
    "        self.out = nn.Linear(64 * 7 * 7, num_classes)\n",
    "\n",
    "    def forward(self, x):\n",
    "        x = self.conv1(x)\n",
    "        x = self.conv2(x)\n",
    "        # flatten the output of conv2 to (batch_size, 32 * 7 * 7)\n",
    "        x = x.view(x.size(0), -1)\n",
    "        output = self.out(x)\n",
    "        return output, x  # return x for visualization"
   ]
  },
  {
   "cell_type": "code",
   "execution_count": 7,
   "id": "48d7feec-40cd-42a4-8614-30b2fbcd5a26",
   "metadata": {},
   "outputs": [
    {
     "data": {
      "text/plain": [
       "<All keys matched successfully>"
      ]
     },
     "execution_count": 7,
     "metadata": {},
     "output_type": "execute_result"
    }
   ],
   "source": [
    "# Path to data\n",
    "directory_path = Path.cwd().parents[0]\n",
    "trained_model_path = directory_path.joinpath(\n",
    "    str(os.environ.get(\"TRAINED_MODEL_PATH\", \"../models\"))\n",
    ")\n",
    "\n",
    "path = trained_model_path.joinpath(\"torch-210921163030-5341ad0f6f389a55\")\n",
    "trained_model = CNN()\n",
    "trained_model.load_state_dict(torch.load(f\"{path}/pytorch_model.pt\"))"
   ]
  },
  {
   "cell_type": "markdown",
   "id": "8a73f5b4-f2fa-4b4d-baf0-bfa7c4f91779",
   "metadata": {},
   "source": [
    "## Save the ONNX model to file"
   ]
  },
  {
   "cell_type": "code",
   "execution_count": 9,
   "id": "f6de31a5-6176-44f6-89b3-616d98cdc367",
   "metadata": {},
   "outputs": [],
   "source": [
    "use_ceph = bool(int(os.getenv(\"USE_CEPH\", 0)))\n",
    "automation = bool(int(os.getenv(\"AUTOMATION\", 0)))\n",
    "\n",
    "\n",
    "time_version = f\"torch-{datetime.now():%y%m%d%H%M%S}-{random.getrandbits(64):08x}\"\n",
    "\n",
    "# Path to data\n",
    "directory_path = Path.cwd().parents[0]\n",
    "trained_model_path = directory_path.joinpath(\n",
    "    str(os.environ.get(\"TRAINED_MODEL_PATH\", \"../models\"))\n",
    ")\n",
    "\n",
    "dummy_input = Variable(torch.randn(1, 1, 28, 28))\n",
    "torch.onnx.export(\n",
    "    trained_model, dummy_input, f\"{trained_model_path}/{time_version}-model.onnx\"\n",
    ")\n",
    "\n",
    "if automation or use_ceph:\n",
    "    # Download files from S3\n",
    "    s3_endpoint_url = os.environ[\"OBJECT_STORAGE_ENDPOINT_URL\"]\n",
    "    s3_access_key = os.environ[\"AWS_ACCESS_KEY_ID\"]\n",
    "    s3_secret_key = os.environ[\"AWS_SECRET_ACCESS_KEY\"]\n",
    "    s3_bucket = os.environ[\"OBJECT_STORAGE_BUCKET_NAME\"]\n",
    "\n",
    "    # Create an S3 client\n",
    "    s3 = boto3.client(\n",
    "        service_name=\"s3\",\n",
    "        aws_access_key_id=s3_access_key,\n",
    "        aws_secret_access_key=s3_secret_key,\n",
    "        endpoint_url=s3_endpoint_url,\n",
    "    )\n",
    "\n",
    "    p = Path(f\"{trained_model_path}/{time_version}_model.onnx\")\n",
    "    key = f\"{project_name}/models{p}\"\n",
    "    print(key)\n",
    "    s3.upload_file(Bucket=s3_bucket, Key=key, Filename=str(p))"
   ]
  }
 ],
 "metadata": {
  "dependency_resolution_engine": "pipenv",
  "kernelspec": {
   "display_name": "Python (nm-convert-onnx)",
   "language": "python",
   "name": "nm-convert-onnx"
  },
  "language_info": {
   "codemirror_mode": {
    "name": "ipython",
    "version": 3
   },
   "file_extension": ".py",
   "mimetype": "text/x-python",
   "name": "python",
   "nbconvert_exporter": "python",
   "pygments_lexer": "ipython3",
   "version": "3.9.7"
  },
  "requirements": "{\"packages\":{\"torch\":\"*\",\"boto3\":\"*\",\"numpy\":\"*\"},\"requires\":{\"python_version\":\"3.8\"}}",
  "requirements_lock": "{\"_meta\":{\"sources\":[],\"requires\":{\"python_version\":\"3.8\"},\"hash\":{\"sha256\":\"f706fdc8bb5bc2d58a221aec8c3b69d327e0834db4b53c1edf3fbd5e898eff82\"},\"pipfile-spec\":6},\"default\":{\"boto3\":{\"version\":\"==1.18.44\",\"hashes\":[\"sha256:3a270f002818703d5f2eef5296c2fd8b44ef21a3f3290a716ec2202da8dd464e\",\"sha256:8bc3211a7d7767c2c72ae9b226edb5eec5bb96989c83696832b8a5c35feb356a\"]},\"botocore\":{\"version\":\"==1.21.44\",\"hashes\":[\"sha256:2e134c9f799015e448086ed2b809fe50cc776f6600f093d1a44772288e61260f\",\"sha256:c7640cb49c0e009bea4ad767715acbe0d305b7007235f52422bf31b5d23be8f1\"],\"markers\":\"python_version >= '3.6'\"},\"jmespath\":{\"version\":\"==0.10.0\",\"hashes\":[\"sha256:b85d0567b8666149a93172712e68920734333c0ce7e89b78b3e987f71e5ed4f9\",\"sha256:cdf6525904cc597730141d61b36f2e4b8ecc257c420fa2f4549bac2c2d0cb72f\"],\"markers\":\"python_version >= '2.6' and python_version not in '3.0, 3.1, 3.2, 3.3'\"},\"numpy\":{\"version\":\"==1.21.2\",\"hashes\":[\"sha256:09858463db6dd9f78b2a1a05c93f3b33d4f65975771e90d2cf7aadb7c2f66edf\",\"sha256:209666ce9d4a817e8a4597cd475b71b4878a85fa4b8db41d79fdb4fdee01dde2\",\"sha256:298156f4d3d46815eaf0fcf0a03f9625fc7631692bd1ad851517ab93c3168fc6\",\"sha256:30fc68307c0155d2a75ad19844224be0f2c6f06572d958db4e2053f816b859ad\",\"sha256:423216d8afc5923b15df86037c6053bf030d15cc9e3224206ef868c2d63dd6dc\",\"sha256:426a00b68b0d21f2deb2ace3c6d677e611ad5a612d2c76494e24a562a930c254\",\"sha256:466e682264b14982012887e90346d33435c984b7fead7b85e634903795c8fdb0\",\"sha256:51a7b9db0a2941434cd930dacaafe0fc9da8f3d6157f9d12f761bbde93f46218\",\"sha256:52a664323273c08f3b473548bf87c8145b7513afd63e4ebba8496ecd3853df13\",\"sha256:550564024dc5ceee9421a86fc0fb378aa9d222d4d0f858f6669eff7410c89bef\",\"sha256:5de64950137f3a50b76ce93556db392e8f1f954c2d8207f78a92d1f79aa9f737\",\"sha256:640c1ccfd56724f2955c237b6ccce2e5b8607c3bc1cc51d3933b8c48d1da3723\",\"sha256:7fdc7689daf3b845934d67cb221ba8d250fdca20ac0334fea32f7091b93f00d3\",\"sha256:805459ad8baaf815883d0d6f86e45b3b0b67d823a8f3fa39b1ed9c45eaf5edf1\",\"sha256:92a0ab128b07799dd5b9077a9af075a63467d03ebac6f8a93e6440abfea4120d\",\"sha256:9f2dc79c093f6c5113718d3d90c283f11463d77daa4e83aeeac088ec6a0bda52\",\"sha256:a5109345f5ce7ddb3840f5970de71c34a0ff7fceb133c9441283bb8250f532a3\",\"sha256:a55e4d81c4260386f71d22294795c87609164e22b28ba0d435850fbdf82fc0c5\",\"sha256:a9da45b748caad72ea4a4ed57e9cd382089f33c5ec330a804eb420a496fa760f\",\"sha256:b160b9a99ecc6559d9e6d461b95c8eec21461b332f80267ad2c10394b9503496\",\"sha256:b342064e647d099ca765f19672696ad50c953cac95b566af1492fd142283580f\",\"sha256:b5e8590b9245803c849e09bae070a8e1ff444f45e3f0bed558dd722119eea724\",\"sha256:bf75d5825ef47aa51d669b03ce635ecb84d69311e05eccea083f31c7570c9931\",\"sha256:c01b59b33c7c3ba90744f2c695be571a3bd40ab2ba7f3d169ffa6db3cfba614f\",\"sha256:d96a6a7d74af56feb11e9a443150216578ea07b7450f7c05df40eec90af7f4a7\",\"sha256:dd0e3651d210068d13e18503d75aaa45656eef51ef0b261f891788589db2cc38\",\"sha256:e167b9805de54367dcb2043519382be541117503ce99e3291cc9b41ca0a83557\",\"sha256:e42029e184008a5fd3d819323345e25e2337b0ac7f5c135b7623308530209d57\",\"sha256:f545c082eeb09ae678dd451a1b1dbf17babd8a0d7adea02897a76e639afca310\",\"sha256:fde50062d67d805bc96f1a9ecc0d37bfc2a8f02b937d2c50824d186aa91f2419\"]},\"python-dateutil\":{\"version\":\"==2.8.2\",\"hashes\":[\"sha256:0123cacc1627ae19ddf3c27a5de5bd67ee4586fbdd6440d9748f8abb483d3e86\",\"sha256:961d03dc3453ebbc59dbdea9e4e11c5651520a876d0f4db161e8674aae935da9\"],\"markers\":\"python_version >= '2.7' and python_version not in '3.0, 3.1, 3.2, 3.3'\"},\"s3transfer\":{\"version\":\"==0.5.0\",\"hashes\":[\"sha256:50ed823e1dc5868ad40c8dc92072f757aa0e653a192845c94a3b676f4a62da4c\",\"sha256:9c1dc369814391a6bda20ebbf4b70a0f34630592c9aa520856bf384916af2803\"],\"markers\":\"python_version >= '3.6'\"},\"six\":{\"version\":\"==1.16.0\",\"hashes\":[\"sha256:1e61c37477a1626458e36f7b1d82aa5c9b094fa4802892072e49de9c60c4c926\",\"sha256:8abb2f1d86890a2dfb989f9a77cfcfd3e47c2a354b01111771326f8aa26e0254\"],\"markers\":\"python_version >= '2.7' and python_version not in '3.0, 3.1, 3.2, 3.3'\"},\"torch\":{\"version\":\"==1.9.1\",\"hashes\":[\"sha256:06435080ba0a2c8f88b65af0550b973c5aa7771eacd9b17f69057fc7436a8ae2\",\"sha256:1fb49ca0ca8edefbb3f47f6801482144c3a746ec21a65eb3f0839a1d8fb24705\",\"sha256:335961a5c893f7b33b29aecbc19382a1a1b0106b3457a1c45148e1e14f8f5e09\",\"sha256:351dda9f483486bec66ed838234e96f077e6886c88110bb1e2f4a708ed2356ce\",\"sha256:35ec703bc535bde7e8790ab9500f02d4413d995ac981520501fde95e268781e1\",\"sha256:42ca081a2e0e759844e70cad7efd8fcfb2f81634dffa73a226564eb83d989e5b\",\"sha256:54dacb6a3f63c54334fadbf22fb6e9ee865085a4e0368962edff5babda057606\",\"sha256:936d303c5e1d60259fb71d95a33e84d84fececa25a0fae112f6a23286ff183c8\",\"sha256:a198332e2d344d25e423ae2df98d56d83060f19e9f4cf23164dffc8d403efeb8\",\"sha256:b92f934b3c95578b3fd37cc06afca208d63f02b0d01b806e979cb4e46124a7f8\",\"sha256:dd3ca91dc1a9fe3fbcddf035cb2fb8be44d57a527b845cd196ba69249adecccf\",\"sha256:e470697006a4c08e4fb6a645e8ca49b0d36c8e7ccf413deef5161335bd7399f1\"]},\"typing-extensions\":{\"version\":\"==3.10.0.2\",\"hashes\":[\"sha256:49f75d16ff11f1cd258e1b988ccff82a3ca5570217d7ad8c5f48205dd99a677e\",\"sha256:d8226d10bc02a29bcc81df19a26e56a9647f8b0a6d4a83924139f4a8b01f17b7\",\"sha256:f1d25edafde516b146ecd0613dabcc61409817af4766fbbcfb8d1ad4ec441a34\"]},\"urllib3\":{\"version\":\"==1.26.6\",\"hashes\":[\"sha256:39fb8672126159acb139a7718dd10806104dec1e2f0f6c88aab05d17df10c8d4\",\"sha256:f57b4c16c62fa2760b7e3d97c35b255512fb6b59a259730f36ba32ce9f8e342f\"],\"markers\":\"python_version >= '2.7' and python_version not in '3.0, 3.1, 3.2, 3.3, 3.4' and python_version < '4'\"}},\"develop\":{}}"
 },
 "nbformat": 4,
 "nbformat_minor": 5
}
