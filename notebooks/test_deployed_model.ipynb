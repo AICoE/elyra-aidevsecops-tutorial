{
 "cells": [
  {
   "cell_type": "markdown",
   "metadata": {},
   "source": [
    "# Import libraries"
   ]
  },
  {
   "cell_type": "code",
   "execution_count": null,
   "metadata": {},
   "outputs": [],
   "source": [
    "import os\n",
    "import requests\n",
    "import json\n",
    "import os\n",
    "\n",
    "from tensorflow.keras.datasets import mnist\n",
    "import matplotlib.pyplot as plt\n",
    "import numpy as np"
   ]
  },
  {
   "cell_type": "markdown",
   "metadata": {},
   "source": [
    "## login into Openshift"
   ]
  },
  {
   "cell_type": "code",
   "execution_count": null,
   "metadata": {},
   "outputs": [],
   "source": [
    "username = os.environ['USERNAME']\n",
    "password = os.environ['PASSWORD']\n",
    "\n",
    "!oc login -u $username -p $password --insecure-skip-tls-verify https://api.cnv.massopen.cloud:6443"
   ]
  },
  {
   "cell_type": "code",
   "execution_count": 11,
   "metadata": {},
   "outputs": [
    {
     "name": "stdout",
     "output_type": "stream",
     "text": [
      "Using project \"thoth-deployment-examples\" on server \"https://api.cnv.massopen.cloud:6443\".\n"
     ]
    }
   ],
   "source": [
    "!oc project"
   ]
  },
  {
   "cell_type": "code",
   "execution_count": 2,
   "metadata": {},
   "outputs": [
    {
     "name": "stdout",
     "output_type": "stream",
     "text": [
      "Now using project \"thoth-deployment-examples\" on server \"https://api.cnv.massopen.cloud:6443\".\n"
     ]
    }
   ],
   "source": [
    "!oc project thoth-deployment-examples"
   ]
  },
  {
   "cell_type": "code",
   "execution_count": 12,
   "metadata": {},
   "outputs": [
    {
     "name": "stdout",
     "output_type": "stream",
     "text": [
      "NAME                                  READY     STATUS      RESTARTS   AGE\n",
      "elyra-aidevsecops-tutorial-2-deploy   0/1       Completed   0          12d\n",
      "elyra-aidevsecops-tutorial-2-wmml6    1/1       Running     0          12d\n"
     ]
    }
   ],
   "source": [
    "!oc get pods"
   ]
  },
  {
   "cell_type": "code",
   "execution_count": 4,
   "metadata": {},
   "outputs": [
    {
     "name": "stdout",
     "output_type": "stream",
     "text": [
      "NAME                         HOST/PORT                                                                      PATH      SERVICES                     PORT      TERMINATION   WILDCARD\n",
      "elyra-aidevsecops-tutorial   elyra-aidevsecops-tutorial-thoth-deployment-examples.apps.cnv.massopen.cloud             elyra-aidevsecops-tutorial   <all>                   None\n"
     ]
    }
   ],
   "source": [
    "!oc get routes"
   ]
  },
  {
   "cell_type": "markdown",
   "metadata": {},
   "source": [
    "## Test deployed Model"
   ]
  },
  {
   "cell_type": "code",
   "execution_count": 20,
   "metadata": {},
   "outputs": [
    {
     "data": {
      "image/png": "[encoded data removed]",
      "text/plain": [
       "<Figure size 432x288 with 1 Axes>"
      ]
     },
     "metadata": {
      "needs_background": "light"
     },
     "output_type": "display_data"
    },
    {
     "name": "stdout",
     "output_type": "stream",
     "text": [
      "The number in the image is 0 with probability 1.0\n"
     ]
    }
   ],
   "source": [
    "(x_train, y_train), (x_test, y_test) = mnist.load_data()\n",
    "\n",
    "# Convert to float32.\n",
    "x_test = np.array(x_test, np.float32)\n",
    "\n",
    "# Normalize images value from [0, 255] to [0, 1].\n",
    "x_test = x_test / 255.0\n",
    "\n",
    "addr = os.getenv(\"THOTH_AIDEVSECOPS_TUTORIAL_MODEL_URL\", \"http://elyra-aidevsecops-tutorial-thoth-deployment-examples.apps.cnv.massopen.cloud\")\n",
    "test_url = addr + \"/predict\"\n",
    "\n",
    "# prepare headers for http request\n",
    "headers = {\"content-type\": \"application/json\"}\n",
    "\n",
    "# select one test image\n",
    "img = x_test[5890]\n",
    "data = json.dumps({\"inputs\": img.tolist()})\n",
    "\n",
    "# Check which image is sent\n",
    "plt.imshow(img, cmap=\"gray\")\n",
    "plt.show(block=False)\n",
    "plt.pause(1)\n",
    "plt.close()\n",
    "\n",
    "# send http request with image and receive response\n",
    "response = requests.post(test_url, data=data, headers=headers)\n",
    "\n",
    "# decode response\n",
    "print(response.json()['response'])"
   ]
  }
 ],
 "metadata": {
  "kernelspec": {
   "display_name": "Python 3",
   "language": "python",
   "name": "python3"
  },
  "language_info": {
   "codemirror_mode": {
    "name": "ipython",
    "version": 3
   },
   "file_extension": ".py",
   "mimetype": "text/x-python",
   "name": "python",
   "nbconvert_exporter": "python",
   "pygments_lexer": "ipython3",
   "version": "3.6.8"
  }
 },
 "nbformat": 4,
 "nbformat_minor": 4
}
